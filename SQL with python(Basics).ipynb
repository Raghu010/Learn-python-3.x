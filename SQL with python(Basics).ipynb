{
 "cells": [
  {
   "cell_type": "markdown",
   "metadata": {},
   "source": [
    "# Table creation and Insert opertaion."
   ]
  },
  {
   "cell_type": "code",
   "execution_count": 2,
   "metadata": {},
   "outputs": [],
   "source": [
    "#example to create a table and insertion with sql.\n",
    "import sqlite3\n",
    "conn = sqlite3.connect('myTable.db')\n",
    "cursor = conn.cursor()\n",
    "sql_command = \"\"\"CREATE TABLE emp(\n",
    "staff_number INTEGER PRIMARY KEY,\n",
    "fname VARCHAR(30),\n",
    "lname VARCHAR(20),\n",
    "gender CHAR(1),\n",
    "joining DATE)\"\"\"\n",
    "cursor.execute(sql_command)\n",
    "sql_command = \"\"\"INSERT INTO emp VALUES(18, 'Virat', 'Kohli', 'M', '1989-11-5')\"\"\"\n",
    "cursor.execute(sql_command)\n",
    "sql_command = \"\"\"INSERT INTO emp VALUES(17, 'ABde', 'Villiares', 'M', '1985-17-2')\"\"\"\n",
    "cursor.execute(sql_command)\n",
    "conn.commit()\n",
    "conn.close()"
   ]
  },
  {
   "cell_type": "code",
   "execution_count": 3,
   "metadata": {},
   "outputs": [
    {
     "name": "stdout",
     "output_type": "stream",
     "text": [
      "(17, 'ABde', 'Villiares', 'M', '1985-17-2')\n",
      "(18, 'Virat', 'Kohli', 'M', '1989-11-5')\n"
     ]
    }
   ],
   "source": [
    "#example to demonstrate SQL to fetch data.\n",
    "import sqlite3\n",
    "conn = sqlite3.connect('myTable.db')\n",
    "cursor = conn.cursor()\n",
    "cursor.execute('SELECT*FROM emp')\n",
    "ans = cursor.fetchall()\n",
    "for i in ans:\n",
    "    print(i)"
   ]
  },
  {
   "cell_type": "markdown",
   "metadata": {},
   "source": [
    "# Update and Delete Operation."
   ]
  },
  {
   "cell_type": "code",
   "execution_count": 7,
   "metadata": {},
   "outputs": [
    {
     "name": "stdout",
     "output_type": "stream",
     "text": [
      "2\n",
      "(17, 'Sachin', 'Villiares', 'M', '1985-17-2')\n",
      "(18, 'Sachin', 'Kohli', 'M', '1989-11-5')\n"
     ]
    }
   ],
   "source": [
    "#example for updating the table.\n",
    "import sqlite3\n",
    "conn = sqlite3.connect('myTable.db')\n",
    "conn.execute(\"UPDATE emp SET fname = 'Sachin'\")\n",
    "conn.commit()\n",
    "print(conn.total_changes)\n",
    "cursor = conn.execute('SELECT*FROM emp')\n",
    "for i in cursor:\n",
    "    print(i)\n",
    "conn.close()"
   ]
  },
  {
   "cell_type": "code",
   "execution_count": 8,
   "metadata": {},
   "outputs": [
    {
     "name": "stdout",
     "output_type": "stream",
     "text": [
      "2\n"
     ]
    }
   ],
   "source": [
    "#example for delete operation.\n",
    "import sqlite3\n",
    "conn = sqlite3.connect('myTable.db')\n",
    "conn.execute(\"DELETE from emp\")\n",
    "print(conn.total_changes)\n",
    "conn.commit()\n",
    "cursor = conn.execute('SELECT*FROM emp')\n",
    "for i in cursor:\n",
    "    print(i)\n",
    "conn.close()"
   ]
  },
  {
   "cell_type": "code",
   "execution_count": 19,
   "metadata": {},
   "outputs": [
    {
     "name": "stdout",
     "output_type": "stream",
     "text": [
      "Enter 5 students names:\n"
     ]
    },
    {
     "name": "stdin",
     "output_type": "stream",
     "text": [
      " Virat\n",
      " Rohit\n",
      " AB de\n",
      " Williamson\n",
      " MSD\n"
     ]
    },
    {
     "name": "stdout",
     "output_type": "stream",
     "text": [
      "Enter their ages respectively:\n"
     ]
    },
    {
     "name": "stdin",
     "output_type": "stream",
     "text": [
      " 31\n",
      " 34\n",
      " 35\n",
      " 34\n",
      " 39\n"
     ]
    },
    {
     "name": "stdout",
     "output_type": "stream",
     "text": [
      "Enter their ids respectively:\n"
     ]
    },
    {
     "name": "stdin",
     "output_type": "stream",
     "text": [
      " 1\n",
      " 2\n",
      " 3\n",
      " 4\n",
      " 5\n"
     ]
    },
    {
     "name": "stdout",
     "output_type": "stream",
     "text": [
      "[('Virat', 31, 1), ('Rohit', 34, 2), ('AB de', 35, 3), ('Williamson', 34, 4), ('MSD', 39, 5)]\n"
     ]
    }
   ],
   "source": [
    "# code for executing query using input data \n",
    "import sqlite3 \n",
    "con = sqlite3.connect(\":memory:\") \n",
    "cur = con.cursor() \n",
    "cur.execute(\"create table person (name, age, id)\")  \n",
    "print (\"Enter 5 students names:\") \n",
    "who = [input() for i in range(5)] \n",
    "print (\"Enter their ages respectively:\") \n",
    "age = [int(input()) for i in range(5)] \n",
    "print (\"Enter their ids respectively:\") \n",
    "p_id = [int(input()) for i in range(5)] \n",
    "n = len(who) \n",
    "  \n",
    "for i in range(n): \n",
    "    cur.execute(\"insert into person values (?, ?, ?)\", (who[i], age[i], p_id[i]))  \n",
    "    cur.execute(\"select * from person\")  \n",
    "print(cur.fetchall()) "
   ]
  },
  {
   "cell_type": "code",
   "execution_count": 3,
   "metadata": {},
   "outputs": [
    {
     "name": "stdout",
     "output_type": "stream",
     "text": [
      "Enter 5 students name:\n",
      "Enter the respective Age:\n"
     ]
    },
    {
     "name": "stdin",
     "output_type": "stream",
     "text": [
      " 31\n",
      " 34\n",
      " 35\n",
      " 34\n",
      " 39\n"
     ]
    },
    {
     "name": "stdout",
     "output_type": "stream",
     "text": [
      "Enter ids:\n"
     ]
    },
    {
     "name": "stdin",
     "output_type": "stream",
     "text": [
      " 1\n",
      " 2\n",
      " 3\n",
      " 4\n",
      " 5\n"
     ]
    },
    {
     "data": {
      "image/png": "[encoded data removed]",
      "text/plain": [
       "<Figure size 432x288 with 1 Axes>"
      ]
     },
     "metadata": {
      "needs_background": "light"
     },
     "output_type": "display_data"
    }
   ],
   "source": [
    "#Visualizing the data.\n",
    "import matplotlib.pyplot as plt\n",
    "def pl(p_id, age):\n",
    "    plt.scatter(p_id, age, color = 'blue', marker = '*')\n",
    "    plt.xlabel('Persons ID')\n",
    "    plt.ylabel('Age')\n",
    "    plt.title('Scatter Plot')\n",
    "    plt.show()\n",
    "print('Enter 5 students name:')\n",
    "who = [input for _ in range(5)]\n",
    "print('Enter the respective Age:')\n",
    "age = [int(input()) for i in range(5)]\n",
    "print('Enter ids:')\n",
    "p_id = [int(input()) for j in range(5)]\n",
    "pl(p_id, age)"
   ]
  },
  {
   "cell_type": "markdown",
   "metadata": {},
   "source": [
    "# Handling Large Data"
   ]
  },
  {
   "cell_type": "code",
   "execution_count": 5,
   "metadata": {},
   "outputs": [
    {
     "name": "stdout",
     "output_type": "stream",
     "text": [
      "[(1,)]\n",
      "[(\"Dan Clarke's GFG Detective Agency\", 'Sean Simpsons', 1987)]\n"
     ]
    }
   ],
   "source": [
    "import sqlite3 \n",
    "  \n",
    "# Connection with the DataBase \n",
    "# 'library.db' \n",
    "connection = sqlite3.connect(\"library.db\") \n",
    "cursor = connection.cursor() \n",
    "  \n",
    "# SQL piece of code Executed \n",
    "# SQL piece of code Executed \n",
    "cursor.executescript(\"\"\" \n",
    "    CREATE TABLE peoplesSSSSS( \n",
    "        firstname, \n",
    "        lastname, \n",
    "        age \n",
    "    ); \n",
    "   \n",
    "    CREATE TABLE booksSSSS( \n",
    "        title, \n",
    "        author, \n",
    "        published \n",
    "    ); \n",
    "   \n",
    "    INSERT INTO \n",
    "    booksSSSS(title, author, published) \n",
    "    VALUES ( \n",
    "        'Dan Clarke''s GFG Detective Agency', \n",
    "        'Sean Simpsons', \n",
    "        1987 \n",
    "    ); \n",
    "    \"\"\") \n",
    "  \n",
    "sql = \"\"\" \n",
    "SELECT COUNT(*) FROM booksSSSS;\"\"\"\n",
    "  \n",
    "cursor.execute(sql) \n",
    "  \n",
    "# The output in fetched and returned \n",
    "# as a List by fetchall() \n",
    "result = cursor.fetchall() \n",
    "print(result) \n",
    "  \n",
    "sql = \"\"\" \n",
    "SELECT * FROM booksSSSS;\"\"\"\n",
    "  \n",
    "cursor.execute(sql) \n",
    "  \n",
    "result = cursor.fetchall() \n",
    "print(result) \n",
    "  \n",
    "# Changes saved into database \n",
    "connection.commit() \n",
    "  \n",
    "# Connection closed(broken)  \n",
    "# with DataBase \n",
    "connection.close() "
   ]
  },
  {
   "cell_type": "code",
   "execution_count": 8,
   "metadata": {},
   "outputs": [
    {
     "name": "stdout",
     "output_type": "stream",
     "text": [
      "('A', 'B', 2013)\n",
      "('C', 'D', 2014)\n",
      "('E', 'F', 2015)\n"
     ]
    }
   ],
   "source": [
    "#example to demonstrate the use of executemany().\n",
    "import sqlite3\n",
    "conn = sqlite3.connect('library.db')\n",
    "cursor = conn.cursor()\n",
    "cursor.execute(\n",
    "\"\"\"CREATE TABLE booksSS(\n",
    "title, \n",
    "author, \n",
    "published);\n",
    "\"\"\")\n",
    "li = [['A', 'B', 2013], ['C', 'D', 2014], ['E', 'F', 2015]]\n",
    "conn.executemany(\"\"\"\n",
    "INSERT INTO \n",
    "booksSS(title, author, published)\n",
    "VALUES (?, ?, ?)\"\"\", li)\n",
    "sql = \"\"\"\n",
    "        SELECT * FROM booksSS;\"\"\"\n",
    "cursor.execute(sql)\n",
    "result = cursor.fetchall()\n",
    "for _ in result:\n",
    "    print(_)\n",
    "conn.commit()\n",
    "conn.close()"
   ]
  },
  {
   "cell_type": "code",
   "execution_count": 9,
   "metadata": {},
   "outputs": [
    {
     "name": "stdout",
     "output_type": "stream",
     "text": [
      "method-1\n",
      "\n",
      "(1, 'Virat', 'Kohli', 'M', '1989-11-5')\n",
      "(2, 'ABde', 'Villiares', 'M', '1985-17-2')\n",
      "(3, 'Kane', 'Williamson', 'M', '1986-4-4')\n",
      "(4, 'MS', 'Dhoni', 'M', '1981-7-7')\n",
      "method-2\n",
      "\n",
      "(1, 'Virat', 'Kohli', 'M', '1989-11-5')\n",
      "(2, 'ABde', 'Villiares', 'M', '1985-17-2')\n",
      "(3, 'Kane', 'Williamson', 'M', '1986-4-4')\n",
      "(4, 'MS', 'Dhoni', 'M', '1981-7-7')\n"
     ]
    }
   ],
   "source": [
    "#example.\n",
    "import sqlite3\n",
    "conn = sqlite3.connect('Company.db')\n",
    "cursor = conn.cursor()\n",
    "sql = \"\"\"CREATE TABLE employeeee(\n",
    "id INTEGER PRIMARY KEY,\n",
    "firstname VARCHAR(30),\n",
    "lastname VARCHAR(20),\n",
    "gender CHAR(1),\n",
    "dob DATE)\"\"\"\n",
    "cursor.execute(sql)\n",
    "sql = \"\"\"INSERT INTO employeeee VALUES('1', 'Virat', 'Kohli', 'M', '1989-11-5')\"\"\"\n",
    "cursor.execute(sql)\n",
    "li = [['3', 'Kane', 'Williamson', 'M', '1986-4-4'],\n",
    "     ['2', 'ABde', 'Villiares', 'M', '1985-17-2'],\n",
    "     ['4', 'MS', 'Dhoni', 'M', '1981-7-7']]\n",
    "conn.executemany(\n",
    "\"\"\"INSERT INTO employeeee VALUES (?, ?, ?, ?, ?)\"\"\", li)\n",
    "print('method-1\\n')\n",
    "for _ in conn.execute('SELECT * FROM employeeee ORDER BY ID'):\n",
    "    print(_)\n",
    "print('method-2\\n')\n",
    "sql = \"\"\"SELECT * FROM employeeee ORDER BY ID\"\"\"\n",
    "cursor.execute(sql)\n",
    "ans = cursor.fetchall()\n",
    "for i in ans:\n",
    "    print(i)\n",
    "conn.commit()\n",
    "conn.close()"
   ]
  },
  {
   "cell_type": "markdown",
   "metadata": {},
   "source": [
    "# Inserting Variables to Database table using SQL."
   ]
  },
  {
   "cell_type": "markdown",
   "metadata": {},
   "source": [
    "__Steps to Create and Insert variables in database__"
   ]
  },
  {
   "cell_type": "code",
   "execution_count": 15,
   "metadata": {},
   "outputs": [],
   "source": [
    "#example for creating a database.\n",
    "import sqlite3\n",
    "conn = sqlite3.connect('pythonDB.db')\n",
    "cursor = conn.cursor()\n",
    "def create_table():\n",
    "    cursor.execute('CREATE TABLE IF NOT EXISTS RecordONE (Number REAL, Name TEXT)')\n",
    "def data_entry():\n",
    "    number = 1234\n",
    "    name = 'VK'\n",
    "    cursor.execute('INSERT INTO RecordONE (Number, Name) VALUES(?, ?)',(number, name))\n",
    "    conn.commit()\n",
    "create_table()\n",
    "data_entry()\n",
    "cursor.close()\n",
    "conn.close()"
   ]
  }
 ],
 "metadata": {
  "kernelspec": {
   "display_name": "Python 3",
   "language": "python",
   "name": "python3"
  },
  "language_info": {
   "codemirror_mode": {
    "name": "ipython",
    "version": 3
   },
   "file_extension": ".py",
   "mimetype": "text/x-python",
   "name": "python",
   "nbconvert_exporter": "python",
   "pygments_lexer": "ipython3",
   "version": "3.8.2"
  }
 },
 "nbformat": 4,
 "nbformat_minor": 4
}
