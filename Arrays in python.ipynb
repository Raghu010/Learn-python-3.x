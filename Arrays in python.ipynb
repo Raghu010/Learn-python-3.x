{
 "cells": [
  {
   "cell_type": "markdown",
   "metadata": {},
   "source": [
    "Array: Is nothing but a container with specific data type."
   ]
  },
  {
   "cell_type": "code",
   "execution_count": 7,
   "metadata": {},
   "outputs": [
    {
     "name": "stdout",
     "output_type": "stream",
     "text": [
      "array('i', [1, 2])\n",
      "<class 'array.array'>\n",
      "array('i', [1, 2, 3])\n",
      "array('i', [1, 2, 3, 4])\n"
     ]
    }
   ],
   "source": [
    "#creating an array\n",
    "#1.array(), 2.append(), 3.insert()\n",
    "import array\n",
    "a = array.array('i', [1, 2])\n",
    "print(a)\n",
    "print(type(a))\n",
    "a\n",
    "#appending an array\n",
    "a.append(3)   #adding an element at the end.\n",
    "print(a)\n",
    "#inserting an array.\n",
    "a.insert(3, 4) #is used to insert an element at a specified position\n",
    "print(a)"
   ]
  },
  {
   "cell_type": "code",
   "execution_count": 14,
   "metadata": {},
   "outputs": [
    {
     "name": "stdout",
     "output_type": "stream",
     "text": [
      "1\n",
      "2\n",
      "3\n",
      "1 2 3 4 "
     ]
    }
   ],
   "source": [
    "#creating an array using for loop.\n",
    "for i in range(0, 3):\n",
    "    print(a[i])\n",
    "a.append(4)\n",
    "for j in range(0, 4):\n",
    "    print(a[j], end = ' ')"
   ]
  },
  {
   "cell_type": "code",
   "execution_count": 20,
   "metadata": {},
   "outputs": [
    {
     "name": "stdout",
     "output_type": "stream",
     "text": [
      "array('i', [1, 2, 3])\n",
      "array('i', [2, 3])\n"
     ]
    }
   ],
   "source": [
    "#4.pop()\n",
    "a = array.array('i', [1, 2, 3, 4])\n",
    "a.pop(3) #this method is used to eliminate an element based on the index value specified.\n",
    "print(a)\n",
    "#5.remove()\n",
    "a.remove(1) #this method is used to remove specified element.\n",
    "print(a)"
   ]
  },
  {
   "cell_type": "code",
   "execution_count": 21,
   "metadata": {},
   "outputs": [
    {
     "data": {
      "text/plain": [
       "3"
      ]
     },
     "execution_count": 21,
     "metadata": {},
     "output_type": "execute_result"
    }
   ],
   "source": [
    "#6.index()\n",
    "a = array.array('i', [5, 4, 3, 2, 1])\n",
    "a.index(2)"
   ]
  },
  {
   "cell_type": "code",
   "execution_count": 24,
   "metadata": {},
   "outputs": [
    {
     "name": "stdout",
     "output_type": "stream",
     "text": [
      "array('i', [5, 4, 3, 2, 1])\n"
     ]
    }
   ],
   "source": [
    "#7.reverse()\n",
    "a = array.array('i', [1, 2, 3, 4, 5])\n",
    "a.reverse() #used to reverse an array.\n",
    "print(a)"
   ]
  },
  {
   "cell_type": "code",
   "execution_count": 6,
   "metadata": {},
   "outputs": [
    {
     "name": "stdout",
     "output_type": "stream",
     "text": [
      "f\n",
      "4\n"
     ]
    },
    {
     "data": {
      "text/plain": [
       "<function array.buffer_info()>"
      ]
     },
     "execution_count": 6,
     "metadata": {},
     "output_type": "execute_result"
    }
   ],
   "source": [
    "#8.typecode(), 9.itemsize(), 10.buffer_info()\n",
    "import array\n",
    "a = array.array('f', [1.2, 2.3, 3.4])\n",
    "print(a.typecode) #this method returns the data type initialised in the array.\n",
    "print(a.itemsize) #this method returns the item size in bytes of each array element.\n",
    "a.buffer_info #this method returns the address of the array."
   ]
  },
  {
   "cell_type": "code",
   "execution_count": 9,
   "metadata": {},
   "outputs": [
    {
     "name": "stdout",
     "output_type": "stream",
     "text": [
      "2\n",
      "array('i', [1, 2, 3, 1, 2, 5, 1, 2, 3])\n"
     ]
    }
   ],
   "source": [
    "#11.count(), 12.extend()\n",
    "import array\n",
    "a = array.array('i', [1, 2, 3, 1, 2, 5])\n",
    "print(a.count(1))   #this method is used to count the number of occurances of specified elements.\n",
    "b = array.array('i', [1, 2, 3])\n",
    "a.extend(b)\n",
    "print(a) #this method will extend the array."
   ]
  },
  {
   "cell_type": "code",
   "execution_count": 17,
   "metadata": {},
   "outputs": [
    {
     "name": "stdout",
     "output_type": "stream",
     "text": [
      "array('i', [1, 2, 3, 4, 5, 6])\n",
      "<class 'array.array'>\n",
      "<class 'array.array'>\n"
     ]
    }
   ],
   "source": [
    "#13.fromlist(list), 14.tolist()\n",
    "import array\n",
    "a = array.array('i', [1, 2, 3, 4])\n",
    "li = [5, 6]\n",
    "a.fromlist(li) #this method is used to append list to an array.\n",
    "print(a)\n",
    "b = array.array('i', [1, 2, 3])\n",
    "print(type(b))\n",
    "b.tolist()    #this method is used to convert array into list.\n",
    "print(type(b))"
   ]
  }
 ],
 "metadata": {
  "kernelspec": {
   "display_name": "Python 3",
   "language": "python",
   "name": "python3"
  },
  "language_info": {
   "codemirror_mode": {
    "name": "ipython",
    "version": 3
   },
   "file_extension": ".py",
   "mimetype": "text/x-python",
   "name": "python",
   "nbconvert_exporter": "python",
   "pygments_lexer": "ipython3",
   "version": "3.6.8"
  }
 },
 "nbformat": 4,
 "nbformat_minor": 4
}
