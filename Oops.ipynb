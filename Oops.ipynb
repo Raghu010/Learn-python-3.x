{
 "cells": [
  {
   "cell_type": "markdown",
   "metadata": {},
   "source": [
    "# Class, object and Inheritance"
   ]
  },
  {
   "cell_type": "markdown",
   "metadata": {},
   "source": [
    "Class : Is a user defined blueprint from which objects are created.\n",
    "\n",
    "\n",
    "Classes are created by keyword class."
   ]
  },
  {
   "cell_type": "markdown",
   "metadata": {},
   "source": [
    "Members : Are nothing but variables and functions defined within a class."
   ]
  },
  {
   "cell_type": "markdown",
   "metadata": {},
   "source": [
    "Note : Function defined as a member of a class is generally called as method."
   ]
  },
  {
   "cell_type": "markdown",
   "metadata": {},
   "source": [
    "Attributes : Are nothing but the members of the class."
   ]
  },
  {
   "cell_type": "markdown",
   "metadata": {},
   "source": [
    "Object : Is an instance of a class from which class attributes can be accessed."
   ]
  },
  {
   "cell_type": "markdown",
   "metadata": {},
   "source": [
    "Note : Self parameter should be passed as a default parameter to the function within the class."
   ]
  },
  {
   "cell_type": "code",
   "execution_count": 1,
   "metadata": {},
   "outputs": [
    {
     "name": "stdout",
     "output_type": "stream",
     "text": [
      "Addition 8\n",
      "subtraction 2\n",
      "multiplication 15\n",
      "division 1.6666666666666667\n",
      "floor_division 1\n",
      "modulus 2\n",
      "power 125\n"
     ]
    }
   ],
   "source": [
    "#Example to perform arithmatic operations using class.\n",
    "class cal:\n",
    "    def fn(self, a, b):\n",
    "        print('Addition', a+b)\n",
    "        print('subtraction', a-b)\n",
    "        print('multiplication', a*b)\n",
    "        print('division', a/b)\n",
    "        print('floor_division', a//b)\n",
    "        print('modulus', a%b)\n",
    "        print('power', a**b)\n",
    "ob = cal() #object\n",
    "ob.fn(5, 3)"
   ]
  },
  {
   "cell_type": "markdown",
   "metadata": {},
   "source": [
    "Inheritance : Is nothing but using the attributes and methods of one class in another."
   ]
  },
  {
   "cell_type": "markdown",
   "metadata": {},
   "source": [
    "Sub class: Is a class which inherits all the attributes and methods of another class."
   ]
  },
  {
   "cell_type": "markdown",
   "metadata": {},
   "source": [
    "Base class : Is a class from which all the attributes and methods are inherited."
   ]
  },
  {
   "cell_type": "code",
   "execution_count": 2,
   "metadata": {},
   "outputs": [
    {
     "name": "stdout",
     "output_type": "stream",
     "text": [
      "My grandparent_1 name is a and my grandparent_2 name is b they have two childs one of them is c and the other one is d then again parent_1 has two childs one of them is e and the other one is f and again the child of parent_1 has two childs one of them is g and the other one is h\n"
     ]
    }
   ],
   "source": [
    "#example for inheritance.\n",
    "class family:\n",
    "    grand_parent_1 = 'a'\n",
    "    grand_parent_2 = 'b'\n",
    "    parent_1 = 'c'\n",
    "    parent_2 = 'd'\n",
    "class parent(family):\n",
    "    parent_1_ch_1 = 'e'\n",
    "    parent_1_ch_2 = 'f'\n",
    "    parent_1_ch_1_c_1 = 'g'\n",
    "    parent_1_ch_1_c_2 = 'h'\n",
    "p = parent()\n",
    "print('My grandparent_1 name is {} and my grandparent_2 name is {} they have two childs one of them is {} and the other one is {} then again parent_1 has two childs one of them is {} and the other one is {} and again the child of parent_1 has two childs one of them is {} and the other one is {}'.format(p.grand_parent_1, p.grand_parent_2, p.parent_1, p.parent_2, p.parent_1_ch_1, p.parent_1_ch_2, p.parent_1_ch_1_c_1, p.parent_1_ch_1_c_2))"
   ]
  },
  {
   "cell_type": "code",
   "execution_count": 4,
   "metadata": {},
   "outputs": [
    {
     "name": "stdout",
     "output_type": "stream",
     "text": [
      "virat 18\n"
     ]
    }
   ],
   "source": [
    "class a:\n",
    "    number = 0\n",
    "    name = 'noname' #these are the attributes which are just like variables in python.\n",
    "def fn():\n",
    "    b = a() #this is an object created for class 'a'\n",
    "    b.number = 18\n",
    "    b.name = 'virat'\n",
    "    print(b.name + \" \" + str(b.number))\n",
    "if __name__=='__main__':\n",
    "    fn()"
   ]
  },
  {
   "cell_type": "markdown",
   "metadata": {},
   "source": [
    "Note: While defining a function inside a class a paremeter called self is always passed."
   ]
  },
  {
   "cell_type": "code",
   "execution_count": 5,
   "metadata": {},
   "outputs": [
    {
     "name": "stdout",
     "output_type": "stream",
     "text": [
      "11\n"
     ]
    }
   ],
   "source": [
    "class a:\n",
    "    def b(self, x, y):\n",
    "        self.x = x\n",
    "        self.y = y #these are the class methods\n",
    "def main():\n",
    "    c = a()\n",
    "    c.b(5, 6)\n",
    "    print(c.x+c.y)\n",
    "if __name__=='__main__':\n",
    "    main()"
   ]
  },
  {
   "cell_type": "markdown",
   "metadata": {},
   "source": [
    "Inheritance: Inheritance is defined as a way in which a particular class inherits features from its base class.Base class is also knows as ‘Superclass’ and the class which inherits from the Superclass is knows as ‘Subclass’"
   ]
  },
  {
   "cell_type": "code",
   "execution_count": 8,
   "metadata": {},
   "outputs": [
    {
     "name": "stdout",
     "output_type": "stream",
     "text": [
      "tommy 7 female\n"
     ]
    }
   ],
   "source": [
    "class pet:\n",
    "    def __init__(self, name, age): #this is the constructor in python\n",
    "        self.name = name\n",
    "        self.age = age \n",
    "class dog(pet):\n",
    "    def __init__(self, gender):\n",
    "        self.gender = gender\n",
    "d = dog('toomy')\n",
    "d.name = 'tommy'\n",
    "d.age = 7\n",
    "d.gender = 'female'\n",
    "print(d.name, d.age, d.gender)"
   ]
  },
  {
   "cell_type": "markdown",
   "metadata": {},
   "source": [
    "Iterators: Iterators are objects that can be iterated upon.\n",
    "\n",
    "Python uses the __iter__() method to return an iterator object of the class.\n",
    "\n",
    "\n",
    "The iterator object then uses the __next__() method to get the next item.\n",
    "\n",
    "\n",
    "for loops stops when StopIteration Exception is raised."
   ]
  },
  {
   "cell_type": "code",
   "execution_count": 15,
   "metadata": {},
   "outputs": [
    {
     "name": "stdout",
     "output_type": "stream",
     "text": [
      "god"
     ]
    }
   ],
   "source": [
    "class reverse:\n",
    "    def __init__(self, data): #is run when an object is created\n",
    "        self.data = data\n",
    "        self.index = len(data)\n",
    "    def __iter__(self):\n",
    "        return self\n",
    "    def __next__(self):\n",
    "        if(self.index == 0):\n",
    "            raise StopIteration\n",
    "        self.index -= 1\n",
    "        return self.data[self.index]\n",
    "def main():\n",
    "    rev = reverse('dog')\n",
    "    for char in rev:\n",
    "        print(char, end = '')\n",
    "if __name__=='__main__':\n",
    "    main()"
   ]
  },
  {
   "cell_type": "code",
   "execution_count": 17,
   "metadata": {},
   "outputs": [
    {
     "name": "stdout",
     "output_type": "stream",
     "text": [
      "Hello\n"
     ]
    }
   ],
   "source": [
    "class a:\n",
    "    def fn(self):\n",
    "        print('Hello')\n",
    "b = a()\n",
    "b.fn()"
   ]
  },
  {
   "cell_type": "code",
   "execution_count": 20,
   "metadata": {},
   "outputs": [
    {
     "name": "stdout",
     "output_type": "stream",
     "text": [
      "Hello Im Virat\n"
     ]
    }
   ],
   "source": [
    "class a:\n",
    "    def __init__(self, name):\n",
    "        self.name = name\n",
    "    def fn(self):\n",
    "        print('Hello Im', self.name)\n",
    "b = a('Virat')\n",
    "b.fn()"
   ]
  },
  {
   "cell_type": "code",
   "execution_count": 22,
   "metadata": {},
   "outputs": [
    {
     "name": "stdout",
     "output_type": "stream",
     "text": [
      "101\n",
      "102\n",
      "EEE\n"
     ]
    }
   ],
   "source": [
    "class csstudent:\n",
    "    stream = 'EEE'\n",
    "    def __init__(self, roll):\n",
    "        self.roll = roll\n",
    "a = csstudent(101)\n",
    "b = csstudent(102)\n",
    "print(a.roll)\n",
    "print(b.roll)\n",
    "print(csstudent.stream)"
   ]
  },
  {
   "cell_type": "code",
   "execution_count": 26,
   "metadata": {},
   "outputs": [
    {
     "name": "stdout",
     "output_type": "stream",
     "text": [
      "Bangalore\n"
     ]
    }
   ],
   "source": [
    "class eestudent:\n",
    "    stream = 'EEE'\n",
    "    def __init__(self, roll):\n",
    "        self.roll = roll\n",
    "    def setAddress(self, address):\n",
    "        self.address = address\n",
    "    def getAddress(self):\n",
    "        return self.address\n",
    "a = eestudent(101)\n",
    "a.setAddress('Bangalore')\n",
    "print(a.getAddress())"
   ]
  },
  {
   "cell_type": "markdown",
   "metadata": {},
   "source": [
    "Note: Empty class in python can be created using pass statement."
   ]
  },
  {
   "cell_type": "code",
   "execution_count": 27,
   "metadata": {},
   "outputs": [],
   "source": [
    "class a:\n",
    "    pass"
   ]
  },
  {
   "cell_type": "code",
   "execution_count": 4,
   "metadata": {},
   "outputs": [
    {
     "name": "stdout",
     "output_type": "stream",
     "text": [
      "2\n"
     ]
    },
    {
     "ename": "AttributeError",
     "evalue": "'A' object has no attribute '__a'",
     "output_type": "error",
     "traceback": [
      "\u001b[1;31m---------------------------------------------------------------------------\u001b[0m",
      "\u001b[1;31mAttributeError\u001b[0m                            Traceback (most recent call last)",
      "\u001b[1;32m<ipython-input-4-9c5f6c31c0b4>\u001b[0m in \u001b[0;36m<module>\u001b[1;34m\u001b[0m\n\u001b[0;32m      6\u001b[0m \u001b[0mx\u001b[0m \u001b[1;33m=\u001b[0m \u001b[0mA\u001b[0m\u001b[1;33m(\u001b[0m\u001b[1;33m)\u001b[0m\u001b[1;33m\u001b[0m\u001b[1;33m\u001b[0m\u001b[0m\n\u001b[0;32m      7\u001b[0m \u001b[0mx\u001b[0m\u001b[1;33m.\u001b[0m\u001b[0minc\u001b[0m\u001b[1;33m(\u001b[0m\u001b[1;36m2\u001b[0m\u001b[1;33m)\u001b[0m\u001b[1;33m\u001b[0m\u001b[1;33m\u001b[0m\u001b[0m\n\u001b[1;32m----> 8\u001b[1;33m \u001b[0mprint\u001b[0m\u001b[1;33m(\u001b[0m\u001b[0mx\u001b[0m\u001b[1;33m.\u001b[0m\u001b[0m__a\u001b[0m\u001b[1;33m)\u001b[0m\u001b[1;33m\u001b[0m\u001b[1;33m\u001b[0m\u001b[0m\n\u001b[0m",
      "\u001b[1;31mAttributeError\u001b[0m: 'A' object has no attribute '__a'"
     ]
    }
   ],
   "source": [
    "class A:\n",
    "    __a = 0 #hidden variable inside a class\n",
    "    def inc(self, b):\n",
    "        self.__a += b\n",
    "        print(self.__a)\n",
    "x = A()\n",
    "x.inc(2)\n",
    "print(x.__a)"
   ]
  },
  {
   "cell_type": "markdown",
   "metadata": {},
   "source": [
    "Note: In the above program, we tried to access hidden variable outside the class using object and it threw an exception."
   ]
  },
  {
   "cell_type": "code",
   "execution_count": 9,
   "metadata": {},
   "outputs": [
    {
     "name": "stdout",
     "output_type": "stream",
     "text": [
      "10\n"
     ]
    }
   ],
   "source": [
    "#Accessing the value of hidden variable using tricky syntax.\n",
    "class A: \n",
    "  \n",
    "    __a = 10\n",
    "   \n",
    "x = A()      \n",
    "print(x._A__a) "
   ]
  },
  {
   "cell_type": "markdown",
   "metadata": {},
   "source": [
    "Note: We can access the value of hidden attribute by a tricky syntax as shown in the above example."
   ]
  },
  {
   "cell_type": "markdown",
   "metadata": {},
   "source": [
    "Printing Objects: Printing objects gives us information about objects we are working with."
   ]
  },
  {
   "cell_type": "code",
   "execution_count": 14,
   "metadata": {},
   "outputs": [
    {
     "name": "stdout",
     "output_type": "stream",
     "text": [
      "From str method of Test: a is 1234, b is 5678\n",
      "[Test a:1234 b5678]\n"
     ]
    }
   ],
   "source": [
    "class Test:\n",
    "    def __init__(self, a, b):\n",
    "        self.a = a\n",
    "        self.b = b\n",
    "    def __repr__(self):\n",
    "        return 'Test a:%s b%s'%(self.a, self.b)\n",
    "    def __str__(self):\n",
    "        return \"From str method of Test: a is %s, b is %s\"%(self.a, self.b)\n",
    "t = Test(1234, 5678)\n",
    "print(t) #this calls __str__\n",
    "print([t]) #this calls __repr__"
   ]
  },
  {
   "cell_type": "code",
   "execution_count": 16,
   "metadata": {},
   "outputs": [
    {
     "name": "stdout",
     "output_type": "stream",
     "text": [
      "AB False\n",
      "Virat True\n"
     ]
    }
   ],
   "source": [
    "#example for inheritence\n",
    "class person:\n",
    "    def __init__(self, name):\n",
    "        self.name = name\n",
    "    def getName(self):\n",
    "        return self.name\n",
    "    def isEmp(self):\n",
    "        return False\n",
    "class Employee(person):\n",
    "    def isEmp(self):\n",
    "        return True\n",
    "emp = person('AB')\n",
    "print(emp.getName(), emp.isEmp())\n",
    "\n",
    "emp = Employee('Virat')\n",
    "print(emp.getName(), emp.isEmp())"
   ]
  },
  {
   "cell_type": "markdown",
   "metadata": {},
   "source": [
    "Note: Issubclass() is a function that directly tells us if a class is subclass of another class."
   ]
  },
  {
   "cell_type": "code",
   "execution_count": 18,
   "metadata": {},
   "outputs": [
    {
     "name": "stdout",
     "output_type": "stream",
     "text": [
      "True\n",
      "False\n",
      "True\n",
      "False\n"
     ]
    }
   ],
   "source": [
    "#example demonstrating above example\n",
    "class base(object):\n",
    "    pass\n",
    "class derived(base):\n",
    "    pass\n",
    "print(issubclass(derived, base))\n",
    "print(issubclass(base, derived))\n",
    "d = derived()\n",
    "b = base()\n",
    "print(isinstance(d, base))\n",
    "print(isinstance(b, derived))"
   ]
  },
  {
   "cell_type": "code",
   "execution_count": 20,
   "metadata": {},
   "outputs": [
    {
     "name": "stdout",
     "output_type": "stream",
     "text": [
      "Base1\n",
      "Base2\n",
      "Derived\n",
      "Virat AB\n"
     ]
    }
   ],
   "source": [
    "#example demonstarting the multiple inheritance\n",
    "class Base1(object):\n",
    "    def __init__(self):\n",
    "        self.str1 = 'Virat'\n",
    "        print('Base1')\n",
    "class Base2(object):\n",
    "    def __init__(self):\n",
    "        self.str2 = 'AB'\n",
    "        print('Base2')\n",
    "class Derived(Base1, Base2):\n",
    "    def __init__(self):\n",
    "        Base1.__init__(self)\n",
    "        Base2.__init__(self)\n",
    "        print('Derived')\n",
    "    def dis(self):\n",
    "        print(self.str1, self.str2)\n",
    "d = Derived()\n",
    "d.dis()"
   ]
  },
  {
   "cell_type": "markdown",
   "metadata": {},
   "source": [
    "# Polymorphism in Python"
   ]
  },
  {
   "cell_type": "markdown",
   "metadata": {},
   "source": [
    "Polymorphism means having many forms.  In programming, polymorphism means same function name (but different signatures) being used for different types."
   ]
  },
  {
   "cell_type": "code",
   "execution_count": 2,
   "metadata": {},
   "outputs": [
    {
     "name": "stdout",
     "output_type": "stream",
     "text": [
      "7\n",
      "3\n"
     ]
    }
   ],
   "source": [
    "#example for inbuilt polymorphic functions.\n",
    "print(len('Cricket'))\n",
    "print(len([1, 2, 3])) #note: here len is used to find the length of both string as well as list."
   ]
  },
  {
   "cell_type": "code",
   "execution_count": 3,
   "metadata": {},
   "outputs": [
    {
     "name": "stdout",
     "output_type": "stream",
     "text": [
      "5\n",
      "9\n"
     ]
    }
   ],
   "source": [
    "#example for user-defined polymorphism.\n",
    "def add(x, y, z = 0):\n",
    "    return x+y+z\n",
    "print(add(2, 3))\n",
    "print(add(2, 3, 4))"
   ]
  },
  {
   "cell_type": "code",
   "execution_count": 4,
   "metadata": {},
   "outputs": [
    {
     "name": "stdout",
     "output_type": "stream",
     "text": [
      "Delhi is the capital of India\n",
      "Hindi is the official language\n",
      "India is a developing country\n",
      "Washington D.C. is the capital of India\n",
      "English is the primary language\n",
      "usa is a developed country\n"
     ]
    }
   ],
   "source": [
    "#polymorphism with class methods.\n",
    "class ind():\n",
    "    def cap(self):\n",
    "        print('Delhi is the capital of India')\n",
    "    def lan(self):\n",
    "        print('Hindi is the official language')\n",
    "    def type(self):\n",
    "        print('India is a developing country')\n",
    "class usa():\n",
    "    def cap(self):\n",
    "        print('Washington D.C. is the capital of India')\n",
    "    def lan(self):\n",
    "        print('English is the primary language')\n",
    "    def type(self):\n",
    "        print('usa is a developed country')\n",
    "in_ob = ind()\n",
    "us_ob = usa()\n",
    "for i in (in_ob, us_ob):\n",
    "    i.cap()\n",
    "    i.lan()\n",
    "    i.type()"
   ]
  },
  {
   "cell_type": "markdown",
   "metadata": {},
   "source": [
    "Note: In Python, Polymorphism lets us define methods in the child class that have the same name as the methods in the parent class. In inheritance, the child class inherits the methods from the parent class. However, it is possible to modify a method in a child class that it has inherited from the parent class. This is particularly useful in cases where the method inherited from the parent class doesn’t quite fit the child class. In such cases, we re-implement the method in the child class. This process of re-implementing a method in the child class is known as Method Overriding."
   ]
  },
  {
   "cell_type": "code",
   "execution_count": 5,
   "metadata": {},
   "outputs": [
    {
     "name": "stdout",
     "output_type": "stream",
     "text": [
      "There are many type of birds\n",
      "Many birds can fly\n",
      "There are many type of birds\n",
      "Sparrow can fly\n",
      "There are many type of birds\n",
      "Ostrich can not fly\n"
     ]
    }
   ],
   "source": [
    "#example polymorphism with inheritance.\n",
    "class bird():\n",
    "    def intro(self):\n",
    "        print('There are many type of birds')\n",
    "    def flight(self):\n",
    "        print('Many birds can fly')\n",
    "class sparrow(bird):\n",
    "    def flight(self):\n",
    "        print('Sparrow can fly')\n",
    "class ostrich(bird):\n",
    "    def flight(self):\n",
    "        print('Ostrich can not fly')\n",
    "ob_bi = bird()\n",
    "ob_sp = sparrow()\n",
    "ob_os = ostrich()\n",
    "\n",
    "ob_bi.intro()\n",
    "ob_bi.flight()\n",
    "\n",
    "ob_sp.intro()\n",
    "ob_sp.flight()\n",
    "\n",
    "ob_os.intro()\n",
    "ob_os.flight()"
   ]
  },
  {
   "cell_type": "code",
   "execution_count": 6,
   "metadata": {},
   "outputs": [
    {
     "name": "stdout",
     "output_type": "stream",
     "text": [
      "Delhi is the capital of India\n",
      "Hindi is the official language\n",
      "India is a developing country\n",
      "Washington D.C. is the capital of India\n",
      "English is the primary language\n",
      "usa is a developed country\n"
     ]
    }
   ],
   "source": [
    "# example implementing polymorphism with function.\n",
    "class ind():\n",
    "    def cap(self):\n",
    "        print('Delhi is the capital of India')\n",
    "    def lan(self):\n",
    "        print('Hindi is the official language')\n",
    "    def type(self):\n",
    "        print('India is a developing country')\n",
    "class usa():\n",
    "    def cap(self):\n",
    "        print('Washington D.C. is the capital of India')\n",
    "    def lan(self):\n",
    "        print('English is the primary language')\n",
    "    def type(self):\n",
    "        print('usa is a developed country')\n",
    "def fn(obj):\n",
    "    obj.cap()\n",
    "    obj.lan()\n",
    "    obj.type()\n",
    "ob_in = ind()\n",
    "ob_us = usa()\n",
    "fn(ob_in)\n",
    "fn(ob_us)"
   ]
  },
  {
   "cell_type": "code",
   "execution_count": 4,
   "metadata": {},
   "outputs": [
    {
     "name": "stdout",
     "output_type": "stream",
     "text": [
      "30\n",
      "30\n",
      "True\n"
     ]
    }
   ],
   "source": [
    "from datetime import date\n",
    "class Person:\n",
    "    def __init__(self, name, age):\n",
    "        self.name = name\n",
    "        self.age = age\n",
    "    @classmethod\n",
    "    def frombirthyear(cls, name, year):\n",
    "        return cls(name, date.today().year-year)\n",
    "    @staticmethod\n",
    "    def isAdult(age):\n",
    "        return age>18\n",
    "person1 = Person('Virat', 30)\n",
    "person2 = Person.frombirthyear('Virat', 1990)\n",
    "\n",
    "print(person1.age)\n",
    "print(person2.age)\n",
    "\n",
    "print(Person.isAdult(30))"
   ]
  },
  {
   "cell_type": "code",
   "execution_count": 1,
   "metadata": {},
   "outputs": [
    {
     "name": "stdout",
     "output_type": "stream",
     "text": [
      "Initially\n",
      "cse\n",
      "cse\n",
      "After changing\n",
      "ece\n",
      "cse\n"
     ]
    }
   ],
   "source": [
    "#example for changing the class member in python.\n",
    "class CSSstudent:\n",
    "    stream = 'cse'\n",
    "    def __init__(self, name, roll):\n",
    "        self.name = name\n",
    "        self.roll = roll\n",
    "a = CSSstudent('virat', 31)\n",
    "b = CSSstudent('AB', 34)\n",
    "print('Initially')\n",
    "print(a.stream)\n",
    "print(b.stream)\n",
    "a.stream = 'ece' #you can not change class variable using object.\n",
    "print('After changing')\n",
    "print(a.stream)\n",
    "print(b.stream)"
   ]
  },
  {
   "cell_type": "markdown",
   "metadata": {},
   "source": [
    "Note: We can only change class variables using class name."
   ]
  },
  {
   "cell_type": "code",
   "execution_count": 3,
   "metadata": {},
   "outputs": [
    {
     "name": "stdout",
     "output_type": "stream",
     "text": [
      "cse\n",
      "ece\n"
     ]
    }
   ],
   "source": [
    "#example demonstrating above note.\n",
    "class CSSstudent:\n",
    "    stream = 'cse'\n",
    "    def __init__(self, name, roll):\n",
    "        self.name = name\n",
    "        self.roll = roll\n",
    "a = CSSstudent('virat', 31)\n",
    "print(a.stream)\n",
    "CSSstudent.stream = 'ece'\n",
    "b = CSSstudent('AB', 34)\n",
    "print(b.stream)"
   ]
  },
  {
   "cell_type": "markdown",
   "metadata": {},
   "source": [
    "# Constructors in python"
   ]
  },
  {
   "cell_type": "markdown",
   "metadata": {},
   "source": [
    "Constructors are generally used for instantiating an object.The task of constructors is to initialize(assign values) to the data members of the class when an object of class is created.In Python the __init__() method is called the constructor and is always called when an object is created."
   ]
  },
  {
   "cell_type": "markdown",
   "metadata": {},
   "source": [
    "There are two types of constructors in python.\n",
    "\n",
    "1. __Default__ Constructor.\n",
    "\n",
    "2. __Parameterized__ Constructor."
   ]
  },
  {
   "cell_type": "markdown",
   "metadata": {},
   "source": [
    "The default constructor is simple constructor which doesn’t accept any arguments.It’s definition has only one argument which is a reference to the instance being constructed.\n",
    "\n",
    "Constructor with parameters is known as parameterized constructor.The parameterized constructor take its first argument as a reference to the instance being constructed known as self and the rest of the arguments are provided by the programmer."
   ]
  },
  {
   "cell_type": "code",
   "execution_count": 13,
   "metadata": {},
   "outputs": [
    {
     "name": "stdout",
     "output_type": "stream",
     "text": [
      "AB\n"
     ]
    }
   ],
   "source": [
    "class A: \n",
    "    name = \"\"  \n",
    "    def __init__(self): #default constructor\n",
    "        self.name = \"AB\" \n",
    "    def print_name(self): \n",
    "        print(self.name)  \n",
    "obj = A() \n",
    "obj.print_name() "
   ]
  },
  {
   "cell_type": "code",
   "execution_count": 15,
   "metadata": {},
   "outputs": [
    {
     "name": "stdout",
     "output_type": "stream",
     "text": [
      "First = 2000\n",
      "Second = 1000\n",
      "Answer =1000\n"
     ]
    }
   ],
   "source": [
    "class Subtraction:\n",
    "    first = 0\n",
    "    second = 0\n",
    "    answer = 0\n",
    "    def __init__(self, f, s): #parameterized constructor\n",
    "        self.first = f\n",
    "        self.second = s\n",
    "    def display(self):\n",
    "        print('First = '+ str(self.first))\n",
    "        print('Second = '+ str(self.second))\n",
    "        print('Answer ='+str(self.answer))\n",
    "    def calculate(self):\n",
    "        self.answer = self.first - self.second\n",
    "ob = Subtraction(2000, 1000)\n",
    "ob.calculate()\n",
    "ob.display()"
   ]
  },
  {
   "cell_type": "markdown",
   "metadata": {},
   "source": [
    "# Destructors in python"
   ]
  },
  {
   "cell_type": "markdown",
   "metadata": {},
   "source": [
    "Destrucors are called when an object gets destroyed.  In Python, destructors are not needed as much needed in C++ because Python has a garbage collector that handles memory management automatically.\n",
    "\n",
    "The _____del_____() method is known as destructor in python. It is called when all references to the object have been deleted i.e when an object is garbage collected."
   ]
  },
  {
   "cell_type": "code",
   "execution_count": 16,
   "metadata": {},
   "outputs": [
    {
     "name": "stdout",
     "output_type": "stream",
     "text": [
      "Created\n",
      "Destructor is called\n"
     ]
    }
   ],
   "source": [
    "#example demonstrating usage of destructor in python.\n",
    "class A:\n",
    "    def __init__(self):\n",
    "        print('Created')\n",
    "    def __del__(self):\n",
    "        print('Destructor is called')\n",
    "a = A()\n",
    "del a"
   ]
  },
  {
   "cell_type": "markdown",
   "metadata": {},
   "source": [
    "Note : The destructor was called after the program ended or when all the references to object are deleted i.e when the reference count becomes zero, not when object went out of scope."
   ]
  },
  {
   "cell_type": "code",
   "execution_count": 20,
   "metadata": {},
   "outputs": [
    {
     "name": "stdout",
     "output_type": "stream",
     "text": [
      "calling make_ob func...\n",
      "Making object...\n",
      "Created\n",
      "func end....\n",
      "Program end\n"
     ]
    }
   ],
   "source": [
    "class A:\n",
    "    def __init__(self):\n",
    "        print('Created')\n",
    "    def __del__(self):\n",
    "        print('Destructor called')\n",
    "def make_ob():\n",
    "    print('Making object...')\n",
    "    ob = A()\n",
    "    print('func end....')\n",
    "    return ob\n",
    "print('calling make_ob func...')\n",
    "ob = make_ob()\n",
    "print('Program end')"
   ]
  },
  {
   "cell_type": "markdown",
   "metadata": {},
   "source": [
    "# str() v/s repr() in python"
   ]
  },
  {
   "cell_type": "markdown",
   "metadata": {},
   "source": [
    "str() and repr() are both used to string represention of an object."
   ]
  },
  {
   "cell_type": "code",
   "execution_count": 1,
   "metadata": {},
   "outputs": [
    {
     "name": "stdout",
     "output_type": "stream",
     "text": [
      "Hello World\n",
      "17.692307692307693\n"
     ]
    }
   ],
   "source": [
    "#example of str()\n",
    "a = 'Hello World'\n",
    "print(str(a))\n",
    "print(str(230/13))"
   ]
  },
  {
   "cell_type": "code",
   "execution_count": 4,
   "metadata": {},
   "outputs": [
    {
     "name": "stdout",
     "output_type": "stream",
     "text": [
      "'Hello World'\n",
      "17.692307692307693\n"
     ]
    }
   ],
   "source": [
    "#example of repr()\n",
    "b = 'Hello World'\n",
    "print(repr(b))\n",
    "print(repr(230/13))"
   ]
  },
  {
   "cell_type": "code",
   "execution_count": 5,
   "metadata": {},
   "outputs": [
    {
     "name": "stdout",
     "output_type": "stream",
     "text": [
      "2020-02-22 14:56:44.219302\n",
      "datetime.datetime(2020, 2, 22, 14, 56, 44, 219302)\n"
     ]
    }
   ],
   "source": [
    "import datetime\n",
    "a = datetime.datetime.now()\n",
    "print(str(a))\n",
    "print(repr(a))"
   ]
  },
  {
   "cell_type": "code",
   "execution_count": 7,
   "metadata": {},
   "outputs": [
    {
     "name": "stdout",
     "output_type": "stream",
     "text": [
      "10 + i20\n",
      "Rational(10, 20)\n"
     ]
    }
   ],
   "source": [
    "class complex:\n",
    "    def __init__(self, real, imag):\n",
    "        self.real = real\n",
    "        self.imag = imag\n",
    "    def __repr__(self):\n",
    "        return 'Rational(%s, %s)'%(self.real, self.imag)\n",
    "    def __str__(self):\n",
    "        return '%s + i%s'%(self.real, self.imag)\n",
    "t = complex(10, 20)\n",
    "print(str(t))\n",
    "print(repr(t))"
   ]
  },
  {
   "cell_type": "code",
   "execution_count": 8,
   "metadata": {},
   "outputs": [
    {
     "name": "stdout",
     "output_type": "stream",
     "text": [
      "<class 'int'>\n",
      "<class 'list'>\n",
      "<class 'str'>\n"
     ]
    }
   ],
   "source": [
    "#examples using type function.\n",
    "a = 3\n",
    "print(type(a))\n",
    "l = [1, 2, 3]\n",
    "print(type(l))\n",
    "b = 'hello'\n",
    "print(type(b))"
   ]
  },
  {
   "cell_type": "markdown",
   "metadata": {},
   "source": [
    "Note: Every type in Python is defined by Class. So in above example, unlike C or Java where int, char, float are primary data types, in Python they are object of int class or str class. So we can make a new type by creating a class of that type. For example we can create a new type Student by creating Student class."
   ]
  },
  {
   "cell_type": "code",
   "execution_count": 9,
   "metadata": {},
   "outputs": [
    {
     "name": "stdout",
     "output_type": "stream",
     "text": [
      "<class '__main__.student'>\n"
     ]
    }
   ],
   "source": [
    "#example.\n",
    "class student:\n",
    "    pass\n",
    "st_ob = student()\n",
    "print(type(st_ob))"
   ]
  },
  {
   "cell_type": "markdown",
   "metadata": {},
   "source": [
    "# Class and Instance Attribute in Python."
   ]
  },
  {
   "cell_type": "markdown",
   "metadata": {},
   "source": [
    "Class Attributes belongs to class instance, they will be shared by all the instances. Such attributes are defined in the class body."
   ]
  },
  {
   "cell_type": "code",
   "execution_count": 2,
   "metadata": {},
   "outputs": [
    {
     "name": "stdout",
     "output_type": "stream",
     "text": [
      "1\n",
      "2\n",
      "2\n"
     ]
    }
   ],
   "source": [
    "class sampleclass:\n",
    "    count = 0\n",
    "    def increase(self):\n",
    "        sampleclass.count += 1\n",
    "s1 = sampleclass()\n",
    "s1.increase()\n",
    "print(s1.count)\n",
    "s2 = sampleclass()\n",
    "s2.increase()\n",
    "print(s2.count)\n",
    "print(sampleclass.count)"
   ]
  },
  {
   "cell_type": "markdown",
   "metadata": {},
   "source": [
    "Instance Attributes: Unlike class attributes instance attributes are not shared by all the objects. Every object has it's own copy of instance attribute.\n",
    "\n",
    "To list the attributes of an object we have two functions:\n",
    "\n",
    "1.vars() : This function displays the object attributes in dictionary format.\n",
    "\n",
    "2.dir() : Whereas this function displays more attributes than vars function. This displays class attributes as well. "
   ]
  },
  {
   "cell_type": "code",
   "execution_count": 6,
   "metadata": {},
   "outputs": [
    {
     "name": "stdout",
     "output_type": "stream",
     "text": [
      "{'name': 'XYZ', 'age': 20}\n",
      "['__class__', '__delattr__', '__dict__', '__dir__', '__doc__', '__eq__', '__format__', '__ge__', '__getattribute__', '__gt__', '__hash__', '__init__', '__init_subclass__', '__le__', '__lt__', '__module__', '__ne__', '__new__', '__reduce__', '__reduce_ex__', '__repr__', '__setattr__', '__sizeof__', '__str__', '__subclasshook__', '__weakref__', 'age', 'name', 'show']\n"
     ]
    }
   ],
   "source": [
    "class emp:\n",
    "    def __init__(self, name, age):\n",
    "        self.name = name\n",
    "        self.age = age\n",
    "    def show(self):\n",
    "        print(self.name)\n",
    "        print(self.age)\n",
    "e1 = emp('XYZ', 20)\n",
    "print(vars(e1))\n",
    "print(dir(e1))"
   ]
  },
  {
   "cell_type": "markdown",
   "metadata": {},
   "source": [
    "# Reflection in Python."
   ]
  },
  {
   "cell_type": "markdown",
   "metadata": {},
   "source": [
    "Reflection refers to the ability for code to be able to examine attributes about objects that might be passed as parameters to a function. For example, if we write type(obj) then Python will return an object which represents the type of obj.\n",
    "\n",
    "Using reflection, we can write one recursive reverse function that will work for strings, lists, and any other sequence that supports slicing and concatenation. If an obj is a reference to a string, then Python will return the str type object. Further, if we write str() we get a string which is the empty string. In other words, writing str() is the same thing as writing “”. Likewise, writing list() is the same thing as writing []."
   ]
  },
  {
   "cell_type": "code",
   "execution_count": 11,
   "metadata": {},
   "outputs": [
    {
     "name": "stdout",
     "output_type": "stream",
     "text": [
      "[4, 3, 2, 1]\n",
      "OLLEH\n"
     ]
    }
   ],
   "source": [
    "def reverse(seq): \n",
    "    SeqType = type(seq) \n",
    "    emptySeq = SeqType() \n",
    "      \n",
    "    if seq == emptySeq: \n",
    "        return emptySeq \n",
    "      \n",
    "    restrev = reverse(seq[1:]) \n",
    "    first = seq[0:1] \n",
    "       \n",
    "    result = restrev + first \n",
    "      \n",
    "    return result \n",
    "  \n",
    "print(reverse([1, 2, 3, 4])) \n",
    "print(reverse(\"HELLO\")) "
   ]
  },
  {
   "cell_type": "markdown",
   "metadata": {},
   "source": [
    "Reflection-enabling functions: Include type(), isinstance(), getattr(), dir() and callable().\n",
    "\n",
    "Callable(): Any function that can be called. For an object, determines whether the object can be called. A class can be made callable by defining __class__() method. This method return True if the object appears to be callable, else it returns False."
   ]
  },
  {
   "cell_type": "code",
   "execution_count": 14,
   "metadata": {},
   "outputs": [
    {
     "name": "stdout",
     "output_type": "stream",
     "text": [
      "False\n",
      "True\n"
     ]
    }
   ],
   "source": [
    "#example for callable().\n",
    "x = 5\n",
    "def fn():\n",
    "    print('callable')\n",
    "y = fn\n",
    "if(callable(x)):\n",
    "    print('True')\n",
    "else:\n",
    "    print('False')\n",
    "if(callable(y)):\n",
    "    print('True')\n",
    "else:\n",
    "    print('False')"
   ]
  },
  {
   "cell_type": "code",
   "execution_count": 15,
   "metadata": {},
   "outputs": [
    {
     "name": "stdout",
     "output_type": "stream",
     "text": [
      "True\n"
     ]
    }
   ],
   "source": [
    "#example for callable when used in OOPS.\n",
    "class a:\n",
    "    def __call__(self):\n",
    "        print('Something')\n",
    "print(callable(a))    "
   ]
  },
  {
   "cell_type": "markdown",
   "metadata": {},
   "source": [
    "Dir: This method try's to return the valid attributes of an object.\n",
    "\n",
    "If the object has __dir__() method, the method will be called and must return the list of attributes. If the object doesn’t have __dir()__ method, this method tries to find information from the __dict__ attribute (if defined), and from type object. In this case, the list returned from dir() may not be complete."
   ]
  },
  {
   "cell_type": "code",
   "execution_count": 17,
   "metadata": {},
   "outputs": [
    {
     "name": "stdout",
     "output_type": "stream",
     "text": [
      "['__add__', '__class__', '__contains__', '__delattr__', '__delitem__', '__dir__', '__doc__', '__eq__', '__format__', '__ge__', '__getattribute__', '__getitem__', '__gt__', '__hash__', '__iadd__', '__imul__', '__init__', '__init_subclass__', '__iter__', '__le__', '__len__', '__lt__', '__mul__', '__ne__', '__new__', '__reduce__', '__reduce_ex__', '__repr__', '__reversed__', '__rmul__', '__setattr__', '__setitem__', '__sizeof__', '__str__', '__subclasshook__', 'append', 'clear', 'copy', 'count', 'extend', 'index', 'insert', 'pop', 'remove', 'reverse', 'sort']\n",
      "['__add__', '__class__', '__contains__', '__delattr__', '__delitem__', '__dir__', '__doc__', '__eq__', '__format__', '__ge__', '__getattribute__', '__getitem__', '__gt__', '__hash__', '__iadd__', '__imul__', '__init__', '__init_subclass__', '__iter__', '__le__', '__len__', '__lt__', '__mul__', '__ne__', '__new__', '__reduce__', '__reduce_ex__', '__repr__', '__reversed__', '__rmul__', '__setattr__', '__setitem__', '__sizeof__', '__str__', '__subclasshook__', 'append', 'clear', 'copy', 'count', 'extend', 'index', 'insert', 'pop', 'remove', 'reverse', 'sort']\n"
     ]
    }
   ],
   "source": [
    "#example.\n",
    "a = [1, 2, 3, 4]\n",
    "print(dir(a))\n",
    "\n",
    "b = ['a', 'b']\n",
    "print(dir(a))"
   ]
  },
  {
   "cell_type": "markdown",
   "metadata": {},
   "source": [
    "Getattr(): Will return the value of named attribute of an object. If not found, it returns the default value provided to the function. The getattr method takes three parameters object, name and default(optional)."
   ]
  },
  {
   "cell_type": "code",
   "execution_count": 18,
   "metadata": {},
   "outputs": [
    {
     "name": "stdout",
     "output_type": "stream",
     "text": [
      "25000\n",
      "25000\n"
     ]
    }
   ],
   "source": [
    "#example.\n",
    "class employee:\n",
    "    salary = 25000\n",
    "    company = 'XYZ'\n",
    "e = employee()\n",
    "print(getattr(e, 'salary'))\n",
    "print(e.salary)"
   ]
  },
  {
   "cell_type": "markdown",
   "metadata": {},
   "source": [
    "# Barrier Objects in Python."
   ]
  },
  {
   "cell_type": "markdown",
   "metadata": {},
   "source": [
    "Some common function calls related to threading.Barrier class are:\n",
    "\n",
    "barrier.broken: Returns True if the barrier is in broken state.\n",
    "\n",
    "barrier.parties: Number of threads required to pass a barrier.\n",
    "\n",
    "barrier.abort(): Put the barrier into broken state. This causes any future calls to wait() to fail with the BrokenBarrierError.\n",
    "Abort function calls on barrier are often required to skip the conditions of deadlocking during program execution.\n",
    "\n",
    "barrier.reset(): Return the barrier to default, empty state.\n",
    "\n",
    "barrier.wait(): Pass the barrier. When all the threads party to the barrier have called this function, they are all released simultaneously. If a timeout is provided, it is used in preference to any that was supplied to the class constructor.\n",
    "The return value is an integer in the range 0 to parties – 1, different for each thread. If the call times out, the barrier is put into the broken state. This method may raise a BrokenBarrierError exception if the barrier is broken or reset while a thread is waiting.\n",
    "\n",
    "barrier.n_wait: The number of threads currently waiting in the barrier."
   ]
  },
  {
   "cell_type": "code",
   "execution_count": 1,
   "metadata": {},
   "outputs": [
    {
     "name": "stdout",
     "output_type": "stream",
     "text": [
      "100\n",
      "\n",
      "101\n",
      "\n",
      "Exit\n",
      "\n"
     ]
    }
   ],
   "source": [
    "import threading\n",
    "barrier = threading.Barrier(3)\n",
    "class thread(threading.Thread):\n",
    "    def __init__(self, thread_ID):\n",
    "        threading.Thread.__init__(self)\n",
    "        self.thread_ID = thread_ID\n",
    "    def run(self):\n",
    "        print(str(self.thread_ID) + '\\n')\n",
    "        barrier.wait()\n",
    "t1 = thread(100)\n",
    "t2 = thread(101)\n",
    "t1.start()\n",
    "t2.start()\n",
    "barrier.wait()\n",
    "print('Exit\\n')"
   ]
  },
  {
   "cell_type": "markdown",
   "metadata": {},
   "source": [
    "# Timer Objects in python."
   ]
  },
  {
   "cell_type": "markdown",
   "metadata": {},
   "source": [
    "Timer objects are used to represent actions that needs to be scheduled to run after a certain instant of time. These objects get scheduled to run on a separate thread that carries out the action. However, the interval that a timer is initialized with might not be the actual instant when the action was actually performed by the interpreter because it is the responsibility of the thread scheduler to actually schedule the thread corresponding to the timer object.\n",
    "\n",
    "Timer is a sub class of Thread class defined in python. It is started by calling the start() function corresponding to the timer explicitly."
   ]
  },
  {
   "cell_type": "code",
   "execution_count": 7,
   "metadata": {},
   "outputs": [
    {
     "name": "stdout",
     "output_type": "stream",
     "text": [
      "Exit\n",
      "Hello there\n"
     ]
    }
   ],
   "source": [
    "#example for creating a timer object.\n",
    "import threading\n",
    "def fn():\n",
    "    print('Hello there')\n",
    "    \n",
    "timer = threading.Timer(10.0, fn)\n",
    "timer.start()\n",
    "print('Exit')"
   ]
  },
  {
   "cell_type": "markdown",
   "metadata": {},
   "source": [
    "cancelling a timer: Stop the timer, and cancel the execution of the timer’s action. This will only work if the timer is still in its waiting stage."
   ]
  },
  {
   "cell_type": "code",
   "execution_count": 8,
   "metadata": {},
   "outputs": [
    {
     "name": "stdout",
     "output_type": "stream",
     "text": [
      "Cancelling Timer\n",
      "Exit\n"
     ]
    }
   ],
   "source": [
    "import threading\n",
    "def fn():\n",
    "    print('Hello There')\n",
    "timer = threading.Timer(1.0, fn)\n",
    "timer.start()\n",
    "print('Cancelling Timer')\n",
    "timer.cancel()\n",
    "print('Exit')"
   ]
  },
  {
   "cell_type": "markdown",
   "metadata": {},
   "source": [
    "# Garbage Collection in python."
   ]
  },
  {
   "cell_type": "markdown",
   "metadata": {},
   "source": [
    "Python's memory allocation and deallocation is automatic. \n",
    "\n",
    "Python uses two stratergies to allocate and deallocate the memory.\n",
    "\n",
    "1.Reference counting.\n",
    "2.Garbage Collection."
   ]
  },
  {
   "cell_type": "markdown",
   "metadata": {},
   "source": [
    "Prior to Python version 2.0, the Python interpreter only used reference counting for memory management. Reference counting works by counting the number of times an object is referenced by other objects in the system. When references to an object are removed, the reference count for an object is decremented. When the reference count becomes zero, the object is deallocated."
   ]
  },
  {
   "cell_type": "code",
   "execution_count": 2,
   "metadata": {},
   "outputs": [],
   "source": [
    "#example for reference counting.\n",
    "b = 9 #here 9 is an object and 'b' is reference to an object.\n",
    "b = 4 #reference count of object 'b' becomes zero as the value of object changes."
   ]
  },
  {
   "cell_type": "markdown",
   "metadata": {},
   "source": [
    "A reference cycle is created when there is no way that the refence count of the object can reach.\n",
    "\n",
    "Note: A reference cycle is created when there is no way the reference count of the object can reach. Reference cycles involving lists, tuples, instances, classes, dictionaries, and functions are common. The easiest way to create a reference cycle is to create an object which refers to itself."
   ]
  },
  {
   "cell_type": "code",
   "execution_count": 3,
   "metadata": {},
   "outputs": [],
   "source": [
    "#example demonstarting above note.\n",
    "def fn():\n",
    "    x = []\n",
    "    x.append(x)\n",
    "fn()"
   ]
  },
  {
   "cell_type": "code",
   "execution_count": 4,
   "metadata": {},
   "outputs": [],
   "source": [
    "#Ways to make an object eligible for garbage collection\n",
    "#1.\n",
    "x = []\n",
    "x.append(1)\n",
    "x.append(2)\n",
    "del x"
   ]
  },
  {
   "cell_type": "markdown",
   "metadata": {},
   "source": [
    "2.Automatic Garbage Collection of Cycles: Because reference cycles take computational work to discover, garbage collection must be a scheduled activity. Python schedules garbage collection based upon a threshold of object allocations and object deallocations. When the number of allocations minus the number of deallocations is greater than the threshold number, the garbage collector is run. One can inspect the threshold for new objects (objects in Python known as generation 0 objects) by importing the gc module and asking for garbage collection thresholds."
   ]
  },
  {
   "cell_type": "code",
   "execution_count": 5,
   "metadata": {},
   "outputs": [
    {
     "name": "stdout",
     "output_type": "stream",
     "text": [
      "(700, 10, 10)\n"
     ]
    }
   ],
   "source": [
    "import gc\n",
    "print(gc.get_threshold())"
   ]
  },
  {
   "cell_type": "markdown",
   "metadata": {},
   "source": [
    "Here, the default threshold on the above system is 700. This means when the number of allocations vs. the number of deallocations is greater than 700 the automatic garbage collector will run. Thus any portion of your code which frees up large blocks of memory is a good candidate for running manual garbage collection."
   ]
  },
  {
   "cell_type": "markdown",
   "metadata": {},
   "source": [
    "3.Manual Garbage Collection: Invoking the garbage collector manually during the execution of a program can be a good idea on how to handle memory being consumed by reference cycles."
   ]
  },
  {
   "cell_type": "code",
   "execution_count": 6,
   "metadata": {},
   "outputs": [
    {
     "name": "stdout",
     "output_type": "stream",
     "text": [
      "204\n"
     ]
    }
   ],
   "source": [
    "import gc\n",
    "collected = gc.collect()\n",
    "print(collected)"
   ]
  }
 ],
 "metadata": {
  "kernelspec": {
   "display_name": "Python 3",
   "language": "python",
   "name": "python3"
  },
  "language_info": {
   "codemirror_mode": {
    "name": "ipython",
    "version": 3
   },
   "file_extension": ".py",
   "mimetype": "text/x-python",
   "name": "python",
   "nbconvert_exporter": "python",
   "pygments_lexer": "ipython3",
   "version": "3.6.8"
  }
 },
 "nbformat": 4,
 "nbformat_minor": 4
}
