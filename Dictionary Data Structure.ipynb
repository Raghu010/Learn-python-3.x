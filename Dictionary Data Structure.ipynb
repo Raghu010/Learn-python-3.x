{
 "cells": [
  {
   "cell_type": "markdown",
   "metadata": {},
   "source": [
    "Dictionary: Is a collection of items/elements in the form of key and value pair."
   ]
  },
  {
   "cell_type": "markdown",
   "metadata": {},
   "source": [
    "Note: Key and value can be of any data type"
   ]
  },
  {
   "cell_type": "markdown",
   "metadata": {},
   "source": [
    "Note 2: Indexing of key is impossible"
   ]
  },
  {
   "cell_type": "markdown",
   "metadata": {},
   "source": [
    "# Different methods to create a dictionary"
   ]
  },
  {
   "cell_type": "code",
   "execution_count": 2,
   "metadata": {},
   "outputs": [
    {
     "name": "stdout",
     "output_type": "stream",
     "text": [
      "{'a': [1, 2.3, 'Hi', True], '2j + 3': [1, 2, 3, 4]}\n",
      "<class 'dict'>\n"
     ]
    }
   ],
   "source": [
    "#using curly braces\n",
    "dicti = {'a': [1, 2.3, 'Hi', True], '2j + 3' : [1, 2, 3, 4]}\n",
    "print(dicti)\n",
    "print(type(dicti))"
   ]
  },
  {
   "cell_type": "code",
   "execution_count": 3,
   "metadata": {},
   "outputs": [
    {
     "name": "stdout",
     "output_type": "stream",
     "text": [
      "{'a': [2.3, 1, (6+5j), 'Hello'], '2': [2.3, (5+4j)]}\n",
      "<class 'dict'>\n"
     ]
    }
   ],
   "source": [
    "#using dict function\n",
    "b = dict({'a' : [2.3, 1, 5j + 6, 'Hello'], '2' : [2.3, 4j +5]})\n",
    "print(b)\n",
    "print(type(b))"
   ]
  },
  {
   "cell_type": "code",
   "execution_count": 1,
   "metadata": {},
   "outputs": [
    {
     "data": {
      "text/plain": [
       "{1: 'python', 2: 'programming'}"
      ]
     },
     "execution_count": 1,
     "metadata": {},
     "output_type": "execute_result"
    }
   ],
   "source": [
    "#creating a dictionary with each item as pair\n",
    "a = dict([(1, 'python'), (2, 'programming')])\n",
    "a"
   ]
  },
  {
   "cell_type": "code",
   "execution_count": 2,
   "metadata": {},
   "outputs": [
    {
     "data": {
      "text/plain": [
       "{1: 'welcome', 2: 'to', 3: {4: 'python', 5: 'programming'}}"
      ]
     },
     "execution_count": 2,
     "metadata": {},
     "output_type": "execute_result"
    }
   ],
   "source": [
    "#example to create a nested dictionary.\n",
    "a = {1: 'welcome', 2: 'to', 3 : {4 : 'python', 5 : 'programming'}}\n",
    "a"
   ]
  },
  {
   "cell_type": "markdown",
   "metadata": {},
   "source": [
    "# Different dictionary methods"
   ]
  },
  {
   "cell_type": "code",
   "execution_count": 8,
   "metadata": {},
   "outputs": [
    {
     "name": "stdout",
     "output_type": "stream",
     "text": [
      "{}\n"
     ]
    }
   ],
   "source": [
    "a = {'2.1' : ['a', 'b', 'c', 'd', 'e']}\n",
    "a.clear()\n",
    "print(a)"
   ]
  },
  {
   "cell_type": "code",
   "execution_count": 10,
   "metadata": {},
   "outputs": [
    {
     "name": "stdout",
     "output_type": "stream",
     "text": [
      "{'a': (1, 2, 3, 4, 5)}\n",
      "<class 'dict'>\n"
     ]
    }
   ],
   "source": [
    "b = {'a' : (1, 2, 3, 4, 5)}\n",
    "A = b.copy()\n",
    "print(A)\n",
    "print(type(A))"
   ]
  },
  {
   "cell_type": "code",
   "execution_count": 11,
   "metadata": {},
   "outputs": [
    {
     "data": {
      "text/plain": [
       "dict_items([('2j + 3', [1, 2]), ('a', [2.3, 3.4])])"
      ]
     },
     "execution_count": 11,
     "metadata": {},
     "output_type": "execute_result"
    }
   ],
   "source": [
    "c = {'2j + 3' : [1, 2], 'a' : [2.3, 3.4]}\n",
    "c.items()"
   ]
  },
  {
   "cell_type": "code",
   "execution_count": 13,
   "metadata": {},
   "outputs": [
    {
     "data": {
      "text/plain": [
       "dict_keys([1])"
      ]
     },
     "execution_count": 13,
     "metadata": {},
     "output_type": "execute_result"
    }
   ],
   "source": [
    "d = {1 : [2.3, 3j + 5, 'Hi']}\n",
    "d.keys()"
   ]
  },
  {
   "cell_type": "code",
   "execution_count": 14,
   "metadata": {},
   "outputs": [
    {
     "data": {
      "text/plain": [
       "[1, 2, 3, 4]"
      ]
     },
     "execution_count": 14,
     "metadata": {},
     "output_type": "execute_result"
    }
   ],
   "source": [
    "e = {3j + 4 : [1, 2, 3, 4], True : [2.3, 4.5]}\n",
    "e.pop(3j + 4)"
   ]
  },
  {
   "cell_type": "code",
   "execution_count": 15,
   "metadata": {},
   "outputs": [
    {
     "data": {
      "text/plain": [
       "(1, [2.3, 3.4, 4.5, 5.6, 6.7])"
      ]
     },
     "execution_count": 15,
     "metadata": {},
     "output_type": "execute_result"
    }
   ],
   "source": [
    "f = {1 : [2.3, 3.4, 4.5, 5.6, 6.7]}\n",
    "f.popitem()"
   ]
  },
  {
   "cell_type": "code",
   "execution_count": 16,
   "metadata": {},
   "outputs": [
    {
     "data": {
      "text/plain": [
       "dict_values([['Hi', 'welcome', 'to', 'python']])"
      ]
     },
     "execution_count": 16,
     "metadata": {},
     "output_type": "execute_result"
    }
   ],
   "source": [
    "g = {2.3 : ['Hi', 'welcome', 'to', 'python']}\n",
    "g.values()"
   ]
  },
  {
   "cell_type": "code",
   "execution_count": 19,
   "metadata": {},
   "outputs": [
    {
     "data": {
      "text/plain": [
       "[5, 2]"
      ]
     },
     "execution_count": 19,
     "metadata": {},
     "output_type": "execute_result"
    }
   ],
   "source": [
    "h = {'b' : [5, 2], 'c' : [1, 2, 3]}\n",
    "h.get('b')"
   ]
  },
  {
   "cell_type": "code",
   "execution_count": 28,
   "metadata": {},
   "outputs": [],
   "source": [
    "a = {2 : [1.2, 2.3, 3.4, 4.5, 5.6], 'hi' : [1, 2, 3, 4, 5]}\n",
    "a.update()"
   ]
  },
  {
   "cell_type": "code",
   "execution_count": 29,
   "metadata": {},
   "outputs": [
    {
     "name": "stdout",
     "output_type": "stream",
     "text": [
      "{'a': (1, 2), 'b': (1.2, 2.3), 'x': None}\n"
     ]
    }
   ],
   "source": [
    "a = {'a' : (1, 2), 'b' : (1.2, 2.3)}\n",
    "a.setdefault('x')\n",
    "print(a)"
   ]
  },
  {
   "cell_type": "markdown",
   "metadata": {},
   "source": [
    "# Example to access the dictionary elements"
   ]
  },
  {
   "cell_type": "code",
   "execution_count": 32,
   "metadata": {},
   "outputs": [
    {
     "name": "stdout",
     "output_type": "stream",
     "text": [
      "(1, 2, 3)\n",
      "[1.2, 2.3, 3.4]\n",
      "2\n",
      "1.2\n"
     ]
    }
   ],
   "source": [
    "a = {'x' : (1, 2, 3), 'y' : [1.2, 2.3, 3.4]}\n",
    "print(a['x'])\n",
    "print(a['y'])\n",
    "print(a['x'][1])\n",
    "print(a['y'][0])"
   ]
  },
  {
   "cell_type": "markdown",
   "metadata": {},
   "source": [
    "# Adding elements to a dictionary"
   ]
  },
  {
   "cell_type": "markdown",
   "metadata": {},
   "source": [
    "Note: One value at a time can be added to a dictionary by defining value along with the key"
   ]
  },
  {
   "cell_type": "code",
   "execution_count": 13,
   "metadata": {},
   "outputs": [
    {
     "name": "stdout",
     "output_type": "stream",
     "text": [
      "<class 'dict'>\n",
      "{0: 'welcome'}\n",
      "{0: 'welcome', 1: 'to'}\n",
      "{0: 'welcome', 1: 'to', 2: 'python'}\n",
      "{0: 'welcome', 1: 'to', 2: 'python', 'multiple': (2, 3, 4)}\n",
      "{0: 'welcome', 1: 'to', 2: 'python', 'multiple': (2, 3, 4), 'nested': {'nested': {1: 'welcome', 2: 'to'}}}\n"
     ]
    }
   ],
   "source": [
    "#example\n",
    "a = dict()\n",
    "print(type(a))\n",
    "a[0] = 'welcome'\n",
    "print(a)\n",
    "a[1] = 'to'\n",
    "print(a)\n",
    "a[2] = 'python'\n",
    "print(a)\n",
    "#adding set of values to a single key\n",
    "a['multiple'] = 2, 3, 4\n",
    "print(a)\n",
    "#adding nested key, vlue for a dictionary.\n",
    "a['nested'] = {'nested' : {1: 'welcome', 2: 'to'}}\n",
    "print(a)"
   ]
  },
  {
   "cell_type": "code",
   "execution_count": 1,
   "metadata": {},
   "outputs": [
    {
     "name": "stdout",
     "output_type": "stream",
     "text": [
      "{1: 'welcome', 2: 'to', 3: 'python', 4: {5: 'python', 6: 'programming'}}\n",
      "{1: 'welcome', 2: 'to', 3: 'python'}\n"
     ]
    },
    {
     "ename": "NameError",
     "evalue": "name 'a' is not defined",
     "output_type": "error",
     "traceback": [
      "\u001b[1;31m---------------------------------------------------------------------------\u001b[0m",
      "\u001b[1;31mNameError\u001b[0m                                 Traceback (most recent call last)",
      "\u001b[1;32m<ipython-input-1-53342b1fc16e>\u001b[0m in \u001b[0;36m<module>\u001b[1;34m\u001b[0m\n\u001b[0;32m      6\u001b[0m \u001b[0mprint\u001b[0m\u001b[1;33m(\u001b[0m\u001b[0ma\u001b[0m\u001b[1;33m)\u001b[0m\u001b[1;33m\u001b[0m\u001b[1;33m\u001b[0m\u001b[0m\n\u001b[0;32m      7\u001b[0m \u001b[1;32mdel\u001b[0m \u001b[0ma\u001b[0m\u001b[1;33m\u001b[0m\u001b[1;33m\u001b[0m\u001b[0m\n\u001b[1;32m----> 8\u001b[1;33m \u001b[0mprint\u001b[0m\u001b[1;33m(\u001b[0m\u001b[0ma\u001b[0m\u001b[1;33m)\u001b[0m\u001b[1;33m\u001b[0m\u001b[1;33m\u001b[0m\u001b[0m\n\u001b[0m",
      "\u001b[1;31mNameError\u001b[0m: name 'a' is not defined"
     ]
    }
   ],
   "source": [
    "#example to delete a value from a dictionary using del keyword.\n",
    "a = {1 : 'welcome', 2: 'to', 3: 'python',\n",
    "    4: {5 : 'python', 6 : 'programming'}}\n",
    "print(a)\n",
    "del a[4]\n",
    "print(a)\n",
    "del a\n",
    "print(a)"
   ]
  }
 ],
 "metadata": {
  "kernelspec": {
   "display_name": "Python 3",
   "language": "python",
   "name": "python3"
  },
  "language_info": {
   "codemirror_mode": {
    "name": "ipython",
    "version": 3
   },
   "file_extension": ".py",
   "mimetype": "text/x-python",
   "name": "python",
   "nbconvert_exporter": "python",
   "pygments_lexer": "ipython3",
   "version": "3.6.8"
  }
 },
 "nbformat": 4,
 "nbformat_minor": 4
}
