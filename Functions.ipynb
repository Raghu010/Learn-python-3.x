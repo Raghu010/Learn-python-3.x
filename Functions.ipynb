{
 "cells": [
  {
   "cell_type": "markdown",
   "metadata": {},
   "source": [
    "Function : Is a reusable chunk of statements."
   ]
  },
  {
   "cell_type": "markdown",
   "metadata": {},
   "source": [
    "There are two types of functions:\n",
    "1. User defined\n",
    "2. Built-in"
   ]
  },
  {
   "cell_type": "markdown",
   "metadata": {},
   "source": [
    "# User defined Functions"
   ]
  },
  {
   "cell_type": "code",
   "execution_count": 1,
   "metadata": {},
   "outputs": [
    {
     "name": "stdout",
     "output_type": "stream",
     "text": [
      "3\n"
     ]
    }
   ],
   "source": [
    "#Example for user defined functions\n",
    "def add(a, b):\n",
    "    c = a + b\n",
    "    print(c)\n",
    "add(1, 2)"
   ]
  },
  {
   "cell_type": "markdown",
   "metadata": {},
   "source": [
    "Note: There are two ways of calling a function.\n",
    "1. Call by value: If we pass the parameters or arguements in the form of values to a function, then we call it as call by value.\n",
    "Above code is an example for call by value\n",
    "2. Call by reference: If we pass the parameters or arguments in terms of reference to a function then it is called call by reference."
   ]
  },
  {
   "cell_type": "code",
   "execution_count": 4,
   "metadata": {},
   "outputs": [
    {
     "name": "stdout",
     "output_type": "stream",
     "text": [
      "Subtraction: 2\n"
     ]
    }
   ],
   "source": [
    "#example for call by value.\n",
    "def sub(c, d):\n",
    "    print('Subtraction:', c-d)\n",
    "sub(5, 3)  "
   ]
  },
  {
   "cell_type": "code",
   "execution_count": 3,
   "metadata": {},
   "outputs": [
    {
     "name": "stdout",
     "output_type": "stream",
     "text": [
      "[10, 2, 3, 4, 5]\n"
     ]
    }
   ],
   "source": [
    "#example for call by reference.\n",
    "def fn(x):\n",
    "    x[0] = 10\n",
    "lst = [1, 2, 3, 4, 5]\n",
    "fn(lst)\n",
    "print(lst)"
   ]
  },
  {
   "cell_type": "code",
   "execution_count": 7,
   "metadata": {},
   "outputs": [
    {
     "name": "stdout",
     "output_type": "stream",
     "text": [
      "[1, 2, 3, 4, 5]\n",
      "10\n"
     ]
    }
   ],
   "source": [
    "#When we pass a reference and change the received reference to something else, the connection between passed and received parameter is broken. For example, consider below program.\n",
    "#example\n",
    "def fn(x):\n",
    "    x = [10, 20, 30]\n",
    "lst = [1, 2, 3, 4, 5]\n",
    "fn(lst)\n",
    "print(lst)\n",
    "#example2.\n",
    "def fn_1(a):\n",
    "    a = 20\n",
    "a = 10\n",
    "fn_1(a)\n",
    "print(a)"
   ]
  },
  {
   "cell_type": "code",
   "execution_count": 14,
   "metadata": {},
   "outputs": [
    {
     "name": "stdout",
     "output_type": "stream",
     "text": [
      "3 2\n"
     ]
    }
   ],
   "source": [
    "#example to swap two variables.\n",
    "x = 2\n",
    "y = 3\n",
    "x, y = y, x\n",
    "print(x, y)"
   ]
  },
  {
   "cell_type": "code",
   "execution_count": 5,
   "metadata": {},
   "outputs": [
    {
     "name": "stdout",
     "output_type": "stream",
     "text": [
      "Addition 8\n",
      "Subtraction 2\n",
      "Multiplication 15\n",
      "Division 1.6666666666666667\n",
      "Floor division 1\n",
      "Mod 2\n",
      "Power 125\n"
     ]
    }
   ],
   "source": [
    "#example to perform arithmatic operations on 2 numbers using a user defined function.\n",
    "def cal(a, b):\n",
    "    print('Addition', a+b)\n",
    "    print('Subtraction', a-b)\n",
    "    print('Multiplication', a*b)\n",
    "    print('Division', a/b)\n",
    "    print('Floor division', a//b)\n",
    "    print('Mod', a%b)\n",
    "    print('Power', a**b)\n",
    "cal(5, 3)"
   ]
  },
  {
   "cell_type": "code",
   "execution_count": 7,
   "metadata": {},
   "outputs": [
    {
     "name": "stdout",
     "output_type": "stream",
     "text": [
      "15\n"
     ]
    }
   ],
   "source": [
    "#example to find the area of a square\n",
    "def area(b, h):\n",
    "    area = b*h\n",
    "    print(area)\n",
    "area(5, 3)"
   ]
  },
  {
   "cell_type": "markdown",
   "metadata": {},
   "source": [
    "Few example programs."
   ]
  },
  {
   "cell_type": "code",
   "execution_count": 8,
   "metadata": {
    "collapsed": true,
    "jupyter": {
     "outputs_hidden": true
    }
   },
   "outputs": [
    {
     "name": "stdout",
     "output_type": "stream",
     "text": [
      "2002\n",
      "2009\n",
      "2016\n",
      "2023\n",
      "2037\n",
      "2044\n",
      "2051\n",
      "2058\n",
      "2072\n",
      "2079\n",
      "2086\n",
      "2093\n",
      "2107\n",
      "2114\n",
      "2121\n",
      "2128\n",
      "2142\n",
      "2149\n",
      "2156\n",
      "2163\n",
      "2177\n",
      "2184\n",
      "2191\n",
      "2198\n",
      "2212\n",
      "2219\n",
      "2226\n",
      "2233\n",
      "2247\n",
      "2254\n",
      "2261\n",
      "2268\n",
      "2282\n",
      "2289\n",
      "2296\n",
      "2303\n",
      "2317\n",
      "2324\n",
      "2331\n",
      "2338\n",
      "2352\n",
      "2359\n",
      "2366\n",
      "2373\n",
      "2387\n",
      "2394\n",
      "2401\n",
      "2408\n",
      "2422\n",
      "2429\n",
      "2436\n",
      "2443\n",
      "2457\n",
      "2464\n",
      "2471\n",
      "2478\n",
      "2492\n",
      "2499\n",
      "2506\n",
      "2513\n",
      "2527\n",
      "2534\n",
      "2541\n",
      "2548\n",
      "2562\n",
      "2569\n",
      "2576\n",
      "2583\n",
      "2597\n",
      "2604\n",
      "2611\n",
      "2618\n",
      "2632\n",
      "2639\n",
      "2646\n",
      "2653\n",
      "2667\n",
      "2674\n",
      "2681\n",
      "2688\n",
      "2702\n",
      "2709\n",
      "2716\n",
      "2723\n",
      "2737\n",
      "2744\n",
      "2751\n",
      "2758\n",
      "2772\n",
      "2779\n",
      "2786\n",
      "2793\n",
      "2807\n",
      "2814\n",
      "2821\n",
      "2828\n",
      "2842\n",
      "2849\n",
      "2856\n",
      "2863\n",
      "2877\n",
      "2884\n",
      "2891\n",
      "2898\n",
      "2912\n",
      "2919\n",
      "2926\n",
      "2933\n",
      "2947\n",
      "2954\n",
      "2961\n",
      "2968\n",
      "2982\n",
      "2989\n",
      "2996\n",
      "3003\n",
      "3017\n",
      "3024\n",
      "3031\n",
      "3038\n",
      "3052\n",
      "3059\n",
      "3066\n",
      "3073\n",
      "3087\n",
      "3094\n",
      "3101\n",
      "3108\n",
      "3122\n",
      "3129\n",
      "3136\n",
      "3143\n",
      "3157\n",
      "3164\n",
      "3171\n",
      "3178\n",
      "3192\n",
      "3199\n"
     ]
    }
   ],
   "source": [
    "#wap to print the numbers from the range 2000-3200 which are divisible by 7 and not a multiple of 5.\n",
    "for i in range(2000, 3200):\n",
    "    if(i%7 == 0 and i%5 != 0):\n",
    "        print(i)"
   ]
  },
  {
   "cell_type": "code",
   "execution_count": 17,
   "metadata": {},
   "outputs": [
    {
     "name": "stdout",
     "output_type": "stream",
     "text": [
      "4\n"
     ]
    }
   ],
   "source": [
    "#wap to find the distance between two points.\n",
    "def distance(a, b, c, d):\n",
    "    x = (a-b)**2 + (c-d)**2\n",
    "    print(x**2)\n",
    "distance(5, 4, 3, 2)"
   ]
  },
  {
   "cell_type": "markdown",
   "metadata": {},
   "source": [
    "#keywords used during functions.\n",
    "\n"
   ]
  },
  {
   "cell_type": "markdown",
   "metadata": {},
   "source": [
    "1.def"
   ]
  },
  {
   "cell_type": "markdown",
   "metadata": {},
   "source": [
    "2.Pass: This keyword is used when there are no statements in function body."
   ]
  },
  {
   "cell_type": "markdown",
   "metadata": {},
   "source": [
    "\n",
    "3.Return: Is used to return the evaluated results to the function."
   ]
  },
  {
   "cell_type": "code",
   "execution_count": 13,
   "metadata": {},
   "outputs": [],
   "source": [
    "#example for usage of pass statement.\n",
    "def add(a, b):\n",
    "    pass\n",
    "add(2, 3)"
   ]
  },
  {
   "cell_type": "code",
   "execution_count": 14,
   "metadata": {},
   "outputs": [
    {
     "data": {
      "text/plain": [
       "5"
      ]
     },
     "execution_count": 14,
     "metadata": {},
     "output_type": "execute_result"
    }
   ],
   "source": [
    "#example for usage of return statement.\n",
    "def add(a, b):\n",
    "    return a+b\n",
    "add(3, 2)"
   ]
  },
  {
   "cell_type": "markdown",
   "metadata": {},
   "source": [
    "Lambda user defined functions."
   ]
  },
  {
   "cell_type": "markdown",
   "metadata": {},
   "source": [
    "Lambda is an ananomus user defined function without particular properties and structure."
   ]
  },
  {
   "cell_type": "code",
   "execution_count": 16,
   "metadata": {},
   "outputs": [
    {
     "data": {
      "text/plain": [
       "(5, 1, 6, 1.5)"
      ]
     },
     "execution_count": 16,
     "metadata": {},
     "output_type": "execute_result"
    }
   ],
   "source": [
    "#Example for a lambda function.\n",
    "c = lambda x, y:(x+y, x-y, x*y, x/y)\n",
    "c(3, 2)"
   ]
  },
  {
   "cell_type": "code",
   "execution_count": 22,
   "metadata": {},
   "outputs": [
    {
     "name": "stdout",
     "output_type": "stream",
     "text": [
      "4\n"
     ]
    }
   ],
   "source": [
    "#example\n",
    "square = lambda x : x*x\n",
    "print(square(2))"
   ]
  },
  {
   "cell_type": "code",
   "execution_count": 1,
   "metadata": {},
   "outputs": [
    {
     "name": "stdout",
     "output_type": "stream",
     "text": [
      "Started\n"
     ]
    },
    {
     "name": "stdin",
     "output_type": "stream",
     "text": [
      "Enter an integer: 5\n"
     ]
    },
    {
     "name": "stdout",
     "output_type": "stream",
     "text": [
      "5\n"
     ]
    }
   ],
   "source": [
    "#main function()\n",
    "def getInteger():\n",
    "    result = int(input('Enter an integer:'))\n",
    "    return result\n",
    "def main():\n",
    "    print('Started')\n",
    "    results = getInteger()\n",
    "    print(results)\n",
    "if __name__ == '__main__':\n",
    "    main()"
   ]
  },
  {
   "cell_type": "markdown",
   "metadata": {},
   "source": [
    "# Built-in functions"
   ]
  },
  {
   "cell_type": "markdown",
   "metadata": {},
   "source": [
    "Built in functions are nothing but system defined functions."
   ]
  },
  {
   "cell_type": "markdown",
   "metadata": {},
   "source": [
    "Note: Total there are 63 built-in functions in python 3.x version."
   ]
  },
  {
   "cell_type": "code",
   "execution_count": 3,
   "metadata": {},
   "outputs": [
    {
     "name": "stdout",
     "output_type": "stream",
     "text": [
      "10\n",
      "15.4\n",
      "11.180339887498949\n"
     ]
    }
   ],
   "source": [
    "#1.abs()\n",
    "a = -10\n",
    "b = -15.4\n",
    "c = -10-5j\n",
    "print(abs(a))\n",
    "print(abs(b))\n",
    "print(abs(c))    #this function is applicable to all the numbered data."
   ]
  },
  {
   "cell_type": "code",
   "execution_count": 5,
   "metadata": {},
   "outputs": [
    {
     "name": "stdout",
     "output_type": "stream",
     "text": [
      "False\n"
     ]
    }
   ],
   "source": [
    "#2.all()\n",
    "a = [True, False, True]\n",
    "print(all(a))   #this function returns true if all the list elements are true"
   ]
  },
  {
   "cell_type": "code",
   "execution_count": 7,
   "metadata": {},
   "outputs": [
    {
     "name": "stdout",
     "output_type": "stream",
     "text": [
      "True\n"
     ]
    }
   ],
   "source": [
    "#3.any()\n",
    "a = [False, True, False]\n",
    "print(any(a))   #this function retuens true if any of the element in the list is true"
   ]
  },
  {
   "cell_type": "code",
   "execution_count": 9,
   "metadata": {},
   "outputs": [
    {
     "name": "stdout",
     "output_type": "stream",
     "text": [
      "'\\xb5\\u20ac\\xa3'\n"
     ]
    }
   ],
   "source": [
    "#4.ascii()\n",
    "a = 'µ€£'\n",
    "print(ascii(a)) #this function returns the ascii value of the special characters"
   ]
  },
  {
   "cell_type": "code",
   "execution_count": 10,
   "metadata": {},
   "outputs": [
    {
     "name": "stdout",
     "output_type": "stream",
     "text": [
      "0b10\n"
     ]
    }
   ],
   "source": [
    "#5.bin()\n",
    "a = 2\n",
    "print(bin(a))  #this function returns the binary value of the given decimal"
   ]
  },
  {
   "cell_type": "code",
   "execution_count": 12,
   "metadata": {},
   "outputs": [
    {
     "name": "stdout",
     "output_type": "stream",
     "text": [
      "b'\\x00\\x00'\n"
     ]
    }
   ],
   "source": [
    "#6.bytes()\n",
    "a = 2\n",
    "print(bytes(a)) #this function returns the byte value of a given number"
   ]
  },
  {
   "cell_type": "code",
   "execution_count": 14,
   "metadata": {},
   "outputs": [
    {
     "name": "stdout",
     "output_type": "stream",
     "text": [
      "bytearray(b'\\x00\\x00\\x00\\x00')\n"
     ]
    }
   ],
   "source": [
    "#7.bytearray()\n",
    "a = 4\n",
    "print(bytearray(a)) #this function will print the bytearray of the whole number"
   ]
  },
  {
   "cell_type": "code",
   "execution_count": 20,
   "metadata": {},
   "outputs": [
    {
     "name": "stdout",
     "output_type": "stream",
     "text": [
      "8\n",
      "True\n"
     ]
    }
   ],
   "source": [
    "#8.callable()\n",
    "def fn(a, b):\n",
    "    x = a + b\n",
    "    print(x)\n",
    "    print(callable(fn)) #this function returns whether a variable is callable or not.\n",
    "fn(3, 5)"
   ]
  },
  {
   "cell_type": "code",
   "execution_count": 22,
   "metadata": {},
   "outputs": [
    {
     "data": {
      "text/plain": [
       "'A'"
      ]
     },
     "execution_count": 22,
     "metadata": {},
     "output_type": "execute_result"
    }
   ],
   "source": [
    "#9.chr()\n",
    "a = 65\n",
    "chr(a) #this function returns the character of given ascii value."
   ]
  },
  {
   "cell_type": "code",
   "execution_count": 25,
   "metadata": {},
   "outputs": [
    {
     "data": {
      "text/plain": [
       "65"
      ]
     },
     "execution_count": 25,
     "metadata": {},
     "output_type": "execute_result"
    }
   ],
   "source": [
    "#10.ord()\n",
    "a = 'A'\n",
    "ord(a)  #this function returns the ascii value of the given alphabet."
   ]
  },
  {
   "cell_type": "code",
   "execution_count": 26,
   "metadata": {},
   "outputs": [
    {
     "name": "stdout",
     "output_type": "stream",
     "text": [
      "Help on built-in function ord in module builtins:\n",
      "\n",
      "ord(c, /)\n",
      "    Return the Unicode code point for a one-character string.\n",
      "\n"
     ]
    }
   ],
   "source": [
    "#11.help()\n",
    "help(ord) #this function will retur"
   ]
  },
  {
   "cell_type": "code",
   "execution_count": 1,
   "metadata": {},
   "outputs": [
    {
     "data": {
      "text/plain": [
       "<function compile(source, filename, mode, flags=0, dont_inherit=False, optimize=-1)>"
      ]
     },
     "execution_count": 1,
     "metadata": {},
     "output_type": "execute_result"
    }
   ],
   "source": [
    "#12.compile()\n",
    "compile('print(55)', 'test', 'exec')\n",
    "compile  #this function checks whether a code is compilable or not."
   ]
  },
  {
   "cell_type": "code",
   "execution_count": 2,
   "metadata": {},
   "outputs": [
    {
     "name": "stdout",
     "output_type": "stream",
     "text": [
      "55\n"
     ]
    }
   ],
   "source": [
    "#13.exec()\n",
    "x = compile('print(55)', 'test', 'exec')\n",
    "exec(x) #this function checks wether the given code is executable or not."
   ]
  },
  {
   "cell_type": "code",
   "execution_count": 4,
   "metadata": {},
   "outputs": [
    {
     "name": "stdout",
     "output_type": "stream",
     "text": [
      "(3+5j)\n"
     ]
    }
   ],
   "source": [
    "#14.complex()\n",
    "a = complex(3, 5)\n",
    "print(a) #this function converts the given values into complex form."
   ]
  },
  {
   "cell_type": "code",
   "execution_count": null,
   "metadata": {},
   "outputs": [],
   "source": [
    "#15.exit()\n",
    "a = 5\n",
    "print(a)\n",
    "exit() #after execution of this function python interpreter shows that the kernel is dead."
   ]
  },
  {
   "cell_type": "code",
   "execution_count": 2,
   "metadata": {},
   "outputs": [
    {
     "name": "stdin",
     "output_type": "stream",
     "text": [
      "Enter the input: 6\n"
     ]
    },
    {
     "name": "stdout",
     "output_type": "stream",
     "text": [
      "6\n"
     ]
    }
   ],
   "source": [
    "#16.input()\n",
    "a = int(input('Enter the input:'))\n",
    "print(a)  #this function takes the input from the keyboard"
   ]
  },
  {
   "cell_type": "code",
   "execution_count": 3,
   "metadata": {},
   "outputs": [
    {
     "name": "stdout",
     "output_type": "stream",
     "text": [
      "5\n"
     ]
    }
   ],
   "source": [
    "#17.print()\n",
    "a = 5\n",
    "print(a)  #this function is used to display the stored values."
   ]
  },
  {
   "cell_type": "code",
   "execution_count": 4,
   "metadata": {},
   "outputs": [
    {
     "name": "stdout",
     "output_type": "stream",
     "text": [
      "2004255120 2004255120\n"
     ]
    }
   ],
   "source": [
    "#18.id()\n",
    "a = 10\n",
    "b = 10\n",
    "print(id(a), id(b)) #this function displays the address of the given values."
   ]
  },
  {
   "cell_type": "code",
   "execution_count": 5,
   "metadata": {},
   "outputs": [
    {
     "name": "stdout",
     "output_type": "stream",
     "text": [
      "<class 'float'>\n"
     ]
    }
   ],
   "source": [
    "#19.type()\n",
    "a = 4.5\n",
    "print(type(a)) #this function is ysed to display the data type of the value stored."
   ]
  },
  {
   "cell_type": "code",
   "execution_count": 6,
   "metadata": {},
   "outputs": [
    {
     "name": "stdout",
     "output_type": "stream",
     "text": [
      "4\n"
     ]
    }
   ],
   "source": [
    "#20.int()\n",
    "a = 4.3\n",
    "print(int(a)) #this function converts other data type into int data type"
   ]
  },
  {
   "cell_type": "code",
   "execution_count": 7,
   "metadata": {},
   "outputs": [
    {
     "name": "stdout",
     "output_type": "stream",
     "text": [
      "4.0\n"
     ]
    }
   ],
   "source": [
    "#21.float()\n",
    "a = 4\n",
    "print(float(a)) #this function converts other data type into float data type"
   ]
  },
  {
   "cell_type": "code",
   "execution_count": 8,
   "metadata": {},
   "outputs": [
    {
     "name": "stdout",
     "output_type": "stream",
     "text": [
      "<class 'str'>\n"
     ]
    }
   ],
   "source": [
    "#22.str()\n",
    "a = 4\n",
    "print(type(str(a))) #this function is used to convert other data types into string."
   ]
  },
  {
   "cell_type": "code",
   "execution_count": 9,
   "metadata": {},
   "outputs": [
    {
     "name": "stdout",
     "output_type": "stream",
     "text": [
      "<class 'list'>\n"
     ]
    }
   ],
   "source": [
    "#23.list()\n",
    "a = list((1, 2, 3))\n",
    "print(type(a))     #this function is used to create a list data structure in python"
   ]
  },
  {
   "cell_type": "code",
   "execution_count": 10,
   "metadata": {},
   "outputs": [
    {
     "name": "stdout",
     "output_type": "stream",
     "text": [
      "<class 'tuple'>\n"
     ]
    }
   ],
   "source": [
    "#24.tuple()\n",
    "a = tuple((1, 2, 3))\n",
    "print(type(a))    #this function is used to create a tuple data structure in python."
   ]
  },
  {
   "cell_type": "code",
   "execution_count": 11,
   "metadata": {},
   "outputs": [
    {
     "name": "stdout",
     "output_type": "stream",
     "text": [
      "{1: ['a'], 'b': [2], (4+3j): ['Hi']}\n",
      "<class 'dict'>\n"
     ]
    }
   ],
   "source": [
    "#25.dict()\n",
    "a = ({1 : ['a'], 'b' : [2], 3j + 4: ['Hi']})\n",
    "print(a)\n",
    "print(type(a)) #this function is used to create dictionary data structure in python"
   ]
  },
  {
   "cell_type": "code",
   "execution_count": 12,
   "metadata": {},
   "outputs": [
    {
     "name": "stdout",
     "output_type": "stream",
     "text": [
      "{1, 2, 3, 4}\n"
     ]
    }
   ],
   "source": [
    "#26.set()\n",
    "a = ([4, 1, 3, 2])\n",
    "print(set(a)) #this function is used to create set data structure in python"
   ]
  },
  {
   "cell_type": "code",
   "execution_count": 13,
   "metadata": {},
   "outputs": [
    {
     "name": "stdout",
     "output_type": "stream",
     "text": [
      "False\n",
      "True\n"
     ]
    }
   ],
   "source": [
    "#27.bool()\n",
    "a = 0\n",
    "b = 1\n",
    "print(bool(a))\n",
    "print(bool(b)) #this function returns the boolean output for a given value."
   ]
  },
  {
   "cell_type": "code",
   "execution_count": 15,
   "metadata": {},
   "outputs": [
    {
     "name": "stdout",
     "output_type": "stream",
     "text": [
      "0x6\n"
     ]
    }
   ],
   "source": [
    "#28.hex()\n",
    "a = 6\n",
    "print(hex(a)) #this function will print the hex of a given number."
   ]
  },
  {
   "cell_type": "code",
   "execution_count": 18,
   "metadata": {},
   "outputs": [
    {
     "name": "stdout",
     "output_type": "stream",
     "text": [
      "0o20\n"
     ]
    }
   ],
   "source": [
    "#29.oct()\n",
    "a = 16\n",
    "print(oct(a)) #this function will print oct value of a given number."
   ]
  },
  {
   "cell_type": "code",
   "execution_count": 22,
   "metadata": {},
   "outputs": [
    {
     "name": "stdout",
     "output_type": "stream",
     "text": [
      "10\n",
      "11\n",
      "12\n",
      "13\n",
      "14\n",
      "15\n"
     ]
    }
   ],
   "source": [
    "#30.range()\n",
    "a = range(10, 16)\n",
    "for i in a:\n",
    "    print(i) #this function is used to print the range of specified numbers."
   ]
  },
  {
   "cell_type": "code",
   "execution_count": 23,
   "metadata": {},
   "outputs": [
    {
     "name": "stdout",
     "output_type": "stream",
     "text": [
      "11\n"
     ]
    }
   ],
   "source": [
    "#31.len()\n",
    "a = 'Hello world'\n",
    "print(len(a))  #is used to find the length of a string."
   ]
  },
  {
   "cell_type": "code",
   "execution_count": 24,
   "metadata": {},
   "outputs": [
    {
     "name": "stdout",
     "output_type": "stream",
     "text": [
      "e\n"
     ]
    }
   ],
   "source": [
    "#32.min()\n",
    "a = 'hello'\n",
    "print(min(a)) #is used to print the minimum of a string in alphabetical order.(Capital alphabets are more prioritized over small letters)"
   ]
  },
  {
   "cell_type": "code",
   "execution_count": 27,
   "metadata": {},
   "outputs": [
    {
     "name": "stdout",
     "output_type": "stream",
     "text": [
      "5\n"
     ]
    }
   ],
   "source": [
    "a = [5, 10, 15, 20]\n",
    "print(min(a))"
   ]
  },
  {
   "cell_type": "code",
   "execution_count": 26,
   "metadata": {},
   "outputs": [
    {
     "name": "stdout",
     "output_type": "stream",
     "text": [
      "z\n"
     ]
    }
   ],
   "source": [
    "#33.max()\n",
    "a = 'zebra'\n",
    "print(max(a)) #is used to print the maximum of a string in alphabetical order."
   ]
  },
  {
   "cell_type": "code",
   "execution_count": 28,
   "metadata": {},
   "outputs": [
    {
     "name": "stdout",
     "output_type": "stream",
     "text": [
      "20\n"
     ]
    }
   ],
   "source": [
    "a = [5, 10, 15, 20]\n",
    "print(max(a))"
   ]
  },
  {
   "cell_type": "code",
   "execution_count": 2,
   "metadata": {},
   "outputs": [
    {
     "name": "stdout",
     "output_type": "stream",
     "text": [
      "['__class__', '__delattr__', '__dict__', '__dir__', '__doc__', '__eq__', '__format__', '__ge__', '__getattribute__', '__gt__', '__hash__', '__init__', '__init_subclass__', '__le__', '__lt__', '__module__', '__ne__', '__new__', '__reduce__', '__reduce_ex__', '__repr__', '__setattr__', '__sizeof__', '__str__', '__subclasshook__', '__weakref__', 'age', 'name']\n"
     ]
    }
   ],
   "source": [
    "#34.dir()\n",
    "class person:\n",
    "    name = 'virat'\n",
    "    age = 30\n",
    "print(dir(person)) #is used to know what are the operations that can performed on the class attributes."
   ]
  },
  {
   "cell_type": "code",
   "execution_count": 4,
   "metadata": {},
   "outputs": [
    {
     "ename": "AttributeError",
     "evalue": "'person' object has no attribute 'age'",
     "output_type": "error",
     "traceback": [
      "\u001b[1;31m---------------------------------------------------------------------------\u001b[0m",
      "\u001b[1;31mAttributeError\u001b[0m                            Traceback (most recent call last)",
      "\u001b[1;32m<ipython-input-4-51582c89dd84>\u001b[0m in \u001b[0;36m<module>\u001b[1;34m\u001b[0m\n\u001b[0;32m      5\u001b[0m \u001b[0mdelattr\u001b[0m\u001b[1;33m(\u001b[0m\u001b[0mperson\u001b[0m\u001b[1;33m,\u001b[0m \u001b[1;34m'age'\u001b[0m\u001b[1;33m)\u001b[0m\u001b[1;33m\u001b[0m\u001b[1;33m\u001b[0m\u001b[0m\n\u001b[0;32m      6\u001b[0m \u001b[0mob\u001b[0m \u001b[1;33m=\u001b[0m \u001b[0mperson\u001b[0m\u001b[1;33m(\u001b[0m\u001b[1;33m)\u001b[0m\u001b[1;33m\u001b[0m\u001b[1;33m\u001b[0m\u001b[0m\n\u001b[1;32m----> 7\u001b[1;33m \u001b[0mob\u001b[0m\u001b[1;33m.\u001b[0m\u001b[0mage\u001b[0m       \u001b[1;31m#this function is used to delete an attribute from the class.\u001b[0m\u001b[1;33m\u001b[0m\u001b[1;33m\u001b[0m\u001b[0m\n\u001b[0m",
      "\u001b[1;31mAttributeError\u001b[0m: 'person' object has no attribute 'age'"
     ]
    }
   ],
   "source": [
    "#35.delattr()\n",
    "class person:\n",
    "    name = 'virat'\n",
    "    age = 30\n",
    "delattr(person, 'age')\n",
    "ob = person()\n",
    "ob.age       #this function is used to delete an attribute from the class."
   ]
  },
  {
   "cell_type": "code",
   "execution_count": 7,
   "metadata": {},
   "outputs": [
    {
     "name": "stdout",
     "output_type": "stream",
     "text": [
      "55\n"
     ]
    }
   ],
   "source": [
    "#36.eval()\n",
    "a = 'print(55)'\n",
    "eval(a) #this function determines whether the code can be evaluated or not"
   ]
  },
  {
   "cell_type": "code",
   "execution_count": 9,
   "metadata": {},
   "outputs": [
    {
     "data": {
      "text/plain": [
       "<enumerate at 0x2e28cad8a68>"
      ]
     },
     "execution_count": 9,
     "metadata": {},
     "output_type": "execute_result"
    }
   ],
   "source": [
    "a = ['apple', 'banana', 'cherry']\n",
    "enumerate(a) #this function stores the address of all the list elements."
   ]
  },
  {
   "cell_type": "code",
   "execution_count": 12,
   "metadata": {},
   "outputs": [
    {
     "name": "stdout",
     "output_type": "stream",
     "text": [
      "20 adults\n",
      "25 adults\n"
     ]
    },
    {
     "data": {
      "text/plain": [
       "True"
      ]
     },
     "execution_count": 12,
     "metadata": {},
     "output_type": "execute_result"
    }
   ],
   "source": [
    "#37.filter()\n",
    "a = [5, 10, 15, 20, 25]\n",
    "def fn(x):\n",
    "    if x > 18:\n",
    "        return True\n",
    "    else:\n",
    "        return False\n",
    "adults = filter(fn, a)\n",
    "for x in adults:\n",
    "    print(x, 'adults')\n",
    "fn(20) #this function filters the value based on the given condition."
   ]
  },
  {
   "cell_type": "code",
   "execution_count": 16,
   "metadata": {},
   "outputs": [
    {
     "name": "stdout",
     "output_type": "stream",
     "text": [
      "frozenset({'apple', 'banana'})\n"
     ]
    }
   ],
   "source": [
    "#38.frozenset()\n",
    "a = ('apple', 'banana')\n",
    "print(frozenset(a)) #this function is used to convert list, tuple into set data structure."
   ]
  },
  {
   "cell_type": "code",
   "execution_count": 25,
   "metadata": {},
   "outputs": [
    {
     "name": "stdout",
     "output_type": "stream",
     "text": [
      "70.000000%\n"
     ]
    }
   ],
   "source": [
    "#39.format()\n",
    "a = 0.7\n",
    "print(format(a, '%')) #this function is used to convert a floating point value into percentage."
   ]
  },
  {
   "cell_type": "code",
   "execution_count": 6,
   "metadata": {},
   "outputs": [
    {
     "name": "stdout",
     "output_type": "stream",
     "text": [
      "30\n"
     ]
    }
   ],
   "source": [
    "#40.getattr():\n",
    "class person:\n",
    "    name = 'virat'\n",
    "    age = 30\n",
    "a = getattr(person, 'age')\n",
    "print(a)       #this functio is used to get a attribute value."
   ]
  },
  {
   "cell_type": "markdown",
   "metadata": {},
   "source": [
    "globals() : This function will return all the global variables used in jupyter lab untill the cache memory is full"
   ]
  },
  {
   "cell_type": "code",
   "execution_count": 31,
   "metadata": {
    "collapsed": true,
    "jupyter": {
     "outputs_hidden": true
    }
   },
   "outputs": [
    {
     "name": "stdout",
     "output_type": "stream",
     "text": [
      "{'__name__': '__main__', '__doc__': 'Automatically created module for IPython interactive environment', '__package__': None, '__loader__': None, '__spec__': None, '__builtin__': <module 'builtins' (built-in)>, '__builtins__': <module 'builtins' (built-in)>, '_ih': ['', \"#34.dir()\\nclass person:\\n    name = 'virat'\\n    age = 30\\n    print(dir(person))\", \"#34.eval()\\na = 'print(55)print(20)'\\neval(a)\", \"#34.eval()\\na = 'print(55)\\\\nprint(20)'\\neval(a)\", \"#34.eval()\\na = 'print(55) \\\\n print(20)'\\neval(a)\", \"#34.eval()\\na = 'print(55)''\\neval(a)\", \"#34.eval()\\na = 'print(55)'\\neval(a)\", \"#34.eval()\\na = 'print(55)'\\neval(a) #this function determines whether the code can be evaluated or not\", \"a = ['apple', 'banana', 'cherry']\\nenumerate(a)\", \"a = ['apple', 'banana', 'cherry']\\nenumerate(a) #this function stores the address of all the list elements.\", \"#35.filter()\\nage = [5, 10, 15, 20, 25]\\ndef fn(x):\\n    if age > 18:\\n        return True\\n    else:\\n        return False\\nadults = filter(fn, age)\\nfor i in adults:\\n    print(i, 'adults')\", \"#35.filter()\\nage = [5, 10, 15, 20, 25]\\ndef fn(x):\\n    if age > 18:\\n        return True\\n    else:\\n        return False\\nadults = filter(fn, age)\\nfor x in adults:\\n    print(x, 'adults')\", \"#35.filter()\\nage = 15\\ndef fn(x):\\n    if age > 18:\\n        return True\\n    else:\\n        return False\\nadults = filter(fn, age)\\nfor x in adults:\\n    print(x, 'adults')\", '#35.filter()\\nage = 15\\ndef fn(x):\\n    if age > 18:\\n        return True\\n    else:\\n        return False\\nadults = filter(fn, age)', '#35.filter()\\nx = 15\\ndef fn(x):\\n    if age > 18:\\n        return True\\n    else:\\n        return False\\nadults = filter(fn, age)', '#35.filter()', \"#36.frozenset()\\na = ('apple', 'banana')\\nprint(frozenset(a))\", '#37.format()\\na = 0.7\\nprint(format(a))', \"#37.format()\\na = 0.7\\nprint(format(a, '%'))\", \"#37.format()\\na = 0.7\\nprint(format(a, '*10'))\", \"#37.format()\\na = 0.7\\nprint(format(a, '*'))\", \"#37.format()\\na = 0.7\\nprint(format(a, '+'))\", \"#37.format()\\na = 0.7\\nprint(format(a, '-'))\", \"#37.format()\\na = 0.7\\nprint(format(a, '*'))\", \"#37.format()\\na = 0.7\\nprint(format(a, '/'))\", \"#37.format()\\na = 0.7\\nprint(format(a, '%'))\", '#34.dir()', '#35.delattr()', \"#40.getattr():\\nclass person:\\n    name = 'virat'\\n    age = 30\\n    a = getattr(person, 'age')\\n    print(a)\", \"#40.getattr():\\nclass person:\\n    name = 'virat'\\n    age = 30\\n    a = getattr('person', 'age')\\n    print(a)\", \"#40.getattr():\\nclass person:\\n    name = 'virat'\\n    age = 30\\n    a = getattr('person', age)\\n    print(a)\", '#41.globals()\\nx = globals()\\nprint(x)'], '_oh': {8: <enumerate object at 0x000002E28CA6DF30>, 9: <enumerate object at 0x000002E28CAD8A68>}, '_dh': ['C:\\\\Users\\\\RAGHAVENDRA\\\\Desktop'], 'In': ['', \"#34.dir()\\nclass person:\\n    name = 'virat'\\n    age = 30\\n    print(dir(person))\", \"#34.eval()\\na = 'print(55)print(20)'\\neval(a)\", \"#34.eval()\\na = 'print(55)\\\\nprint(20)'\\neval(a)\", \"#34.eval()\\na = 'print(55) \\\\n print(20)'\\neval(a)\", \"#34.eval()\\na = 'print(55)''\\neval(a)\", \"#34.eval()\\na = 'print(55)'\\neval(a)\", \"#34.eval()\\na = 'print(55)'\\neval(a) #this function determines whether the code can be evaluated or not\", \"a = ['apple', 'banana', 'cherry']\\nenumerate(a)\", \"a = ['apple', 'banana', 'cherry']\\nenumerate(a) #this function stores the address of all the list elements.\", \"#35.filter()\\nage = [5, 10, 15, 20, 25]\\ndef fn(x):\\n    if age > 18:\\n        return True\\n    else:\\n        return False\\nadults = filter(fn, age)\\nfor i in adults:\\n    print(i, 'adults')\", \"#35.filter()\\nage = [5, 10, 15, 20, 25]\\ndef fn(x):\\n    if age > 18:\\n        return True\\n    else:\\n        return False\\nadults = filter(fn, age)\\nfor x in adults:\\n    print(x, 'adults')\", \"#35.filter()\\nage = 15\\ndef fn(x):\\n    if age > 18:\\n        return True\\n    else:\\n        return False\\nadults = filter(fn, age)\\nfor x in adults:\\n    print(x, 'adults')\", '#35.filter()\\nage = 15\\ndef fn(x):\\n    if age > 18:\\n        return True\\n    else:\\n        return False\\nadults = filter(fn, age)', '#35.filter()\\nx = 15\\ndef fn(x):\\n    if age > 18:\\n        return True\\n    else:\\n        return False\\nadults = filter(fn, age)', '#35.filter()', \"#36.frozenset()\\na = ('apple', 'banana')\\nprint(frozenset(a))\", '#37.format()\\na = 0.7\\nprint(format(a))', \"#37.format()\\na = 0.7\\nprint(format(a, '%'))\", \"#37.format()\\na = 0.7\\nprint(format(a, '*10'))\", \"#37.format()\\na = 0.7\\nprint(format(a, '*'))\", \"#37.format()\\na = 0.7\\nprint(format(a, '+'))\", \"#37.format()\\na = 0.7\\nprint(format(a, '-'))\", \"#37.format()\\na = 0.7\\nprint(format(a, '*'))\", \"#37.format()\\na = 0.7\\nprint(format(a, '/'))\", \"#37.format()\\na = 0.7\\nprint(format(a, '%'))\", '#34.dir()', '#35.delattr()', \"#40.getattr():\\nclass person:\\n    name = 'virat'\\n    age = 30\\n    a = getattr(person, 'age')\\n    print(a)\", \"#40.getattr():\\nclass person:\\n    name = 'virat'\\n    age = 30\\n    a = getattr('person', 'age')\\n    print(a)\", \"#40.getattr():\\nclass person:\\n    name = 'virat'\\n    age = 30\\n    a = getattr('person', age)\\n    print(a)\", '#41.globals()\\nx = globals()\\nprint(x)'], 'Out': {8: <enumerate object at 0x000002E28CA6DF30>, 9: <enumerate object at 0x000002E28CAD8A68>}, 'get_ipython': <bound method InteractiveShell.get_ipython of <ipykernel.zmqshell.ZMQInteractiveShell object at 0x000002E28C9F60F0>>, 'exit': <IPython.core.autocall.ZMQExitAutocall object at 0x000002E28CA22860>, 'quit': <IPython.core.autocall.ZMQExitAutocall object at 0x000002E28CA22860>, '_': <enumerate object at 0x000002E28CAD8A68>, '__': <enumerate object at 0x000002E28CA6DF30>, '___': '', '_i': \"#40.getattr():\\nclass person:\\n    name = 'virat'\\n    age = 30\\n    a = getattr('person', age)\\n    print(a)\", '_ii': \"#40.getattr():\\nclass person:\\n    name = 'virat'\\n    age = 30\\n    a = getattr('person', 'age')\\n    print(a)\", '_iii': \"#40.getattr():\\nclass person:\\n    name = 'virat'\\n    age = 30\\n    a = getattr(person, 'age')\\n    print(a)\", '_i1': \"#34.dir()\\nclass person:\\n    name = 'virat'\\n    age = 30\\n    print(dir(person))\", '_i2': \"#34.eval()\\na = 'print(55)print(20)'\\neval(a)\", 'a': 0.7, '_i3': \"#34.eval()\\na = 'print(55)\\\\nprint(20)'\\neval(a)\", '_i4': \"#34.eval()\\na = 'print(55) \\\\n print(20)'\\neval(a)\", '_i5': \"#34.eval()\\na = 'print(55)''\\neval(a)\", '_i6': \"#34.eval()\\na = 'print(55)'\\neval(a)\", '_i7': \"#34.eval()\\na = 'print(55)'\\neval(a) #this function determines whether the code can be evaluated or not\", '_i8': \"a = ['apple', 'banana', 'cherry']\\nenumerate(a)\", '_8': <enumerate object at 0x000002E28CA6DF30>, '_i9': \"a = ['apple', 'banana', 'cherry']\\nenumerate(a) #this function stores the address of all the list elements.\", '_9': <enumerate object at 0x000002E28CAD8A68>, '_i10': \"#35.filter()\\nage = [5, 10, 15, 20, 25]\\ndef fn(x):\\n    if age > 18:\\n        return True\\n    else:\\n        return False\\nadults = filter(fn, age)\\nfor i in adults:\\n    print(i, 'adults')\", 'age': 15, 'fn': <function fn at 0x000002E28CB096A8>, 'adults': <filter object at 0x000002E28C969A90>, '_i11': \"#35.filter()\\nage = [5, 10, 15, 20, 25]\\ndef fn(x):\\n    if age > 18:\\n        return True\\n    else:\\n        return False\\nadults = filter(fn, age)\\nfor x in adults:\\n    print(x, 'adults')\", '_i12': \"#35.filter()\\nage = 15\\ndef fn(x):\\n    if age > 18:\\n        return True\\n    else:\\n        return False\\nadults = filter(fn, age)\\nfor x in adults:\\n    print(x, 'adults')\", '_i13': '#35.filter()\\nage = 15\\ndef fn(x):\\n    if age > 18:\\n        return True\\n    else:\\n        return False\\nadults = filter(fn, age)', '_i14': '#35.filter()\\nx = 15\\ndef fn(x):\\n    if age > 18:\\n        return True\\n    else:\\n        return False\\nadults = filter(fn, age)', 'x': {...}, '_i15': '#35.filter()', '_i16': \"#36.frozenset()\\na = ('apple', 'banana')\\nprint(frozenset(a))\", '_i17': '#37.format()\\na = 0.7\\nprint(format(a))', '_i18': \"#37.format()\\na = 0.7\\nprint(format(a, '%'))\", '_i19': \"#37.format()\\na = 0.7\\nprint(format(a, '*10'))\", '_i20': \"#37.format()\\na = 0.7\\nprint(format(a, '*'))\", '_i21': \"#37.format()\\na = 0.7\\nprint(format(a, '+'))\", '_i22': \"#37.format()\\na = 0.7\\nprint(format(a, '-'))\", '_i23': \"#37.format()\\na = 0.7\\nprint(format(a, '*'))\", '_i24': \"#37.format()\\na = 0.7\\nprint(format(a, '/'))\", '_i25': \"#37.format()\\na = 0.7\\nprint(format(a, '%'))\", '_i26': '#34.dir()', '_i27': '#35.delattr()', '_i28': \"#40.getattr():\\nclass person:\\n    name = 'virat'\\n    age = 30\\n    a = getattr(person, 'age')\\n    print(a)\", '_i29': \"#40.getattr():\\nclass person:\\n    name = 'virat'\\n    age = 30\\n    a = getattr('person', 'age')\\n    print(a)\", '_i30': \"#40.getattr():\\nclass person:\\n    name = 'virat'\\n    age = 30\\n    a = getattr('person', age)\\n    print(a)\", '_i31': '#41.globals()\\nx = globals()\\nprint(x)'}\n"
     ]
    }
   ],
   "source": [
    "#41.globals()\n",
    "x = globals()\n",
    "print(x)"
   ]
  },
  {
   "cell_type": "code",
   "execution_count": 8,
   "metadata": {},
   "outputs": [
    {
     "name": "stdout",
     "output_type": "stream",
     "text": [
      "True\n"
     ]
    }
   ],
   "source": [
    "#42.hasattr()\n",
    "class person:\n",
    "    name = 'virat'\n",
    "    age = 30\n",
    "    country = 'India'\n",
    "a = hasattr(person, 'age')\n",
    "print(a)   #returns true if attribute is present in the class."
   ]
  },
  {
   "cell_type": "code",
   "execution_count": 16,
   "metadata": {
    "collapsed": true,
    "jupyter": {
     "outputs_hidden": true
    }
   },
   "outputs": [
    {
     "ename": "TypeError",
     "evalue": "isinstance() arg 2 must be a type or tuple of types",
     "output_type": "error",
     "traceback": [
      "\u001b[1;31m---------------------------------------------------------------------------\u001b[0m",
      "\u001b[1;31mTypeError\u001b[0m                                 Traceback (most recent call last)",
      "\u001b[1;32m<ipython-input-16-9d02b8898d72>\u001b[0m in \u001b[0;36m<module>\u001b[1;34m\u001b[0m\n\u001b[0;32m      1\u001b[0m \u001b[1;31m#43.isinstance\u001b[0m\u001b[1;33m\u001b[0m\u001b[1;33m\u001b[0m\u001b[1;33m\u001b[0m\u001b[0m\n\u001b[1;32m----> 2\u001b[1;33m \u001b[0ma\u001b[0m \u001b[1;33m=\u001b[0m \u001b[0misinstance\u001b[0m\u001b[1;33m(\u001b[0m\u001b[0mint\u001b[0m\u001b[1;33m,\u001b[0m \u001b[1;33m(\u001b[0m\u001b[1;36m1\u001b[0m\u001b[1;33m,\u001b[0m \u001b[1;36m2.5\u001b[0m\u001b[1;33m,\u001b[0m \u001b[1;36m3\u001b[0m\u001b[1;33m+\u001b[0m\u001b[1;36m5j\u001b[0m\u001b[1;33m)\u001b[0m\u001b[1;33m)\u001b[0m\u001b[1;33m\u001b[0m\u001b[1;33m\u001b[0m\u001b[0m\n\u001b[0m\u001b[0;32m      3\u001b[0m \u001b[0ma\u001b[0m\u001b[1;33m\u001b[0m\u001b[1;33m\u001b[0m\u001b[0m\n",
      "\u001b[1;31mTypeError\u001b[0m: isinstance() arg 2 must be a type or tuple of types"
     ]
    }
   ],
   "source": [
    "#43.isinstance\n",
    "a = isinstance(int, (1, 2.5, 3+5j))\n",
    "a"
   ]
  },
  {
   "cell_type": "code",
   "execution_count": 4,
   "metadata": {},
   "outputs": [
    {
     "name": "stdout",
     "output_type": "stream",
     "text": [
      "True\n"
     ]
    }
   ],
   "source": [
    "#44.issubclass()\n",
    "class parent:\n",
    "    gender = 'male'\n",
    "    age = 30\n",
    "class child(parent):\n",
    "    name = 'virat'\n",
    "    age = parent\n",
    "    gender = parent\n",
    "class subchild(child):\n",
    "    status = 'married'\n",
    "    name = child\n",
    "    age = parent\n",
    "    gender = parent\n",
    "x = issubclass(subchild, parent)\n",
    "print(x) #this function returns a boolean value based on whether a specified class is subclass of a base class.  "
   ]
  },
  {
   "cell_type": "markdown",
   "metadata": {},
   "source": [
    "Note : Output obtained as true for above code is wrong because subchild is not a subclass of parent instead it is a supersub class of parent class."
   ]
  },
  {
   "cell_type": "markdown",
   "metadata": {},
   "source": [
    "This issubclass works perfectly fine when there are only two classes."
   ]
  },
  {
   "cell_type": "code",
   "execution_count": 5,
   "metadata": {},
   "outputs": [
    {
     "name": "stdout",
     "output_type": "stream",
     "text": [
      "apple\n",
      "banana\n",
      "cherry\n"
     ]
    }
   ],
   "source": [
    "#45.iter() and 46.next() combined\n",
    "a = iter(['apple', 'banana', 'cherry'])\n",
    "print(next(a))\n",
    "print(next(a))\n",
    "print(next(a))  #this function is used to iterate over any data structure."
   ]
  },
  {
   "cell_type": "markdown",
   "metadata": {},
   "source": [
    "Note : Iter() has an advantage that it can iterate over any data type."
   ]
  },
  {
   "cell_type": "markdown",
   "metadata": {},
   "source": [
    "Note 2: The above mentioned note is disadvantage in for loop because for loop can not iterate through list and integer data type. But iter() combined with next() can do that."
   ]
  },
  {
   "cell_type": "code",
   "execution_count": 6,
   "metadata": {
    "collapsed": true,
    "jupyter": {
     "outputs_hidden": true
    }
   },
   "outputs": [
    {
     "name": "stdout",
     "output_type": "stream",
     "text": [
      "{'__name__': '__main__', '__doc__': 'Automatically created module for IPython interactive environment', '__package__': None, '__loader__': None, '__spec__': None, '__builtin__': <module 'builtins' (built-in)>, '__builtins__': <module 'builtins' (built-in)>, '_ih': ['', \"#44.issubclass()\\nclass parent:\\n    gender = 'male'\\n    age = 30\\n    class child(parent):\\n        name = 'virat'\\n        age = parent\\n        gender = parent\\n        class subchild(child):\\n            status = 'married'\\n            name = child\\n            age = parent\\n            gender = parent\\nx = issubclass(subchild, parent)\\nprint(x)\", \"#44.issubclass()\\nclass parent:\\n    gender = 'male'\\n    age = 30\\n    class child(parent):\\n        name = 'virat'\\n        age = parent\\n        gender = parent\\n        class subchild(child):\\n            status = 'married'\\n            name = child\\n            age = parent\\n            gender = parent\\n            x = issubclass(subchild, parent)\\n            print(x)\", \"#44.issubclass()\\nclass parent:\\n    gender = 'male'\\n    age = 30\\nclass child(parent):\\n    name = 'virat'\\n    age = parent\\n    gender = parent\\nclass subchild(child):\\n    status = 'married'\\n            name = child\\n            age = parent\\n            gender = parent\\n            x = issubclass(subchild, parent)\\n            print(x)\\n      \", \"#44.issubclass()\\nclass parent:\\n    gender = 'male'\\n    age = 30\\nclass child(parent):\\n    name = 'virat'\\n    age = parent\\n    gender = parent\\nclass subchild(child):\\n    status = 'married'\\n    name = child\\n    age = parent\\n    gender = parent\\nx = issubclass(subchild, parent)\\nprint(x)\\n      \", \"#iter()\\na = iter(['apple', 'banana', 'cherry'])\\nprint(next(a))\\nprint(next(a))\\nprint(next(a))\", 'x = locals()\\nprint(x)'], '_oh': {}, '_dh': ['C:\\\\Users\\\\RAGHAVENDRA\\\\Desktop'], 'In': ['', \"#44.issubclass()\\nclass parent:\\n    gender = 'male'\\n    age = 30\\n    class child(parent):\\n        name = 'virat'\\n        age = parent\\n        gender = parent\\n        class subchild(child):\\n            status = 'married'\\n            name = child\\n            age = parent\\n            gender = parent\\nx = issubclass(subchild, parent)\\nprint(x)\", \"#44.issubclass()\\nclass parent:\\n    gender = 'male'\\n    age = 30\\n    class child(parent):\\n        name = 'virat'\\n        age = parent\\n        gender = parent\\n        class subchild(child):\\n            status = 'married'\\n            name = child\\n            age = parent\\n            gender = parent\\n            x = issubclass(subchild, parent)\\n            print(x)\", \"#44.issubclass()\\nclass parent:\\n    gender = 'male'\\n    age = 30\\nclass child(parent):\\n    name = 'virat'\\n    age = parent\\n    gender = parent\\nclass subchild(child):\\n    status = 'married'\\n            name = child\\n            age = parent\\n            gender = parent\\n            x = issubclass(subchild, parent)\\n            print(x)\\n      \", \"#44.issubclass()\\nclass parent:\\n    gender = 'male'\\n    age = 30\\nclass child(parent):\\n    name = 'virat'\\n    age = parent\\n    gender = parent\\nclass subchild(child):\\n    status = 'married'\\n    name = child\\n    age = parent\\n    gender = parent\\nx = issubclass(subchild, parent)\\nprint(x)\\n      \", \"#iter()\\na = iter(['apple', 'banana', 'cherry'])\\nprint(next(a))\\nprint(next(a))\\nprint(next(a))\", 'x = locals()\\nprint(x)'], 'Out': {}, 'get_ipython': <bound method InteractiveShell.get_ipython of <ipykernel.zmqshell.ZMQInteractiveShell object at 0x0000021052D160F0>>, 'exit': <IPython.core.autocall.ZMQExitAutocall object at 0x0000021052D43898>, 'quit': <IPython.core.autocall.ZMQExitAutocall object at 0x0000021052D43898>, '_': '', '__': '', '___': '', '_i': \"#iter()\\na = iter(['apple', 'banana', 'cherry'])\\nprint(next(a))\\nprint(next(a))\\nprint(next(a))\", '_ii': \"#44.issubclass()\\nclass parent:\\n    gender = 'male'\\n    age = 30\\nclass child(parent):\\n    name = 'virat'\\n    age = parent\\n    gender = parent\\nclass subchild(child):\\n    status = 'married'\\n    name = child\\n    age = parent\\n    gender = parent\\nx = issubclass(subchild, parent)\\nprint(x)\\n      \", '_iii': \"#44.issubclass()\\nclass parent:\\n    gender = 'male'\\n    age = 30\\nclass child(parent):\\n    name = 'virat'\\n    age = parent\\n    gender = parent\\nclass subchild(child):\\n    status = 'married'\\n            name = child\\n            age = parent\\n            gender = parent\\n            x = issubclass(subchild, parent)\\n            print(x)\\n      \", '_i1': \"#44.issubclass()\\nclass parent:\\n    gender = 'male'\\n    age = 30\\n    class child(parent):\\n        name = 'virat'\\n        age = parent\\n        gender = parent\\n        class subchild(child):\\n            status = 'married'\\n            name = child\\n            age = parent\\n            gender = parent\\nx = issubclass(subchild, parent)\\nprint(x)\", '_i2': \"#44.issubclass()\\nclass parent:\\n    gender = 'male'\\n    age = 30\\n    class child(parent):\\n        name = 'virat'\\n        age = parent\\n        gender = parent\\n        class subchild(child):\\n            status = 'married'\\n            name = child\\n            age = parent\\n            gender = parent\\n            x = issubclass(subchild, parent)\\n            print(x)\", '_i3': \"#44.issubclass()\\nclass parent:\\n    gender = 'male'\\n    age = 30\\nclass child(parent):\\n    name = 'virat'\\n    age = parent\\n    gender = parent\\nclass subchild(child):\\n    status = 'married'\\n            name = child\\n            age = parent\\n            gender = parent\\n            x = issubclass(subchild, parent)\\n            print(x)\\n      \", '_i4': \"#44.issubclass()\\nclass parent:\\n    gender = 'male'\\n    age = 30\\nclass child(parent):\\n    name = 'virat'\\n    age = parent\\n    gender = parent\\nclass subchild(child):\\n    status = 'married'\\n    name = child\\n    age = parent\\n    gender = parent\\nx = issubclass(subchild, parent)\\nprint(x)\\n      \", 'parent': <class '__main__.parent'>, 'child': <class '__main__.child'>, 'subchild': <class '__main__.subchild'>, 'x': {...}, '_i5': \"#iter()\\na = iter(['apple', 'banana', 'cherry'])\\nprint(next(a))\\nprint(next(a))\\nprint(next(a))\", 'a': <list_iterator object at 0x0000021052DF83C8>, '_i6': 'x = locals()\\nprint(x)'}\n"
     ]
    }
   ],
   "source": [
    "#47.loclas()\n",
    "x = locals()\n",
    "print(x)"
   ]
  },
  {
   "cell_type": "markdown",
   "metadata": {},
   "source": [
    "Locals() print the latest updated variables."
   ]
  },
  {
   "cell_type": "code",
   "execution_count": 18,
   "metadata": {},
   "outputs": [
    {
     "name": "stdin",
     "output_type": "stream",
     "text": [
      "enter the values:  1, 2\n"
     ]
    },
    {
     "name": "stdout",
     "output_type": "stream",
     "text": [
      "1 2\n"
     ]
    }
   ],
   "source": [
    "#48.map()\n",
    "a, b = map(int, input('enter the values: ').split(',')) \n",
    "print(a, b) #this function is used to map the entered values into specified variables."
   ]
  },
  {
   "cell_type": "code",
   "execution_count": 5,
   "metadata": {},
   "outputs": [
    {
     "name": "stdout",
     "output_type": "stream",
     "text": [
      "<memory at 0x00000194A10AD048>\n",
      "72\n",
      "72\n"
     ]
    }
   ],
   "source": [
    "#49.memoryview()\n",
    "x = memoryview(b'Hello') \n",
    "print(x) #this function displays the address of the byte data.\n",
    "print(x[0])\n",
    "print(ord('H'))"
   ]
  },
  {
   "cell_type": "code",
   "execution_count": 7,
   "metadata": {},
   "outputs": [
    {
     "name": "stdout",
     "output_type": "stream",
     "text": [
      "<object object at 0x000001949C9EBDB0>\n"
     ]
    }
   ],
   "source": [
    "#50.object()\n",
    "a = object()\n",
    "print(a)   #This function is used to verify whether a class object is created or not. If created this function will display address as an output"
   ]
  },
  {
   "cell_type": "markdown",
   "metadata": {},
   "source": [
    "Open(): Is used in file handling.\n",
    "\n"
   ]
  },
  {
   "cell_type": "markdown",
   "metadata": {},
   "source": [
    "This function is used to open any files."
   ]
  },
  {
   "cell_type": "markdown",
   "metadata": {},
   "source": [
    "Note: read() is used to read a file."
   ]
  },
  {
   "cell_type": "code",
   "execution_count": 9,
   "metadata": {},
   "outputs": [
    {
     "name": "stdout",
     "output_type": "stream",
     "text": [
      "Hello world welcome to python.\n"
     ]
    }
   ],
   "source": [
    "#51.open()\n",
    "data = open('data.txt', 'r') #data.txt file should be created in your system. \n",
    "x = data.read()\n",
    "print(x)"
   ]
  },
  {
   "cell_type": "code",
   "execution_count": 10,
   "metadata": {},
   "outputs": [
    {
     "name": "stdout",
     "output_type": "stream",
     "text": [
      "125\n"
     ]
    }
   ],
   "source": [
    "#52.pow()\n",
    "a = pow(5, 3)\n",
    "print(a)    #note: Both '**' and pow() are used to find the power of a number."
   ]
  },
  {
   "cell_type": "code",
   "execution_count": 13,
   "metadata": {
    "collapsed": true,
    "jupyter": {
     "outputs_hidden": true
    }
   },
   "outputs": [
    {
     "name": "stdout",
     "output_type": "stream",
     "text": [
      "1\n",
      "2\n",
      "3\n",
      "4\n",
      "5\n"
     ]
    }
   ],
   "source": [
    "#53.reversed()\n",
    "a = [5, 4, 3, 2, 1]\n",
    "x = reversed(a)  #this function is used to reverse all the list elements.\n",
    "for i in x:\n",
    "    print(i)"
   ]
  },
  {
   "cell_type": "code",
   "execution_count": 14,
   "metadata": {
    "collapsed": true,
    "jupyter": {
     "outputs_hidden": true
    }
   },
   "outputs": [
    {
     "name": "stdout",
     "output_type": "stream",
     "text": [
      "25\n",
      "5\n",
      "3\n",
      "2\n",
      "1\n"
     ]
    }
   ],
   "source": [
    "#54.sorted()\n",
    "# reverse() combined with sorted().\n",
    "a = [5, 3, 1, 2, 25]\n",
    "x = sorted(a)       #this function is used to sort a list.\n",
    "for i in reversed(x):\n",
    "    print(i)"
   ]
  },
  {
   "cell_type": "code",
   "execution_count": 16,
   "metadata": {},
   "outputs": [
    {
     "name": "stdout",
     "output_type": "stream",
     "text": [
      "3.1\n"
     ]
    }
   ],
   "source": [
    "#55.round()\n",
    "a = 3.142\n",
    "print(round(a, 1)) #this function is used to round off a floating point value."
   ]
  },
  {
   "cell_type": "code",
   "execution_count": 19,
   "metadata": {},
   "outputs": [
    {
     "name": "stdout",
     "output_type": "stream",
     "text": [
      "30\n",
      "35\n"
     ]
    }
   ],
   "source": [
    "#56.setattr()\n",
    "class person:\n",
    "    name = 'virat'\n",
    "    age = 30\n",
    "    country = 'India'\n",
    "ob = person()\n",
    "print(ob.age)\n",
    "a = setattr(person, 'age', 35)\n",
    "print(ob.age)"
   ]
  },
  {
   "cell_type": "code",
   "execution_count": 20,
   "metadata": {},
   "outputs": [
    {
     "name": "stdout",
     "output_type": "stream",
     "text": [
      "15\n"
     ]
    }
   ],
   "source": [
    "#57.sum()\n",
    "a = [1, 2, 3, 4, 5]\n",
    "print(sum(a))      #this function is used to add all the list elements."
   ]
  },
  {
   "cell_type": "code",
   "execution_count": 25,
   "metadata": {},
   "outputs": [
    {
     "name": "stdout",
     "output_type": "stream",
     "text": [
      "slice(None, 3, None)\n"
     ]
    }
   ],
   "source": [
    "#58.slice()\n",
    "a = ('a', 'b', 'c', 'd', 'e')\n",
    "x = slice(3)\n",
    "print(x)         #this function is used to perform slice operation."
   ]
  },
  {
   "cell_type": "code",
   "execution_count": 28,
   "metadata": {
    "collapsed": true,
    "jupyter": {
     "outputs_hidden": true
    }
   },
   "outputs": [
    {
     "data": {
      "text/plain": [
       "mappingproxy({'__module__': '__main__',\n",
       "              'name': 'virat',\n",
       "              'age': 30,\n",
       "              'country': 'India',\n",
       "              '__dict__': <attribute '__dict__' of 'person' objects>,\n",
       "              '__weakref__': <attribute '__weakref__' of 'person' objects>,\n",
       "              '__doc__': None})"
      ]
     },
     "execution_count": 28,
     "metadata": {},
     "output_type": "execute_result"
    }
   ],
   "source": [
    "#59.vars()\n",
    "class person:\n",
    "    name = 'virat'\n",
    "    age = 30\n",
    "    country = 'India'\n",
    "x = vars(person)     #this function will print mapping proxy as output.\n",
    "x"
   ]
  },
  {
   "cell_type": "code",
   "execution_count": 29,
   "metadata": {},
   "outputs": [
    {
     "name": "stdout",
     "output_type": "stream",
     "text": [
      "('apple', 'cherry', 'A')\n",
      "('banana', 'doll', 'B')\n"
     ]
    }
   ],
   "source": [
    "#60.zip()\n",
    "a = ('apple', 'banana')\n",
    "b = ('cherry', 'doll')\n",
    "c = ('A', 'B')\n",
    "x = zip(a, b, c) #this function is used to combine the tuple elements and map them accordingly.\n",
    "for i in x:\n",
    "    print(i)"
   ]
  },
  {
   "cell_type": "code",
   "execution_count": 31,
   "metadata": {},
   "outputs": [
    {
     "data": {
      "text/plain": [
       "\"'virat'\""
      ]
     },
     "execution_count": 31,
     "metadata": {},
     "output_type": "execute_result"
    }
   ],
   "source": [
    "#61.repr()\n",
    "a = 'virat'\n",
    "x = repr(a) \n",
    "x"
   ]
  },
  {
   "cell_type": "markdown",
   "metadata": {},
   "source": [
    "Note: Hash is nothing but the hash table."
   ]
  },
  {
   "cell_type": "markdown",
   "metadata": {},
   "source": [
    "For the complete whole number hash value remains the same."
   ]
  },
  {
   "cell_type": "markdown",
   "metadata": {},
   "source": [
    "For the floating point value, integer part will have one address and the floating part will have one address they together map to a single address obtained as an output."
   ]
  },
  {
   "cell_type": "code",
   "execution_count": 1,
   "metadata": {},
   "outputs": [
    {
     "name": "stdout",
     "output_type": "stream",
     "text": [
      "18\n",
      "327429707308344323\n",
      "-2968258661146213180\n"
     ]
    }
   ],
   "source": [
    "#62.hash()\n",
    "print(hash(18))\n",
    "print(hash(3.142))\n",
    "print(hash('hello'))"
   ]
  },
  {
   "cell_type": "code",
   "execution_count": 36,
   "metadata": {
    "collapsed": true,
    "jupyter": {
     "outputs_hidden": true
    }
   },
   "outputs": [
    {
     "ename": "TypeError",
     "evalue": "'str' object is not callable",
     "output_type": "error",
     "traceback": [
      "\u001b[1;31m---------------------------------------------------------------------------\u001b[0m",
      "\u001b[1;31mTypeError\u001b[0m                                 Traceback (most recent call last)",
      "\u001b[1;32m<ipython-input-36-7f330c86c392>\u001b[0m in \u001b[0;36m<module>\u001b[1;34m\u001b[0m\n\u001b[0;32m      6\u001b[0m         \u001b[0mprint\u001b[0m\u001b[1;33m(\u001b[0m\u001b[0mcls\u001b[0m\u001b[1;33m.\u001b[0m\u001b[0mname\u001b[0m\u001b[1;33m)\u001b[0m\u001b[1;33m\u001b[0m\u001b[1;33m\u001b[0m\u001b[0m\n\u001b[0;32m      7\u001b[0m \u001b[0mperson\u001b[0m\u001b[1;33m.\u001b[0m\u001b[0mfn\u001b[0m \u001b[1;33m=\u001b[0m \u001b[0mclassmethod\u001b[0m\u001b[1;33m(\u001b[0m\u001b[0mperson\u001b[0m\u001b[1;33m.\u001b[0m\u001b[0mname\u001b[0m\u001b[1;33m)\u001b[0m\u001b[1;33m\u001b[0m\u001b[1;33m\u001b[0m\u001b[0m\n\u001b[1;32m----> 8\u001b[1;33m \u001b[0mperson\u001b[0m\u001b[1;33m.\u001b[0m\u001b[0mfn\u001b[0m\u001b[1;33m(\u001b[0m\u001b[1;33m)\u001b[0m\u001b[1;33m\u001b[0m\u001b[1;33m\u001b[0m\u001b[0m\n\u001b[0m",
      "\u001b[1;31mTypeError\u001b[0m: 'str' object is not callable"
     ]
    }
   ],
   "source": [
    "#63.classmethod()\n",
    "class person:\n",
    "    name = 'virat'\n",
    "    age = 30\n",
    "    def fn(cls):\n",
    "        print(cls.name)\n",
    "person.fn = classmethod(person.name)\n",
    "person.fn()"
   ]
  },
  {
   "cell_type": "code",
   "execution_count": 1,
   "metadata": {},
   "outputs": [
    {
     "name": "stdout",
     "output_type": "stream",
     "text": [
      "even 4\n",
      "odd 7\n"
     ]
    }
   ],
   "source": [
    "#example.\n",
    "def evenOdd(a):\n",
    "    if(a%2 == 0):\n",
    "        print('even', a)\n",
    "    else:\n",
    "        print('odd', a)\n",
    "evenOdd(4)\n",
    "evenOdd(7)"
   ]
  },
  {
   "cell_type": "markdown",
   "metadata": {},
   "source": [
    "1.Default Argument."
   ]
  },
  {
   "cell_type": "code",
   "execution_count": 15,
   "metadata": {},
   "outputs": [
    {
     "name": "stdout",
     "output_type": "stream",
     "text": [
      "x 20\n",
      "y 50\n"
     ]
    }
   ],
   "source": [
    "def fn(x, y = 50):\n",
    "    print('x', x)\n",
    "    print('y', y)\n",
    "fn(20)"
   ]
  },
  {
   "cell_type": "markdown",
   "metadata": {},
   "source": [
    "2.Keyword Argument."
   ]
  },
  {
   "cell_type": "markdown",
   "metadata": {},
   "source": [
    "Note: The idea is to allow caller to specify argument name with values so that caller does not need to remember order of parameters."
   ]
  },
  {
   "cell_type": "code",
   "execution_count": 16,
   "metadata": {},
   "outputs": [
    {
     "name": "stdout",
     "output_type": "stream",
     "text": [
      "virat kohli\n"
     ]
    }
   ],
   "source": [
    "def fn(firstname, lastname):\n",
    "    print(firstname, lastname)\n",
    "fn(lastname = 'kohli', firstname = 'virat')"
   ]
  },
  {
   "cell_type": "markdown",
   "metadata": {},
   "source": [
    "3.Variable length Arguments."
   ]
  },
  {
   "cell_type": "code",
   "execution_count": 19,
   "metadata": {},
   "outputs": [
    {
     "name": "stdout",
     "output_type": "stream",
     "text": [
      "welcome to python "
     ]
    }
   ],
   "source": [
    "def fn(*arg):\n",
    "    for a in arg:\n",
    "        print(a, end = ' ')\n",
    "fn('welcome', 'to', 'python')"
   ]
  },
  {
   "cell_type": "code",
   "execution_count": 20,
   "metadata": {},
   "outputs": [
    {
     "name": "stdout",
     "output_type": "stream",
     "text": [
      "last == python\n",
      "first == welcome\n",
      "mid == to\n"
     ]
    }
   ],
   "source": [
    "#example to create variable keyword arguments.\n",
    "def fn(**karg):\n",
    "    for key, value in karg.items():\n",
    "        print('%s == %s'%(key, value))\n",
    "fn(last = 'python', first = 'welcome', mid = 'to')"
   ]
  },
  {
   "cell_type": "code",
   "execution_count": 19,
   "metadata": {},
   "outputs": [
    {
     "name": "stdout",
     "output_type": "stream",
     "text": [
      "First argument: welcome\n",
      "('to', 'python')\n",
      "('to', 'python')\n"
     ]
    }
   ],
   "source": [
    "#example demonstrating *b with fixed first argument.\n",
    "def fn(a, *b):\n",
    "    print('First argument:', a)\n",
    "    for i in b:\n",
    "        print(b)\n",
    "fn('welcome', 'to', 'python')"
   ]
  },
  {
   "cell_type": "code",
   "execution_count": 20,
   "metadata": {},
   "outputs": [
    {
     "name": "stdout",
     "output_type": "stream",
     "text": [
      "First argument: hi\n",
      "first == python\n"
     ]
    }
   ],
   "source": [
    "#example demonstrating **b with fixed first argument.\n",
    "def fn(a, **b):\n",
    "    print('First argument:', a)\n",
    "    for key, value in b.items():\n",
    "        print('%s == %s'%(key, value))\n",
    "fn('hi', first = 'python')"
   ]
  },
  {
   "cell_type": "code",
   "execution_count": 4,
   "metadata": {},
   "outputs": [
    {
     "name": "stdout",
     "output_type": "stream",
     "text": [
      "welcome to python\n",
      "arg1 welcome\n",
      "arg2 to\n",
      "arg3 python\n"
     ]
    }
   ],
   "source": [
    "def fn(arg1, arg2, arg3):\n",
    "    print('arg1', arg1)\n",
    "    print('arg2', arg2)\n",
    "    print('arg3', arg3)\n",
    "args = ('welcome', 'to', 'python')\n",
    "print(*args)\n",
    "kwargs = {'arg1' : 'welcome', 'arg2': 'to', 'arg3': 'python'}\n",
    "fn(**kwargs)"
   ]
  },
  {
   "cell_type": "markdown",
   "metadata": {},
   "source": [
    "Empty function in python."
   ]
  },
  {
   "cell_type": "code",
   "execution_count": 28,
   "metadata": {},
   "outputs": [],
   "source": [
    "def fn():\n",
    "    pass"
   ]
  },
  {
   "cell_type": "code",
   "execution_count": null,
   "metadata": {},
   "outputs": [],
   "source": [
    "#using pass statement in empty while.\n",
    "a = True\n",
    "while(a == True):\n",
    "    pass"
   ]
  },
  {
   "cell_type": "code",
   "execution_count": 29,
   "metadata": {},
   "outputs": [],
   "source": [
    "#using pass in empty if-else statements.\n",
    "a = True\n",
    "if(a == True):\n",
    "    pass\n",
    "else:\n",
    "    print('In else block')"
   ]
  },
  {
   "cell_type": "markdown",
   "metadata": {},
   "source": [
    "Yield instead of Return Statement,\n",
    "\n",
    "The yield statement suspends function’s execution and sends a value back to the caller, but retains enough state to enable function to resume where it is left off. When resumed, the function continues execution immediately after the last yield run. This allows its code to produce a series of values over time, rather than computing them at once and sending them back like a list."
   ]
  },
  {
   "cell_type": "code",
   "execution_count": 32,
   "metadata": {},
   "outputs": [
    {
     "name": "stdout",
     "output_type": "stream",
     "text": [
      "1 2 3 "
     ]
    }
   ],
   "source": [
    "#example.\n",
    "def simpleGenfn():\n",
    "    yield 1\n",
    "    yield 2\n",
    "    yield 3\n",
    "for i in simpleGenfn():\n",
    "    print(i, end = ' ')"
   ]
  },
  {
   "cell_type": "code",
   "execution_count": 2,
   "metadata": {},
   "outputs": [
    {
     "name": "stdout",
     "output_type": "stream",
     "text": [
      "1\n"
     ]
    }
   ],
   "source": [
    "#example2.\n",
    "def sq():\n",
    "    i = 1\n",
    "    while True:\n",
    "        yield i*i\n",
    "        i += 1\n",
    "for i in sq():\n",
    "    if i > 2:\n",
    "        break\n",
    "    print(i)"
   ]
  },
  {
   "cell_type": "markdown",
   "metadata": {},
   "source": [
    "Returning multiple values in python."
   ]
  },
  {
   "cell_type": "code",
   "execution_count": 6,
   "metadata": {},
   "outputs": [
    {
     "name": "stdout",
     "output_type": "stream",
     "text": [
      "python\n",
      "31\n"
     ]
    }
   ],
   "source": [
    "#1.Using object\n",
    "class Test:\n",
    "    def __init__(self):\n",
    "        self.str = 'python'\n",
    "        self.int = 31\n",
    "def fn():\n",
    "    return Test()\n",
    "t = fn()\n",
    "print(t.str)\n",
    "print(t.int)"
   ]
  },
  {
   "cell_type": "code",
   "execution_count": 7,
   "metadata": {},
   "outputs": [
    {
     "name": "stdout",
     "output_type": "stream",
     "text": [
      "python\n",
      "31\n"
     ]
    }
   ],
   "source": [
    "#2.Using tuple.\n",
    "def fn():\n",
    "    a = 'python'\n",
    "    b = 31\n",
    "    return (a, b)\n",
    "a, b = fn()\n",
    "print(a)\n",
    "print(b)"
   ]
  },
  {
   "cell_type": "code",
   "execution_count": 8,
   "metadata": {},
   "outputs": [
    {
     "name": "stdout",
     "output_type": "stream",
     "text": [
      "['virat', 31]\n"
     ]
    }
   ],
   "source": [
    "#3.using list.\n",
    "def fn():\n",
    "    a = 'virat'\n",
    "    b = 31\n",
    "    return [a, b]\n",
    "list = fn()\n",
    "print(list)"
   ]
  },
  {
   "cell_type": "code",
   "execution_count": 9,
   "metadata": {},
   "outputs": [
    {
     "name": "stdout",
     "output_type": "stream",
     "text": [
      "{'name': 'virat', 'age': 31}\n"
     ]
    }
   ],
   "source": [
    "#4.using dictionary.\n",
    "def fn():\n",
    "    d = dict()\n",
    "    d['name'] = 'virat'\n",
    "    d['age'] = 31\n",
    "    return d\n",
    "d = fn()\n",
    "print(d)"
   ]
  },
  {
   "cell_type": "markdown",
   "metadata": {},
   "source": [
    "Partial functions in python: Partial functions allow us to fix a certain number of arguments of a function and generate a new function."
   ]
  },
  {
   "cell_type": "code",
   "execution_count": 1,
   "metadata": {},
   "outputs": [
    {
     "name": "stdout",
     "output_type": "stream",
     "text": [
      "1234\n"
     ]
    }
   ],
   "source": [
    "#example.\n",
    "from functools import partial\n",
    "def f(a, b, c, d):\n",
    "    return 1000*a + 100*b + 10*c + d\n",
    "g = partial(f, 1, 2, 3)\n",
    "print(g(4))"
   ]
  },
  {
   "cell_type": "code",
   "execution_count": 3,
   "metadata": {},
   "outputs": [
    {
     "name": "stdout",
     "output_type": "stream",
     "text": [
      "123\n"
     ]
    }
   ],
   "source": [
    "#example2.\n",
    "from functools import *\n",
    "def add(a, b, c):\n",
    "    return 100*a + 10*b + c\n",
    "z = partial(add, 1, 2)\n",
    "print(z(3))"
   ]
  },
  {
   "cell_type": "markdown",
   "metadata": {},
   "source": [
    "# First Class Functions in python\n",
    "\n",
    "Properties of first class functions:\n",
    "\n",
    "A function is an instance of the Object type.\n",
    "\n",
    "You can store the function in a variable.\n",
    "\n",
    "You can pass the function as a parameter to another function.\n",
    "\n",
    "You can return the function from a function.\n",
    "\n",
    "You can store them in data structures such as hash tables, lists, …"
   ]
  },
  {
   "cell_type": "code",
   "execution_count": 4,
   "metadata": {},
   "outputs": [
    {
     "name": "stdout",
     "output_type": "stream",
     "text": [
      "HELLO\n",
      "HELLO\n"
     ]
    }
   ],
   "source": [
    "#examples.\n",
    "#1.functions are objects.\n",
    "def fn(text):\n",
    "    return text.upper()\n",
    "print(fn('Hello'))\n",
    "fn_1 = fn\n",
    "print(fn_1('Hello'))"
   ]
  },
  {
   "cell_type": "code",
   "execution_count": 5,
   "metadata": {},
   "outputs": [
    {
     "name": "stdout",
     "output_type": "stream",
     "text": [
      "WELCOME TO PYTHON\n",
      "welcome to python\n"
     ]
    }
   ],
   "source": [
    "#2.functions can be passed as a parameter to another function.\n",
    "def a(text):\n",
    "    return text.upper()\n",
    "def b(text):\n",
    "    return text.lower()\n",
    "def c(fn):\n",
    "    d = fn('Welcome to Python')\n",
    "    print(d)\n",
    "c(a)\n",
    "c(b)"
   ]
  },
  {
   "cell_type": "code",
   "execution_count": 8,
   "metadata": {},
   "outputs": [
    {
     "name": "stdout",
     "output_type": "stream",
     "text": [
      "15\n"
     ]
    }
   ],
   "source": [
    "#3.function can return another function.\n",
    "def fn(x):\n",
    "    def fn_1(y):\n",
    "        return x + y\n",
    "    return fn_1\n",
    "z = fn(10)\n",
    "print(z(5))"
   ]
  },
  {
   "cell_type": "markdown",
   "metadata": {},
   "source": [
    "Precision Handling in Python."
   ]
  },
  {
   "cell_type": "markdown",
   "metadata": {},
   "source": [
    "Few math module functions.\n",
    "\n",
    "trunc() :- This function is used to eliminate all decimal part of the floating point number and return the integer without the decimal part.\n",
    "\n",
    "ceil() :- This function is used to print the least integer greater than the given number.\n",
    "\n",
    "floor() :- This function is used to print the greatest integer smaller than the given integer."
   ]
  },
  {
   "cell_type": "code",
   "execution_count": 11,
   "metadata": {},
   "outputs": [
    {
     "name": "stdout",
     "output_type": "stream",
     "text": [
      "3\n",
      "4\n",
      "3\n"
     ]
    }
   ],
   "source": [
    "#examples.\n",
    "import math\n",
    "a = 3.142456\n",
    "print(math.trunc(a))\n",
    "print(math.ceil(a))\n",
    "print(math.floor(a))"
   ]
  },
  {
   "cell_type": "markdown",
   "metadata": {},
   "source": [
    "Setting Precisions."
   ]
  },
  {
   "cell_type": "markdown",
   "metadata": {},
   "source": [
    "1 Using “%” :- “%” operator is used to format as well as set precision in python. This is similar to “printf” statement in C programming.\n",
    "\n",
    "2 Using format() :- This is yet another way to format the string for setting precision.\n",
    "\n",
    "3 Using round(x,n) :- This function takes 2 arguments, number and the number till which we want decimal part rounded."
   ]
  },
  {
   "cell_type": "code",
   "execution_count": 14,
   "metadata": {},
   "outputs": [
    {
     "name": "stdout",
     "output_type": "stream",
     "text": [
      "3.14\n",
      "3.14\n",
      "3.14\n"
     ]
    }
   ],
   "source": [
    "#example.\n",
    "a = 3.142165\n",
    "print('%.2f'%a)\n",
    "print('{0:.2f}'.format(a))\n",
    "print(round(a, 2))"
   ]
  },
  {
   "cell_type": "markdown",
   "metadata": {},
   "source": [
    "Python Closures."
   ]
  },
  {
   "cell_type": "markdown",
   "metadata": {},
   "source": [
    "# Nested and Non-local variables in python"
   ]
  },
  {
   "cell_type": "markdown",
   "metadata": {},
   "source": [
    "Nested function is nothing but function inside another function.\n",
    "\n",
    "In Python, these non-local variables can be accessed only within their scope and not outside their scope. "
   ]
  },
  {
   "cell_type": "code",
   "execution_count": 1,
   "metadata": {},
   "outputs": [
    {
     "name": "stdout",
     "output_type": "stream",
     "text": [
      "Hello\n"
     ]
    }
   ],
   "source": [
    "#example\n",
    "def outerfn(text):\n",
    "    text = text\n",
    "    def innerfn():\n",
    "        print(text)\n",
    "    innerfn()\n",
    "if __name__=='__main__':\n",
    "    outerfn('Hello')"
   ]
  },
  {
   "cell_type": "code",
   "execution_count": 3,
   "metadata": {},
   "outputs": [
    {
     "name": "stdout",
     "output_type": "stream",
     "text": [
      "hi\n"
     ]
    },
    {
     "ename": "TypeError",
     "evalue": "'NoneType' object is not callable",
     "output_type": "error",
     "traceback": [
      "\u001b[1;31m---------------------------------------------------------------------------\u001b[0m",
      "\u001b[1;31mTypeError\u001b[0m                                 Traceback (most recent call last)",
      "\u001b[1;32m<ipython-input-3-3a6efaceba19>\u001b[0m in \u001b[0;36m<module>\u001b[1;34m\u001b[0m\n\u001b[0;32m      6\u001b[0m \u001b[1;32mif\u001b[0m \u001b[0m__name__\u001b[0m\u001b[1;33m==\u001b[0m\u001b[1;34m'__main__'\u001b[0m\u001b[1;33m:\u001b[0m\u001b[1;33m\u001b[0m\u001b[1;33m\u001b[0m\u001b[0m\n\u001b[0;32m      7\u001b[0m     \u001b[0mmyfn\u001b[0m \u001b[1;33m=\u001b[0m \u001b[0mouterfn\u001b[0m\u001b[1;33m(\u001b[0m\u001b[1;34m'hi'\u001b[0m\u001b[1;33m)\u001b[0m\u001b[1;33m\u001b[0m\u001b[1;33m\u001b[0m\u001b[0m\n\u001b[1;32m----> 8\u001b[1;33m     \u001b[0mmyfn\u001b[0m\u001b[1;33m(\u001b[0m\u001b[1;33m)\u001b[0m\u001b[1;33m\u001b[0m\u001b[1;33m\u001b[0m\u001b[0m\n\u001b[0m",
      "\u001b[1;31mTypeError\u001b[0m: 'NoneType' object is not callable"
     ]
    }
   ],
   "source": [
    "def outerfn(text):\n",
    "    text = text\n",
    "    def innerfn():\n",
    "        print(text)\n",
    "    return innerfn()\n",
    "if __name__=='__main__':\n",
    "    myfn = outerfn('hi')\n",
    "    myfn()"
   ]
  },
  {
   "cell_type": "markdown",
   "metadata": {},
   "source": [
    "Note: In python a function can be defined inside another function. \n",
    "\n",
    "It can be passed as a parameter to another function, and it can return another function."
   ]
  },
  {
   "cell_type": "code",
   "execution_count": 7,
   "metadata": {},
   "outputs": [
    {
     "data": {
      "text/plain": [
       "'welcome to python'"
      ]
     },
     "execution_count": 7,
     "metadata": {},
     "output_type": "execute_result"
    }
   ],
   "source": [
    "#example\n",
    "def fn(str):\n",
    "    def fn_1():\n",
    "        return 'welcome to '\n",
    "    return fn_1()+ str\n",
    "fn('python')"
   ]
  },
  {
   "cell_type": "markdown",
   "metadata": {},
   "source": [
    "# Help() in Python."
   ]
  },
  {
   "cell_type": "markdown",
   "metadata": {},
   "source": [
    "The python help function is used to display the documentation of modules, functions, classes, keywords etc."
   ]
  },
  {
   "cell_type": "code",
   "execution_count": null,
   "metadata": {},
   "outputs": [
    {
     "name": "stdout",
     "output_type": "stream",
     "text": [
      "\n",
      "Welcome to Python 3.6's help utility!\n",
      "\n",
      "If this is your first time using Python, you should definitely check out\n",
      "the tutorial on the Internet at https://docs.python.org/3.6/tutorial/.\n",
      "\n",
      "Enter the name of any module, keyword, or topic to get help on writing\n",
      "Python programs and using Python modules.  To quit this help utility and\n",
      "return to the interpreter, just type \"quit\".\n",
      "\n",
      "To get a list of available modules, keywords, symbols, or topics, type\n",
      "\"modules\", \"keywords\", \"symbols\", or \"topics\".  Each module also comes\n",
      "with a one-line summary of what it does; to list the modules whose name\n",
      "or summary contain a given string such as \"spam\", type \"modules spam\".\n",
      "\n"
     ]
    }
   ],
   "source": [
    "help()"
   ]
  },
  {
   "cell_type": "code",
   "execution_count": 1,
   "metadata": {
    "collapsed": true,
    "jupyter": {
     "outputs_hidden": true
    }
   },
   "outputs": [
    {
     "name": "stdout",
     "output_type": "stream",
     "text": [
      "\n",
      "Help on list object:\n",
      "\n",
      "class list(object)\n",
      " |  list() -> new empty list\n",
      " |  list(iterable) -> new list initialized from iterable's items\n",
      " |  \n",
      " |  Methods defined here:\n",
      " |  \n",
      " |  __add__(self, value, /)\n",
      " |      Return self+value.\n",
      " |  \n",
      " |  __contains__(self, key, /)\n",
      " |      Return key in self.\n",
      " |  \n",
      " |  __delitem__(self, key, /)\n",
      " |      Delete self[key].\n",
      " |  \n",
      " |  __eq__(self, value, /)\n",
      " |      Return self==value.\n",
      " |  \n",
      " |  __ge__(self, value, /)\n",
      " |      Return self>=value.\n",
      " |  \n",
      " |  __getattribute__(self, name, /)\n",
      " |      Return getattr(self, name).\n",
      " |  \n",
      " |  __getitem__(...)\n",
      " |      x.__getitem__(y) <==> x[y]\n",
      " |  \n",
      " |  __gt__(self, value, /)\n",
      " |      Return self>value.\n",
      " |  \n",
      " |  __iadd__(self, value, /)\n",
      " |      Implement self+=value.\n",
      " |  \n",
      " |  __imul__(self, value, /)\n",
      " |      Implement self*=value.\n",
      " |  \n",
      " |  __init__(self, /, *args, **kwargs)\n",
      " |      Initialize self.  See help(type(self)) for accurate signature.\n",
      " |  \n",
      " |  __iter__(self, /)\n",
      " |      Implement iter(self).\n",
      " |  \n",
      " |  __le__(self, value, /)\n",
      " |      Return self<=value.\n",
      " |  \n",
      " |  __len__(self, /)\n",
      " |      Return len(self).\n",
      " |  \n",
      " |  __lt__(self, value, /)\n",
      " |      Return self<value.\n",
      " |  \n",
      " |  __mul__(self, value, /)\n",
      " |      Return self*value.\n",
      " |  \n",
      " |  __ne__(self, value, /)\n",
      " |      Return self!=value.\n",
      " |  \n",
      " |  __new__(*args, **kwargs) from builtins.type\n",
      " |      Create and return a new object.  See help(type) for accurate signature.\n",
      " |  \n",
      " |  __repr__(self, /)\n",
      " |      Return repr(self).\n",
      " |  \n",
      " |  __reversed__(...)\n",
      " |      L.__reversed__() -- return a reverse iterator over the list\n",
      " |  \n",
      " |  __rmul__(self, value, /)\n",
      " |      Return value*self.\n",
      " |  \n",
      " |  __setitem__(self, key, value, /)\n",
      " |      Set self[key] to value.\n",
      " |  \n",
      " |  __sizeof__(...)\n",
      " |      L.__sizeof__() -- size of L in memory, in bytes\n",
      " |  \n",
      " |  append(...)\n",
      " |      L.append(object) -> None -- append object to end\n",
      " |  \n",
      " |  clear(...)\n",
      " |      L.clear() -> None -- remove all items from L\n",
      " |  \n",
      " |  copy(...)\n",
      " |      L.copy() -> list -- a shallow copy of L\n",
      " |  \n",
      " |  count(...)\n",
      " |      L.count(value) -> integer -- return number of occurrences of value\n",
      " |  \n",
      " |  extend(...)\n",
      " |      L.extend(iterable) -> None -- extend list by appending elements from the iterable\n",
      " |  \n",
      " |  index(...)\n",
      " |      L.index(value, [start, [stop]]) -> integer -- return first index of value.\n",
      " |      Raises ValueError if the value is not present.\n",
      " |  \n",
      " |  insert(...)\n",
      " |      L.insert(index, object) -- insert object before index\n",
      " |  \n",
      " |  pop(...)\n",
      " |      L.pop([index]) -> item -- remove and return item at index (default last).\n",
      " |      Raises IndexError if list is empty or index is out of range.\n",
      " |  \n",
      " |  remove(...)\n",
      " |      L.remove(value) -> None -- remove first occurrence of value.\n",
      " |      Raises ValueError if the value is not present.\n",
      " |  \n",
      " |  reverse(...)\n",
      " |      L.reverse() -- reverse *IN PLACE*\n",
      " |  \n",
      " |  sort(...)\n",
      " |      L.sort(key=None, reverse=False) -> None -- stable sort *IN PLACE*\n",
      " |  \n",
      " |  ----------------------------------------------------------------------\n",
      " |  Data and other attributes defined here:\n",
      " |  \n",
      " |  __hash__ = None\n",
      "\n"
     ]
    }
   ],
   "source": [
    "help([print()])"
   ]
  },
  {
   "cell_type": "markdown",
   "metadata": {},
   "source": [
    "# ____import____() in python"
   ]
  },
  {
   "cell_type": "markdown",
   "metadata": {},
   "source": [
    "While writing a code, there might be a need for some specific modules. So we import those modules by using a single line code in Python.\n",
    "\n",
    "But what if the name of the module needed is known to us only during runtime? How can we import that module? One can use the Python’s inbuilt __import__() function."
   ]
  },
  {
   "cell_type": "code",
   "execution_count": 8,
   "metadata": {},
   "outputs": [
    {
     "name": "stdout",
     "output_type": "stream",
     "text": [
      "<class 'numpy.ndarray'>\n"
     ]
    }
   ],
   "source": [
    "np = __import__('numpy', globals(), locals(), [], 0)\n",
    "arr = np.array([1, 2, 3])\n",
    "print(type(arr))"
   ]
  },
  {
   "cell_type": "code",
   "execution_count": 5,
   "metadata": {},
   "outputs": [
    {
     "name": "stdout",
     "output_type": "stream",
     "text": [
      "<class 'complex'>\n",
      "<built-in function array>\n"
     ]
    }
   ],
   "source": [
    "np = __import__('numpy', globals(), locals(), ['complex', 'array'], 0)\n",
    "comp = np.complex\n",
    "arr = np.array\n",
    "print(comp)\n",
    "print(arr)"
   ]
  },
  {
   "cell_type": "markdown",
   "metadata": {},
   "source": [
    "Note: range() does not return the iterartor object, it only returns the list of integers."
   ]
  },
  {
   "cell_type": "code",
   "execution_count": 11,
   "metadata": {},
   "outputs": [
    {
     "name": "stdout",
     "output_type": "stream",
     "text": [
      "range(0, 6)\n"
     ]
    },
    {
     "ename": "TypeError",
     "evalue": "'range' object is not an iterator",
     "output_type": "error",
     "traceback": [
      "\u001b[1;31m---------------------------------------------------------------------------\u001b[0m",
      "\u001b[1;31mTypeError\u001b[0m                                 Traceback (most recent call last)",
      "\u001b[1;32m<ipython-input-11-2b4758f1ec5c>\u001b[0m in \u001b[0;36m<module>\u001b[1;34m\u001b[0m\n\u001b[0;32m      2\u001b[0m \u001b[0ma\u001b[0m \u001b[1;33m=\u001b[0m \u001b[0mrange\u001b[0m\u001b[1;33m(\u001b[0m\u001b[1;36m6\u001b[0m\u001b[1;33m)\u001b[0m\u001b[1;33m\u001b[0m\u001b[1;33m\u001b[0m\u001b[0m\n\u001b[0;32m      3\u001b[0m \u001b[0mprint\u001b[0m\u001b[1;33m(\u001b[0m\u001b[0ma\u001b[0m\u001b[1;33m)\u001b[0m\u001b[1;33m\u001b[0m\u001b[1;33m\u001b[0m\u001b[0m\n\u001b[1;32m----> 4\u001b[1;33m \u001b[0mprint\u001b[0m\u001b[1;33m(\u001b[0m\u001b[0mnext\u001b[0m\u001b[1;33m(\u001b[0m\u001b[0ma\u001b[0m\u001b[1;33m)\u001b[0m\u001b[1;33m)\u001b[0m \u001b[1;31m#this indicates that range does not return s the iterator object.\u001b[0m\u001b[1;33m\u001b[0m\u001b[1;33m\u001b[0m\u001b[0m\n\u001b[0m",
      "\u001b[1;31mTypeError\u001b[0m: 'range' object is not an iterator"
     ]
    }
   ],
   "source": [
    "#example demonstrating the above note.\n",
    "a = range(6)\n",
    "print(a)\n",
    "print(next(a)) #this indicates that range does not return s the iterator object."
   ]
  },
  {
   "cell_type": "markdown",
   "metadata": {},
   "source": [
    "Note: If you want to iterate using range then you have to create a iter object using iter()."
   ]
  },
  {
   "cell_type": "code",
   "execution_count": 14,
   "metadata": {},
   "outputs": [
    {
     "name": "stdout",
     "output_type": "stream",
     "text": [
      "<range_iterator object at 0x000002B03E0178B0>\n",
      "0\n",
      "1\n"
     ]
    }
   ],
   "source": [
    "a = iter(range(6))\n",
    "print(a)\n",
    "print(next(a))\n",
    "print(next(a))"
   ]
  },
  {
   "cell_type": "code",
   "execution_count": 20,
   "metadata": {},
   "outputs": [
    {
     "name": "stdout",
     "output_type": "stream",
     "text": [
      "range(1, 31, 2)\n",
      "1\n",
      "31\n",
      "2\n",
      "11\n"
     ]
    },
    {
     "ename": "ValueError",
     "evalue": "30 is not in range",
     "output_type": "error",
     "traceback": [
      "\u001b[1;31m---------------------------------------------------------------------------\u001b[0m",
      "\u001b[1;31mValueError\u001b[0m                                Traceback (most recent call last)",
      "\u001b[1;32m<ipython-input-20-5f02ad476c2d>\u001b[0m in \u001b[0;36m<module>\u001b[1;34m\u001b[0m\n\u001b[0;32m      5\u001b[0m \u001b[0mprint\u001b[0m\u001b[1;33m(\u001b[0m\u001b[0ma\u001b[0m\u001b[1;33m.\u001b[0m\u001b[0mstep\u001b[0m\u001b[1;33m)\u001b[0m\u001b[1;33m\u001b[0m\u001b[1;33m\u001b[0m\u001b[0m\n\u001b[0;32m      6\u001b[0m \u001b[0mprint\u001b[0m\u001b[1;33m(\u001b[0m\u001b[0ma\u001b[0m\u001b[1;33m.\u001b[0m\u001b[0mindex\u001b[0m\u001b[1;33m(\u001b[0m\u001b[1;36m23\u001b[0m\u001b[1;33m)\u001b[0m\u001b[1;33m)\u001b[0m\u001b[1;33m\u001b[0m\u001b[1;33m\u001b[0m\u001b[0m\n\u001b[1;32m----> 7\u001b[1;33m \u001b[0mprint\u001b[0m\u001b[1;33m(\u001b[0m\u001b[0ma\u001b[0m\u001b[1;33m.\u001b[0m\u001b[0mindex\u001b[0m\u001b[1;33m(\u001b[0m\u001b[1;36m30\u001b[0m\u001b[1;33m)\u001b[0m\u001b[1;33m)\u001b[0m\u001b[1;33m\u001b[0m\u001b[1;33m\u001b[0m\u001b[0m\n\u001b[0m",
      "\u001b[1;31mValueError\u001b[0m: 30 is not in range"
     ]
    }
   ],
   "source": [
    "a = range(1, 31, 2)\n",
    "print(a)\n",
    "print(a.start)\n",
    "print(a.stop)\n",
    "print(a.step)\n",
    "print(a.index(23))\n",
    "print(a.index(30))"
   ]
  },
  {
   "cell_type": "code",
   "execution_count": 29,
   "metadata": {},
   "outputs": [
    {
     "name": "stdout",
     "output_type": "stream",
     "text": [
      "prefix dear\n",
      "dear virat\n"
     ]
    }
   ],
   "source": [
    "def a(prefix):\n",
    "    print('prefix {}'.format(prefix))\n",
    "    while True:\n",
    "        name = (yield)\n",
    "        if prefix in name:\n",
    "            print(name)\n",
    "co = a('dear')\n",
    "co.__next__()\n",
    "co.send('virat')\n",
    "co.send('dear virat')"
   ]
  },
  {
   "cell_type": "markdown",
   "metadata": {},
   "source": [
    "Python bit functions on int."
   ]
  },
  {
   "cell_type": "code",
   "execution_count": 31,
   "metadata": {},
   "outputs": [
    {
     "name": "stdout",
     "output_type": "stream",
     "text": [
      "2\n",
      "2\n"
     ]
    }
   ],
   "source": [
    "a = 3\n",
    "b = -3\n",
    "print(a.bit_length())\n",
    "print(b.bit_length())"
   ]
  },
  {
   "cell_type": "code",
   "execution_count": 33,
   "metadata": {},
   "outputs": [
    {
     "name": "stdout",
     "output_type": "stream",
     "text": [
      "b'\\x04\\x00'\n"
     ]
    }
   ],
   "source": [
    "print((1024).to_bytes(2, byteorder = 'big'))"
   ]
  },
  {
   "cell_type": "code",
   "execution_count": 35,
   "metadata": {},
   "outputs": [
    {
     "name": "stdout",
     "output_type": "stream",
     "text": [
      "1024\n"
     ]
    }
   ],
   "source": [
    "print(int.from_bytes(b'\\x04\\x00', byteorder = 'big'))"
   ]
  },
  {
   "cell_type": "code",
   "execution_count": null,
   "metadata": {},
   "outputs": [],
   "source": []
  }
 ],
 "metadata": {
  "kernelspec": {
   "display_name": "Python 3",
   "language": "python",
   "name": "python3"
  },
  "language_info": {
   "codemirror_mode": {
    "name": "ipython",
    "version": 3
   },
   "file_extension": ".py",
   "mimetype": "text/x-python",
   "name": "python",
   "nbconvert_exporter": "python",
   "pygments_lexer": "ipython3",
   "version": "3.6.8"
  }
 },
 "nbformat": 4,
 "nbformat_minor": 4
}
