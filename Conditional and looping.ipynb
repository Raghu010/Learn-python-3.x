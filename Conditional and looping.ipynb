{
 "cells": [
  {
   "cell_type": "markdown",
   "metadata": {},
   "source": [
    "If : Is used for true conditions only."
   ]
  },
  {
   "cell_type": "markdown",
   "metadata": {},
   "source": [
    "Note : Open parenthesis is only used when there are multiple test conditions."
   ]
  },
  {
   "cell_type": "markdown",
   "metadata": {},
   "source": [
    "Important note: Indentation level of the code should match"
   ]
  },
  {
   "cell_type": "code",
   "execution_count": 1,
   "metadata": {},
   "outputs": [
    {
     "name": "stdout",
     "output_type": "stream",
     "text": [
      "Greater than zero: 1\n"
     ]
    }
   ],
   "source": [
    "#simple example\n",
    "a = 1\n",
    "if a>0:\n",
    "    print('Greater than zero:', a)"
   ]
  },
  {
   "cell_type": "code",
   "execution_count": 2,
   "metadata": {},
   "outputs": [
    {
     "name": "stdout",
     "output_type": "stream",
     "text": [
      "True\n"
     ]
    }
   ],
   "source": [
    "#simple example to visualize the usage of parenthesis\n",
    "a = 1\n",
    "b = 2\n",
    "c = 3\n",
    "if(b > 1 and b < 3):\n",
    "    print('True')"
   ]
  },
  {
   "cell_type": "markdown",
   "metadata": {},
   "source": [
    "Else: Is only executed when the test expression is false."
   ]
  },
  {
   "cell_type": "code",
   "execution_count": 3,
   "metadata": {},
   "outputs": [
    {
     "name": "stdout",
     "output_type": "stream",
     "text": [
      "True\n"
     ]
    }
   ],
   "source": [
    "#Example with both if and else statement combined\n",
    "a = 'Hello'\n",
    "if a == 'Hello':\n",
    "    print('True')\n",
    "else:\n",
    "    print('False')"
   ]
  },
  {
   "cell_type": "markdown",
   "metadata": {},
   "source": [
    "If, elif, else conditional statements."
   ]
  },
  {
   "cell_type": "markdown",
   "metadata": {},
   "source": [
    "These type of conditional statements are used when two conditions are true and one condition is false."
   ]
  },
  {
   "cell_type": "code",
   "execution_count": 6,
   "metadata": {},
   "outputs": [
    {
     "name": "stdin",
     "output_type": "stream",
     "text": [
      "enter the number: 12\n"
     ]
    },
    {
     "name": "stdout",
     "output_type": "stream",
     "text": [
      "entered number is positive\n"
     ]
    }
   ],
   "source": [
    "#example\n",
    "a = int(input('enter the number:'))\n",
    "if a > 0:\n",
    "    print('entered number is positive')\n",
    "elif a < 0:\n",
    "    print('entered number is negative')\n",
    "else:\n",
    "    print('entered number is zero')"
   ]
  },
  {
   "cell_type": "markdown",
   "metadata": {},
   "source": [
    "Loop: Is nothing but a repitative process."
   ]
  },
  {
   "cell_type": "markdown",
   "metadata": {},
   "source": [
    "Two types of loops in python are:\n",
    "1. For\n",
    "2. While"
   ]
  },
  {
   "cell_type": "markdown",
   "metadata": {},
   "source": [
    "nested if: Is nothing but an if statement inside another if statement."
   ]
  },
  {
   "cell_type": "code",
   "execution_count": 1,
   "metadata": {},
   "outputs": [
    {
     "name": "stdout",
     "output_type": "stream",
     "text": [
      "i is smaller then 15\n",
      "i is less then 12 t00\n"
     ]
    }
   ],
   "source": [
    "i = 10\n",
    "if (i == 10):\n",
    "    if(i < 15):\n",
    "        print('i is smaller then 15')\n",
    "    if(i < 12):\n",
    "        print('i is less then 12 t00')\n",
    "    else:\n",
    "        print('i is greater than 15')"
   ]
  },
  {
   "cell_type": "code",
   "execution_count": 2,
   "metadata": {},
   "outputs": [
    {
     "name": "stdout",
     "output_type": "stream",
     "text": [
      "10 11 12 13 14 15 "
     ]
    }
   ],
   "source": [
    "#example\n",
    "for i in range(10, 16):\n",
    "    print(i, end = ' ')          #for loop is generally used to print sequence of numbers"
   ]
  },
  {
   "cell_type": "markdown",
   "metadata": {},
   "source": [
    "Note: You can iterate over sting, list and tuple."
   ]
  },
  {
   "cell_type": "code",
   "execution_count": 2,
   "metadata": {},
   "outputs": [
    {
     "name": "stdout",
     "output_type": "stream",
     "text": [
      "hello world"
     ]
    }
   ],
   "source": [
    "s = 'hello world'\n",
    "for i in s:\n",
    "    print(i, end = '')"
   ]
  },
  {
   "cell_type": "code",
   "execution_count": 5,
   "metadata": {},
   "outputs": [
    {
     "name": "stdout",
     "output_type": "stream",
     "text": [
      "1 2 3 4 5 "
     ]
    }
   ],
   "source": [
    "l = [1, 2, 3, 4, 5]\n",
    "for i in l:\n",
    "    print(i, end = ' ')"
   ]
  },
  {
   "cell_type": "code",
   "execution_count": 6,
   "metadata": {},
   "outputs": [
    {
     "name": "stdout",
     "output_type": "stream",
     "text": [
      "1 2 3 4 5 "
     ]
    }
   ],
   "source": [
    "l = (1, 2, 3, 4, 5)\n",
    "for i in l:\n",
    "    print(i, end = ' ')"
   ]
  },
  {
   "cell_type": "code",
   "execution_count": 9,
   "metadata": {},
   "outputs": [
    {
     "name": "stdout",
     "output_type": "stream",
     "text": [
      "1 2 3 4 5 6 7 8 9 "
     ]
    }
   ],
   "source": [
    "for i in range(1, 10):\n",
    "    print(i, end = ' ')"
   ]
  },
  {
   "cell_type": "markdown",
   "metadata": {},
   "source": [
    "# Looping statements."
   ]
  },
  {
   "cell_type": "markdown",
   "metadata": {},
   "source": [
    "1.While loop: Is used to execute a block of statements repeatedly untill a given condition is satisfied. And when the condition becomes false, the line after the loop in program is executed."
   ]
  },
  {
   "cell_type": "code",
   "execution_count": 6,
   "metadata": {},
   "outputs": [
    {
     "name": "stdout",
     "output_type": "stream",
     "text": [
      "welcome to python\n",
      "welcome to python\n",
      "welcome to python\n"
     ]
    }
   ],
   "source": [
    "#example:\n",
    "a = 0\n",
    "while a < 3:\n",
    "    a += 1\n",
    "    print('welcome to python')"
   ]
  },
  {
   "cell_type": "code",
   "execution_count": 7,
   "metadata": {},
   "outputs": [
    {
     "name": "stdout",
     "output_type": "stream",
     "text": [
      "welcome to python\n",
      "welcome to python\n",
      "welcome to python\n",
      "In else block\n"
     ]
    }
   ],
   "source": [
    "#example to use while loop along with else statements.\n",
    "a = 0\n",
    "while a < 3:\n",
    "    a += 1\n",
    "    print('welcome to python')\n",
    "else:\n",
    "    print('In else block')"
   ]
  },
  {
   "cell_type": "code",
   "execution_count": 9,
   "metadata": {},
   "outputs": [
    {
     "ename": "IndentationError",
     "evalue": "unexpected indent (<ipython-input-9-3cd52ce36606>, line 4)",
     "output_type": "error",
     "traceback": [
      "\u001b[1;36m  File \u001b[1;32m\"<ipython-input-9-3cd52ce36606>\"\u001b[1;36m, line \u001b[1;32m4\u001b[0m\n\u001b[1;33m    break\u001b[0m\n\u001b[1;37m    ^\u001b[0m\n\u001b[1;31mIndentationError\u001b[0m\u001b[1;31m:\u001b[0m unexpected indent\n"
     ]
    }
   ],
   "source": [
    "#example for single statement while block.\n",
    "a = 0\n",
    "while (a == 0): print('welcome to python') #will result in infinte loop. \n",
    "    break"
   ]
  },
  {
   "cell_type": "markdown",
   "metadata": {},
   "source": [
    "2.for loop:Is used for sequential traversal."
   ]
  },
  {
   "cell_type": "code",
   "execution_count": 16,
   "metadata": {},
   "outputs": [
    {
     "name": "stdout",
     "output_type": "stream",
     "text": [
      "welcome\n",
      "to\n",
      "python\n",
      "welcome\n",
      "to\n",
      "python\n",
      "p y t h o n xyz 123\n",
      "abc 456\n"
     ]
    }
   ],
   "source": [
    "#examples.\n",
    "l = ['welcome', 'to', 'python']\n",
    "for i in l:\n",
    "    print(i) #iterating over list.\n",
    "t = ('welcome', 'to', 'python')\n",
    "for i in t:\n",
    "    print(i) #iterating over tuple.\n",
    "a = 'python'\n",
    "for j in a:\n",
    "    print(j, end = ' ') #iterating over string.\n",
    "d = dict()\n",
    "d['xyz'] = 123\n",
    "d['abc'] = 456\n",
    "for i in d:\n",
    "    print(i, d[i])"
   ]
  },
  {
   "cell_type": "code",
   "execution_count": 19,
   "metadata": {},
   "outputs": [
    {
     "name": "stdout",
     "output_type": "stream",
     "text": [
      "welcome to python "
     ]
    }
   ],
   "source": [
    "#2.iterating over index of sequence.\n",
    "l = ['welcome', 'to', 'python']\n",
    "for i in range(len(l)):\n",
    "    print(l[i], end = ' ')"
   ]
  },
  {
   "cell_type": "code",
   "execution_count": 21,
   "metadata": {},
   "outputs": [
    {
     "name": "stdout",
     "output_type": "stream",
     "text": [
      "welcome\n",
      "to\n",
      "python\n",
      "In else block\n"
     ]
    }
   ],
   "source": [
    "#3.example for using else statement along with for loop.\n",
    "l = ['welcome', 'to', 'python']\n",
    "for i in range(len(l)):\n",
    "    print(l[i])\n",
    "else:\n",
    "    print('In else block')"
   ]
  },
  {
   "cell_type": "code",
   "execution_count": 24,
   "metadata": {},
   "outputs": [
    {
     "name": "stdout",
     "output_type": "stream",
     "text": [
      "1 \n",
      "2 2 \n",
      "3 3 3 \n",
      "4 4 4 4 \n"
     ]
    }
   ],
   "source": [
    "#4.nested loops is nothing but using loop inside a loop.\n",
    "for i in range(1, 5):\n",
    "    for j in range(i):\n",
    "        print(i, end = ' ')\n",
    "    print()"
   ]
  },
  {
   "cell_type": "markdown",
   "metadata": {},
   "source": [
    "# Pattern printing using conditional and looping statements."
   ]
  },
  {
   "cell_type": "code",
   "execution_count": 8,
   "metadata": {},
   "outputs": [
    {
     "name": "stdout",
     "output_type": "stream",
     "text": [
      "*\n"
     ]
    }
   ],
   "source": [
    "for row in range(1):\n",
    "    for col in range(2):\n",
    "        if(col == 1):\n",
    "            print('*', end = '')\n",
    "        else:\n",
    "            print('', end = '')\n",
    "    print()"
   ]
  },
  {
   "cell_type": "code",
   "execution_count": 9,
   "metadata": {},
   "outputs": [
    {
     "name": "stdout",
     "output_type": "stream",
     "text": [
      "*****\n"
     ]
    }
   ],
   "source": [
    "for row in range(1):\n",
    "    for col in range(5):\n",
    "        if(row == 0):\n",
    "            print('*', end = '')\n",
    "        else:\n",
    "            print('', end = '')\n",
    "    print()"
   ]
  },
  {
   "cell_type": "code",
   "execution_count": 10,
   "metadata": {},
   "outputs": [
    {
     "name": "stdout",
     "output_type": "stream",
     "text": [
      "  *  \n",
      " * * \n",
      "*****\n"
     ]
    }
   ],
   "source": [
    "for row in range(3):\n",
    "    for col in range(5):\n",
    "        if(row == 0 and col == 2) or (row == 1 and col%2 != 0)or (row == 2):\n",
    "            print('*', end = '')\n",
    "        else:\n",
    "            print(' ', end = '')\n",
    "    print()"
   ]
  },
  {
   "cell_type": "code",
   "execution_count": 55,
   "metadata": {},
   "outputs": [
    {
     "name": "stdout",
     "output_type": "stream",
     "text": [
      "*         \n",
      "* *       \n",
      "* * *     \n",
      "* * * *   \n",
      "* * * * * \n"
     ]
    }
   ],
   "source": [
    "for row in range(5):\n",
    "    for col in range(5):\n",
    "        if(col == 0) or (row == 4) or (row - col == 0) or (row == 3 and (row + col > 3 and row + col < 6)) or (row == 2 and col == 1):\n",
    "            print('* ', end = '')\n",
    "        else:\n",
    "            print('  ', end = '')\n",
    "    print()"
   ]
  },
  {
   "cell_type": "code",
   "execution_count": 11,
   "metadata": {},
   "outputs": [
    {
     "name": "stdout",
     "output_type": "stream",
     "text": [
      "* * * * \n",
      "*     * \n",
      "*     * \n",
      "* * * * \n"
     ]
    }
   ],
   "source": [
    "for row in range(4):\n",
    "    for col in range(4):\n",
    "        if(row == 0) or (col == 0) or (row == 3) or (col == 3):\n",
    "            print('* ', end = '')\n",
    "        else:\n",
    "            print('  ', end = '')\n",
    "    print()"
   ]
  },
  {
   "cell_type": "code",
   "execution_count": 12,
   "metadata": {},
   "outputs": [
    {
     "name": "stdout",
     "output_type": "stream",
     "text": [
      "  *  \n",
      " * * \n",
      "*   *\n",
      "*   *\n",
      "*****\n"
     ]
    }
   ],
   "source": [
    "for row in range(5):\n",
    "    for col in range(5):\n",
    "        if(row == 0 and col == 2) or (row + col == 2) or (col - row == 2) or (row > 2 and col == 0) or (row > 2 and col == 4) or (row == 4):\n",
    "            print('*', end = '')\n",
    "        else:\n",
    "            print(' ', end = '')\n",
    "    print()"
   ]
  },
  {
   "cell_type": "code",
   "execution_count": 13,
   "metadata": {},
   "outputs": [
    {
     "name": "stdout",
     "output_type": "stream",
     "text": [
      "    *     \n",
      "  *   *   \n",
      "*       * \n",
      "*       * \n",
      "*       * \n",
      "  *   *   \n",
      "    *     \n"
     ]
    }
   ],
   "source": [
    "for row in range(7):\n",
    "    for col in range(5):\n",
    "        if(row == 0 and col == 2) or (col + row == 2) or ((row > 1 and row < 5) and col == 0) or (col - row == 2) or ((row > 2 and row < 5) and col == 4) or (row - col == 4) or (row + col == 8):\n",
    "            print('* ', end = '')\n",
    "        else:\n",
    "            print('  ', end = '')\n",
    "    print()"
   ]
  },
  {
   "cell_type": "code",
   "execution_count": 14,
   "metadata": {},
   "outputs": [
    {
     "name": "stdout",
     "output_type": "stream",
     "text": [
      "* * * * * * *                     *                   *               *             \n",
      "*         *                     *   *                 * *           * *             \n",
      "*       *                     *       *               *   *       *   *             \n",
      "*     *                     *           *             *     *   *     *             \n",
      "*   *                     *               *           *       *       *             \n",
      "* *                     *   * * * * * * *   *         *               *             \n",
      "*   *                 *                       *       *               *             \n",
      "*     *             *                           *     *               *             \n",
      "*       *         *                               *   *               *             \n",
      "*         *     *                                   * *               *             \n"
     ]
    }
   ],
   "source": [
    "for row in range(10):\n",
    "    for col in range(42):\n",
    "        if(col == 0) or (row == 0 and col <= 6) or ((col + row) == 6) or ((row - col) == 4)or(row == 0 and (row + col) == 17) or ((col + row) == 17) or ((col - row) == 17) or (row == 5 and (col>13 and col<21)) or (col == 27) or ((col - row) == 27 and col < 32) or ((col + row) == 35 and (col>31 and col < 35)) or (col == 35):\n",
    "            print('*', end = ' ')\n",
    "        else:\n",
    "            print('  ', end = '')\n",
    "    print()"
   ]
  },
  {
   "cell_type": "code",
   "execution_count": 15,
   "metadata": {},
   "outputs": [
    {
     "name": "stdout",
     "output_type": "stream",
     "text": [
      "Number is even: 2000\n",
      "Number is odd\n",
      "Number is even: 2002\n",
      "Number is odd\n",
      "Number is even: 2004\n",
      "Number is odd\n",
      "Number is even: 2006\n",
      "Number is odd\n",
      "Number is even: 2008\n",
      "Number is odd\n",
      "Number is even: 2010\n"
     ]
    }
   ],
   "source": [
    "for i in range(2000, 2011):\n",
    "    if(i%2 == 0):\n",
    "        print('Number is even:', i)\n",
    "    else:\n",
    "        print('Number is odd')"
   ]
  },
  {
   "cell_type": "code",
   "execution_count": 16,
   "metadata": {},
   "outputs": [
    {
     "name": "stdout",
     "output_type": "stream",
     "text": [
      "0\n",
      "1\n",
      "2\n",
      "3\n",
      "4\n",
      "5\n"
     ]
    }
   ],
   "source": [
    "#example for while loop\n",
    "i = 0\n",
    "while i < 6:\n",
    "    print(i)\n",
    "    i += 1"
   ]
  },
  {
   "cell_type": "markdown",
   "metadata": {},
   "source": [
    "# Break, Continue and Pass Keywords"
   ]
  },
  {
   "cell_type": "markdown",
   "metadata": {},
   "source": [
    "Note : If the given condition in while loop is always true, then infinite looping takes place."
   ]
  },
  {
   "cell_type": "markdown",
   "metadata": {},
   "source": [
    "Note 2 : To overcome the infinite loop and to terminate the loop at certain point break keyword is used."
   ]
  },
  {
   "cell_type": "code",
   "execution_count": 21,
   "metadata": {},
   "outputs": [
    {
     "name": "stdout",
     "output_type": "stream",
     "text": [
      "1\n",
      "2\n",
      "3\n"
     ]
    }
   ],
   "source": [
    "#example for infinite looping and usage of break keyword to terminate the loop.\n",
    "i = 1\n",
    "while i < 6:\n",
    "    print(i)\n",
    "    if i == 3:\n",
    "        break\n",
    "    i += 1\n",
    "    "
   ]
  },
  {
   "cell_type": "code",
   "execution_count": 23,
   "metadata": {},
   "outputs": [
    {
     "name": "stdout",
     "output_type": "stream",
     "text": [
      "Number is even: 2000\n",
      "Number is odd: 2001\n",
      "Number is even: 2002\n",
      "Number is odd: 2003\n",
      "Number is even: 2004\n",
      "Number is odd: 2005\n",
      "Number is even: 2006\n",
      "Number is odd: 2007\n",
      "Number is even: 2008\n",
      "Number is odd: 2009\n",
      "Number is even: 2010\n"
     ]
    }
   ],
   "source": [
    "a = range(2000, 2011)\n",
    "for i in a:\n",
    "    while (i%2 == 0):\n",
    "        print('Number is even:', i)\n",
    "        break\n",
    "    else:\n",
    "        print('Number is odd:', i)"
   ]
  },
  {
   "cell_type": "markdown",
   "metadata": {},
   "source": [
    "Note : while loop can be used with else statement, but elif statement can not be used in the absence of if statement."
   ]
  },
  {
   "cell_type": "markdown",
   "metadata": {},
   "source": [
    "Continue : This keyword is used to skip a particular number from a sequence or a series when a certain condition is satisfied."
   ]
  },
  {
   "cell_type": "code",
   "execution_count": 5,
   "metadata": {},
   "outputs": [
    {
     "name": "stdout",
     "output_type": "stream",
     "text": [
      "1 2 4 5 6 "
     ]
    }
   ],
   "source": [
    "#Example for continue keyword\n",
    "i = 0\n",
    "while i < 6:\n",
    "    i += 1\n",
    "    if i == 3:\n",
    "        continue\n",
    "    print(i, end = ' ')"
   ]
  },
  {
   "cell_type": "markdown",
   "metadata": {},
   "source": [
    "Note: We write pass statements to write empty loops."
   ]
  },
  {
   "cell_type": "code",
   "execution_count": 25,
   "metadata": {},
   "outputs": [
    {
     "name": "stdout",
     "output_type": "stream",
     "text": [
      "e\n"
     ]
    }
   ],
   "source": [
    "for i in 'welcome':\n",
    "    pass\n",
    "print(i)"
   ]
  },
  {
   "cell_type": "code",
   "execution_count": 27,
   "metadata": {},
   "outputs": [
    {
     "name": "stdout",
     "output_type": "stream",
     "text": [
      "0 The 1 big 2 bang 3 theory "
     ]
    }
   ],
   "source": [
    "#example for looping technique using different data structure.\n",
    "#1.enumerate(): Is used to loop through the container printing the index along with the value present in that particular index.\n",
    "for key, value in enumerate(['The', 'big', 'bang', 'theory']):\n",
    "    print(key, value, end = ' ')"
   ]
  },
  {
   "cell_type": "code",
   "execution_count": 28,
   "metadata": {},
   "outputs": [
    {
     "name": "stdout",
     "output_type": "stream",
     "text": [
      "what is your name? I am apple\n",
      "what is your color? I am red\n",
      "what is your shape? I am circle\n"
     ]
    }
   ],
   "source": [
    "#2.using zip(): Is used to combine 2 similar containers printing the value sequentially.\n",
    "questions = ['name', 'color', 'shape']\n",
    "answers = ['apple', 'red', 'circle']\n",
    "for question, answer in zip(questions, answers):\n",
    "    print('what is your {0}? I am {1}'.format(question, answer))"
   ]
  },
  {
   "cell_type": "code",
   "execution_count": 31,
   "metadata": {},
   "outputs": [
    {
     "name": "stdout",
     "output_type": "stream",
     "text": [
      "1 wecome\n",
      "2 to\n",
      "3 python\n"
     ]
    }
   ],
   "source": [
    "#3.items(): Is used to iterate through dictionary.\n",
    "a = {1: 'wecome', 2: 'to', 3:'python'}\n",
    "for i, j in a.items():\n",
    "    print(i, j)"
   ]
  },
  {
   "cell_type": "code",
   "execution_count": 36,
   "metadata": {},
   "outputs": [
    {
     "name": "stdout",
     "output_type": "stream",
     "text": [
      "1 1 2 3 3 5 6 1 2 3 5 6 apple\n",
      "banana\n",
      "cherry\n",
      "grape\n"
     ]
    }
   ],
   "source": [
    "#4.sorted(): Is used to print the container in sorted manner.\n",
    "#Note: set() can be used to remove duplicate occurances.\n",
    "l = [1, 3, 5, 6, 2, 1, 3]\n",
    "for i in sorted(l):\n",
    "    print(i, end = ' ')\n",
    "for j in sorted(set(l)):\n",
    "    print(j, end = ' ')\n",
    "li = ['banana', 'cherry', 'apple', 'grape']\n",
    "for k in sorted(set(li)):\n",
    "    print(k)"
   ]
  },
  {
   "cell_type": "code",
   "execution_count": 38,
   "metadata": {},
   "outputs": [
    {
     "name": "stdout",
     "output_type": "stream",
     "text": [
      "0 1 2 3 4 5 "
     ]
    }
   ],
   "source": [
    "#5.reversed()\n",
    "l = [5, 4, 3, 2, 1, 0]\n",
    "for i in reversed(l):\n",
    "    print(i, end = ' ')"
   ]
  },
  {
   "cell_type": "code",
   "execution_count": 45,
   "metadata": {},
   "outputs": [
    {
     "name": "stdout",
     "output_type": "stream",
     "text": [
      "0 1 2 3 4 5 6 7 8 9 <class 'int'>\n",
      "28\n"
     ]
    }
   ],
   "source": [
    "#example to demonstrate the type and size of range():\n",
    "import sys\n",
    "for i in range(0, 10):\n",
    "    print(i, end = ' ')\n",
    "print(type(i))\n",
    "print(sys.getsizeof(i))"
   ]
  },
  {
   "cell_type": "code",
   "execution_count": 46,
   "metadata": {},
   "outputs": [
    {
     "name": "stdout",
     "output_type": "stream",
     "text": [
      "range(3, 8)\n"
     ]
    }
   ],
   "source": [
    "#example to demonstrate the operations on range():\n",
    "a = range(1, 11)\n",
    "print(a[2:7])"
   ]
  },
  {
   "cell_type": "code",
   "execution_count": 62,
   "metadata": {},
   "outputs": [
    {
     "name": "stdout",
     "output_type": "stream",
     "text": [
      "True\n",
      "False\n",
      "True\n",
      "True\n",
      "True\n"
     ]
    }
   ],
   "source": [
    "#example for chaining comparison operator in python.\n",
    "#Note: Checking more than two condition is very much common in programming language.\n",
    "x = 5\n",
    "print(1<x<10)\n",
    "print(10<x<20)\n",
    "print(10<x*10<100)\n",
    "print(10 > x < 9)\n",
    "print(5 == x > 4)"
   ]
  },
  {
   "cell_type": "code",
   "execution_count": 65,
   "metadata": {},
   "outputs": [
    {
     "name": "stdout",
     "output_type": "stream",
     "text": [
      "True\n",
      "False\n"
     ]
    }
   ],
   "source": [
    "#example.\n",
    "a, b, c, d, e, f = 0, 5, 12, 0, 15, 15\n",
    "exp1 = a <= b < c > d is not e is f\n",
    "print(exp1)\n",
    "exp2 = a is d > f is not c\n",
    "print(exp2)"
   ]
  },
  {
   "cell_type": "code",
   "execution_count": 1,
   "metadata": {},
   "outputs": [
    {
     "name": "stdout",
     "output_type": "stream",
     "text": [
      "1\n",
      "2\n",
      "3\n",
      "In else block\n"
     ]
    }
   ],
   "source": [
    "#using else statement along with for loop.\n",
    "#Note: Else block gets executed only when there is no break statement in loops.\n",
    "for i in range(1, 4):\n",
    "    print(i)\n",
    "else:\n",
    "    print('In else block')"
   ]
  },
  {
   "cell_type": "code",
   "execution_count": 2,
   "metadata": {},
   "outputs": [
    {
     "name": "stdout",
     "output_type": "stream",
     "text": [
      "1\n"
     ]
    }
   ],
   "source": [
    "#example with break statement in for loop.\n",
    "for i in range(1, 4):\n",
    "    print(i)\n",
    "    break\n",
    "else:\n",
    "    print('In else block')"
   ]
  },
  {
   "cell_type": "code",
   "execution_count": 3,
   "metadata": {},
   "outputs": [
    {
     "name": "stdout",
     "output_type": "stream",
     "text": [
      "list does not contain the even number\n",
      "list does not contain the even number\n",
      "list contains an even number\n"
     ]
    }
   ],
   "source": [
    "#example.\n",
    "def contains_even_ele(l):\n",
    "    for i in l:\n",
    "        if(i%2 == 0):\n",
    "            print('list contains an even number')\n",
    "            break\n",
    "        else:\n",
    "            print('list does not contain the even number')\n",
    "contains_even_ele([1, 9, 8])"
   ]
  },
  {
   "cell_type": "code",
   "execution_count": 4,
   "metadata": {},
   "outputs": [
    {
     "name": "stdout",
     "output_type": "stream",
     "text": [
      "1\n"
     ]
    }
   ],
   "source": [
    "count = 0\n",
    "while(count < 1):\n",
    "    count += 1\n",
    "    print(count)\n",
    "    break\n",
    "else:\n",
    "    print('no break')"
   ]
  },
  {
   "cell_type": "code",
   "execution_count": 8,
   "metadata": {},
   "outputs": [
    {
     "data": {
      "text/plain": [
       "'nothing'"
      ]
     },
     "execution_count": 8,
     "metadata": {},
     "output_type": "execute_result"
    }
   ],
   "source": [
    "#switch case in python.\n",
    "def string_to_number(argument):\n",
    "    switcher = {0 : 'zero',\n",
    "               1 : 'one',\n",
    "               2 : 'two'}\n",
    "    return switcher.get(argument, 'nothing')\n",
    "string_to_number(5)"
   ]
  },
  {
   "cell_type": "code",
   "execution_count": 1,
   "metadata": {},
   "outputs": [
    {
     "name": "stdout",
     "output_type": "stream",
     "text": [
      "merc\n"
     ]
    }
   ],
   "source": [
    "cars = ['merc', 'rr', 'porsche']\n",
    "i = 0\n",
    "while(i < len(cars)):\n",
    "    \n",
    "    print(cars[i])\n",
    "    i += 0\n",
    "    break"
   ]
  },
  {
   "cell_type": "code",
   "execution_count": 2,
   "metadata": {},
   "outputs": [
    {
     "name": "stdout",
     "output_type": "stream",
     "text": [
      "merc\n",
      "audi\n",
      "cybertruck\n"
     ]
    }
   ],
   "source": [
    "cars = ['merc', 'audi', 'cybertruck']\n",
    "for i in cars:\n",
    "    print(i)"
   ]
  },
  {
   "cell_type": "code",
   "execution_count": 4,
   "metadata": {},
   "outputs": [
    {
     "name": "stdout",
     "output_type": "stream",
     "text": [
      "merc\n",
      "audi\n",
      "cybertruck\n"
     ]
    }
   ],
   "source": [
    "cars = ['merc', 'audi', 'cybertruck']\n",
    "for i in range(len(cars)):\n",
    "    print(cars[i])"
   ]
  },
  {
   "cell_type": "code",
   "execution_count": 6,
   "metadata": {},
   "outputs": [
    {
     "name": "stdout",
     "output_type": "stream",
     "text": [
      "0 merc\n",
      "1 audi\n",
      "2 cybertruck\n"
     ]
    }
   ],
   "source": [
    "cars = ['merc', 'audi', 'cybertruck']\n",
    "for i, j in enumerate(cars):\n",
    "    print(i, j)"
   ]
  },
  {
   "cell_type": "code",
   "execution_count": 9,
   "metadata": {},
   "outputs": [
    {
     "name": "stdout",
     "output_type": "stream",
     "text": [
      "<enumerate object at 0x0000023940237438>\n"
     ]
    }
   ],
   "source": [
    "cars = ['merc', 'audi', 'cybertruck']\n",
    "print(enumerate(cars))"
   ]
  },
  {
   "cell_type": "code",
   "execution_count": 10,
   "metadata": {},
   "outputs": [
    {
     "name": "stdout",
     "output_type": "stream",
     "text": [
      "1 merc\n",
      "2 audi\n",
      "3 cybertruck\n"
     ]
    }
   ],
   "source": [
    "cars = ['merc', 'audi', 'cybertruck']\n",
    "for i, j in enumerate(cars, start = 1):\n",
    "    print(i, j)"
   ]
  },
  {
   "cell_type": "code",
   "execution_count": 13,
   "metadata": {},
   "outputs": [
    {
     "name": "stdout",
     "output_type": "stream",
     "text": [
      "merc 57000\n",
      "audi 68000\n",
      "cybertruck 45000\n",
      "GPS kit 57000\n",
      "car-repair tool kit 68000\n"
     ]
    }
   ],
   "source": [
    "cars = ['merc', 'audi', 'cybertruck']\n",
    "accessories = ['GPS kit', 'car-repair tool kit']\n",
    "prices = {1:57000, 2:68000, 3:45000,\n",
    "         4:8900, 5:4500}\n",
    "for index, c in enumerate(cars, start = 1):\n",
    "    print(c, prices[index])\n",
    "for index, a in enumerate(accessories, start = 1):\n",
    "    print(a, prices[index])"
   ]
  },
  {
   "cell_type": "code",
   "execution_count": 19,
   "metadata": {},
   "outputs": [
    {
     "name": "stdout",
     "output_type": "stream",
     "text": [
      "welcome\n",
      "to\n",
      "python\n",
      "welcome\n",
      "to\n",
      "python\n",
      "p y t h o n xyz 123\n",
      "abc 456\n"
     ]
    }
   ],
   "source": [
    "#example demonstrating the use of iterators.\n",
    "l = ['welcome', 'to', 'python']\n",
    "for i in l:\n",
    "    print(i)\n",
    "t = ('welcome', 'to', 'python')\n",
    "for i in t:\n",
    "    print(i)\n",
    "s = 'python'\n",
    "for i in s:\n",
    "    print(i, end = ' ')\n",
    "d = dict()\n",
    "d['xyz'] = 123\n",
    "d['abc'] = 456\n",
    "for i in d:\n",
    "    print(i, d[i])"
   ]
  },
  {
   "cell_type": "markdown",
   "metadata": {},
   "source": [
    "# Iterator functions"
   ]
  },
  {
   "cell_type": "code",
   "execution_count": 3,
   "metadata": {},
   "outputs": [
    {
     "name": "stdout",
     "output_type": "stream",
     "text": [
      "[1, 5, 10, 17]\n",
      "[1, 4, 20, 140]\n",
      "[1, 4, 5, 7, 1, 6, 5, 9, 8, 10, 5, 4]\n"
     ]
    }
   ],
   "source": [
    "#1.accumulate(), 2.chain()\n",
    "import itertools\n",
    "import operator\n",
    "l1 = [1, 4, 5, 7]\n",
    "l2 = [1, 6, 5, 9]\n",
    "l3 = [8, 10, 5, 4]\n",
    "print(list(itertools.accumulate(l1)))\n",
    "print(list(itertools.accumulate(l1, operator.mul)))\n",
    "print(list(itertools.chain(l1, l2, l3)))"
   ]
  },
  {
   "cell_type": "code",
   "execution_count": 7,
   "metadata": {},
   "outputs": [
    {
     "name": "stdout",
     "output_type": "stream",
     "text": [
      "[1, 4, 5, 7, 1, 6, 5, 9, 8, 10, 5, 4]\n",
      "['P', 'H', 'N']\n"
     ]
    }
   ],
   "source": [
    "#3.chain.from_iterable(), 4.compress()\n",
    "l1 = [1, 4, 5, 7]\n",
    "l2 = [1, 6, 5, 9]\n",
    "l3 = [8, 10, 5, 4]\n",
    "l4 = [l1, l2, l3]\n",
    "print(list(itertools.chain.from_iterable(l4)))\n",
    "print(list(itertools.compress('PYTHON', [1, 0, 0, 1, 0, 1])))"
   ]
  },
  {
   "cell_type": "code",
   "execution_count": 11,
   "metadata": {},
   "outputs": [
    {
     "name": "stdout",
     "output_type": "stream",
     "text": [
      "[5, 7, 8]\n",
      "[5, 7]\n"
     ]
    }
   ],
   "source": [
    "#5.dropwhile(), 6.filterfalse()\n",
    "l1 = [2, 4, 5, 7, 8]\n",
    "print(list(itertools.dropwhile(lambda x: x%2 == 0, l1)))\n",
    "print(list(itertools.filterfalse(lambda x: x%2 == 0, l1)))"
   ]
  },
  {
   "cell_type": "code",
   "execution_count": 14,
   "metadata": {},
   "outputs": [
    {
     "name": "stdout",
     "output_type": "stream",
     "text": [
      "[3, 6]\n",
      "[1, 1, 4, 1]\n"
     ]
    }
   ],
   "source": [
    "#7.islice(), 8.starmap()\n",
    "l = [1, 2, 3, 4, 5, 6, 7, 8]\n",
    "l1 = [(1, 10, 5), (8, 4, 1), (5, 4, 9), (11, 10, 1)]\n",
    "print(list(itertools.islice(l, 2, 7, 3)))\n",
    "print(list(itertools.starmap(min, l1)))"
   ]
  },
  {
   "cell_type": "code",
   "execution_count": 7,
   "metadata": {},
   "outputs": [
    {
     "name": "stdout",
     "output_type": "stream",
     "text": [
      "[2, 4, 6]\n",
      "[2, 4, 6, 7, 8, 10, 20]\n",
      "[2, 4, 6, 7, 8, 10, 20]\n",
      "[2, 4, 6, 7, 8, 10, 20]\n"
     ]
    }
   ],
   "source": [
    "#9.takewhile(), #10.tee()\n",
    "import itertools\n",
    "l = [2, 4, 6, 7, 8, 10, 20]\n",
    "print(list(itertools.takewhile(lambda x : x%2 == 0, l)))\n",
    "it = itertools.tee(l, 3)\n",
    "for i in range(0, 3):\n",
    "    print(list(it[i]))"
   ]
  },
  {
   "cell_type": "code",
   "execution_count": 7,
   "metadata": {},
   "outputs": [
    {
     "name": "stdout",
     "output_type": "stream",
     "text": [
      "('p', 'y') ('t', 'h') ('o', 'n')\n"
     ]
    }
   ],
   "source": [
    "#11.product()\n",
    "import itertools\n",
    "print(*(itertools.zip_longest('pto', 'yhn', fillvalue = '-')))"
   ]
  },
  {
   "cell_type": "code",
   "execution_count": 1,
   "metadata": {},
   "outputs": [
    {
     "name": "stdout",
     "output_type": "stream",
     "text": [
      "[('A', '1'), ('A', '2'), ('B', '1'), ('B', '2')]\n",
      "[('A', 'B'), ('A', 'C'), ('B', 'A'), ('B', 'C'), ('C', 'A'), ('C', 'B')]\n",
      "[('1', '2'), ('1', '3'), ('2', '3')]\n",
      "[('A', 'A'), ('A', 'B'), ('A', 'C'), ('B', 'B'), ('B', 'C'), ('C', 'C')]\n"
     ]
    }
   ],
   "source": [
    "#12.product(), 13.permutations(), 14.combinations(), 15.combinations_with_replacment(). \n",
    "import itertools\n",
    "print(list(itertools.product('AB', '12')))\n",
    "print(list(itertools.permutations('ABC', 2)))\n",
    "print(list(itertools.combinations('123', 2)))\n",
    "print(list(itertools.combinations_with_replacement('ABC', 2)))"
   ]
  },
  {
   "cell_type": "code",
   "execution_count": 3,
   "metadata": {},
   "outputs": [
    {
     "name": "stderr",
     "output_type": "stream",
     "text": [
      "ERROR:root:Internal Python error in the inspect module.\n",
      "Below is the traceback from this internal error.\n",
      "\n"
     ]
    },
    {
     "name": "stdout",
     "output_type": "stream",
     "text": [
      "Traceback (most recent call last):\n",
      "  File \"c:\\users\\raghavendra\\appdata\\local\\programs\\python\\python36\\lib\\site-packages\\IPython\\core\\interactiveshell.py\", line 3326, in run_code\n",
      "    exec(code_obj, self.user_global_ns, self.user_ns)\n",
      "  File \"<ipython-input-3-ddb9edf2493f>\", line 1, in <module>\n",
      "    print(list(itertools.count(10, 2)))\n",
      "MemoryError\n",
      "\n",
      "During handling of the above exception, another exception occurred:\n",
      "\n",
      "Traceback (most recent call last):\n",
      "  File \"c:\\users\\raghavendra\\appdata\\local\\programs\\python\\python36\\lib\\site-packages\\IPython\\core\\interactiveshell.py\", line 2040, in showtraceback\n",
      "    stb = value._render_traceback_()\n",
      "AttributeError: 'MemoryError' object has no attribute '_render_traceback_'\n",
      "\n",
      "During handling of the above exception, another exception occurred:\n",
      "\n",
      "Traceback (most recent call last):\n",
      "  File \"c:\\users\\raghavendra\\appdata\\local\\programs\\python\\python36\\lib\\site-packages\\IPython\\core\\ultratb.py\", line 1101, in get_records\n",
      "    return _fixed_getinnerframes(etb, number_of_lines_of_context, tb_offset)\n",
      "  File \"c:\\users\\raghavendra\\appdata\\local\\programs\\python\\python36\\lib\\site-packages\\IPython\\core\\ultratb.py\", line 319, in wrapped\n",
      "    return f(*args, **kwargs)\n",
      "  File \"c:\\users\\raghavendra\\appdata\\local\\programs\\python\\python36\\lib\\site-packages\\IPython\\core\\ultratb.py\", line 353, in _fixed_getinnerframes\n",
      "    records = fix_frame_records_filenames(inspect.getinnerframes(etb, context))\n",
      "  File \"c:\\users\\raghavendra\\appdata\\local\\programs\\python\\python36\\lib\\inspect.py\", line 1490, in getinnerframes\n",
      "    frameinfo = (tb.tb_frame,) + getframeinfo(tb, context)\n",
      "  File \"c:\\users\\raghavendra\\appdata\\local\\programs\\python\\python36\\lib\\inspect.py\", line 1448, in getframeinfo\n",
      "    filename = getsourcefile(frame) or getfile(frame)\n",
      "  File \"c:\\users\\raghavendra\\appdata\\local\\programs\\python\\python36\\lib\\inspect.py\", line 696, in getsourcefile\n",
      "    if getattr(getmodule(object, filename), '__loader__', None) is not None:\n",
      "  File \"c:\\users\\raghavendra\\appdata\\local\\programs\\python\\python36\\lib\\inspect.py\", line 739, in getmodule\n",
      "    f = getabsfile(module)\n",
      "  File \"c:\\users\\raghavendra\\appdata\\local\\programs\\python\\python36\\lib\\inspect.py\", line 708, in getabsfile\n",
      "    _filename = getsourcefile(object) or getfile(object)\n",
      "  File \"c:\\users\\raghavendra\\appdata\\local\\programs\\python\\python36\\lib\\inspect.py\", line 693, in getsourcefile\n",
      "    if os.path.exists(filename):\n",
      "  File \"c:\\users\\raghavendra\\appdata\\local\\programs\\python\\python36\\lib\\genericpath.py\", line 19, in exists\n",
      "    os.stat(path)\n",
      "KeyboardInterrupt\n"
     ]
    },
    {
     "ename": "MemoryError",
     "evalue": "",
     "output_type": "error",
     "traceback": [
      "\u001b[1;31m---------------------------------------------------------------------------\u001b[0m"
     ]
    }
   ],
   "source": [
    "print(list(itertools.count(10, 2)))"
   ]
  },
  {
   "cell_type": "code",
   "execution_count": 2,
   "metadata": {},
   "outputs": [
    {
     "name": "stdout",
     "output_type": "stream",
     "text": [
      "a\n",
      "e\n",
      "i\n",
      "o\n",
      "u\n"
     ]
    }
   ],
   "source": [
    "A = ['a', 'e', 'i', 'o', 'u']\n",
    "it = iter(A)\n",
    "try:\n",
    "    print(next(it))\n",
    "    print(next(it))\n",
    "    print(next(it))\n",
    "    print(next(it))\n",
    "    print(next(it))\n",
    "    print(next(it))\n",
    "except:\n",
    "    pass"
   ]
  },
  {
   "cell_type": "code",
   "execution_count": 3,
   "metadata": {},
   "outputs": [
    {
     "name": "stdout",
     "output_type": "stream",
     "text": [
      "1\n",
      "2\n",
      "3\n",
      "4\n",
      "5\n",
      "6\n"
     ]
    }
   ],
   "source": [
    "A = [1, 2, 3, 4, 5, 6]\n",
    "it = iter(A)\n",
    "while True:\n",
    "    try:\n",
    "        print(it.__next__())\n",
    "    except:\n",
    "        break"
   ]
  },
  {
   "cell_type": "code",
   "execution_count": 7,
   "metadata": {},
   "outputs": [
    {
     "name": "stdout",
     "output_type": "stream",
     "text": [
      "1 2 3 4 5 "
     ]
    }
   ],
   "source": [
    "A = [1, 2, 3, 4, 5]\n",
    "it = A.__iter__()\n",
    "while True:\n",
    "    try:\n",
    "        print(it.__next__(), end = ' ')\n",
    "    except:\n",
    "        break"
   ]
  },
  {
   "cell_type": "code",
   "execution_count": 11,
   "metadata": {},
   "outputs": [
    {
     "name": "stdout",
     "output_type": "stream",
     "text": [
      "mumbai\n",
      "bangalore\n",
      "pune\n",
      "delhi\n",
      "coimbatore\n",
      "vizag\n",
      "w e l c o m e   t o   p y t h o n "
     ]
    }
   ],
   "source": [
    "#examples.\n",
    "for city in ['mumbai', 'bangalore', 'pune']:\n",
    "    print(city)\n",
    "for city in ('delhi', 'coimbatore', 'vizag'):\n",
    "    print(city)\n",
    "for string in 'welcome to python':\n",
    "    print(string, end = ' ')"
   ]
  },
  {
   "cell_type": "code",
   "execution_count": 12,
   "metadata": {},
   "outputs": [
    {
     "name": "stdout",
     "output_type": "stream",
     "text": [
      "mumbai\n",
      "pune\n",
      "bangalore\n"
     ]
    },
    {
     "ename": "StopIteration",
     "evalue": "",
     "output_type": "error",
     "traceback": [
      "\u001b[1;31m---------------------------------------------------------------------------\u001b[0m",
      "\u001b[1;31mStopIteration\u001b[0m                             Traceback (most recent call last)",
      "\u001b[1;32m<ipython-input-12-0f886635b8a2>\u001b[0m in \u001b[0;36m<module>\u001b[1;34m\u001b[0m\n\u001b[0;32m      4\u001b[0m \u001b[0mprint\u001b[0m\u001b[1;33m(\u001b[0m\u001b[0mnext\u001b[0m\u001b[1;33m(\u001b[0m\u001b[0mA\u001b[0m\u001b[1;33m)\u001b[0m\u001b[1;33m)\u001b[0m\u001b[1;33m\u001b[0m\u001b[1;33m\u001b[0m\u001b[0m\n\u001b[0;32m      5\u001b[0m \u001b[0mprint\u001b[0m\u001b[1;33m(\u001b[0m\u001b[0mnext\u001b[0m\u001b[1;33m(\u001b[0m\u001b[0mA\u001b[0m\u001b[1;33m)\u001b[0m\u001b[1;33m)\u001b[0m\u001b[1;33m\u001b[0m\u001b[1;33m\u001b[0m\u001b[0m\n\u001b[1;32m----> 6\u001b[1;33m \u001b[0mprint\u001b[0m\u001b[1;33m(\u001b[0m\u001b[0mnext\u001b[0m\u001b[1;33m(\u001b[0m\u001b[0mA\u001b[0m\u001b[1;33m)\u001b[0m\u001b[1;33m)\u001b[0m\u001b[1;33m\u001b[0m\u001b[1;33m\u001b[0m\u001b[0m\n\u001b[0m",
      "\u001b[1;31mStopIteration\u001b[0m: "
     ]
    }
   ],
   "source": [
    "cities = ['mumbai', 'pune', 'bangalore']\n",
    "A = iter(cities)\n",
    "print(next(A))\n",
    "print(next(A))\n",
    "print(next(A))\n",
    "print(next(A))"
   ]
  },
  {
   "cell_type": "code",
   "execution_count": 13,
   "metadata": {},
   "outputs": [
    {
     "name": "stdout",
     "output_type": "stream",
     "text": [
      "1\n",
      "2\n",
      "3\n",
      "4\n",
      "5\n"
     ]
    }
   ],
   "source": [
    "def iterable(ob):\n",
    "    try:\n",
    "        iter(ob)\n",
    "        return True\n",
    "    except:\n",
    "        return False\n",
    "for element in [1, 2, 3, 4, 5]:\n",
    "    print(element)"
   ]
  },
  {
   "cell_type": "code",
   "execution_count": 15,
   "metadata": {},
   "outputs": [
    {
     "name": "stdout",
     "output_type": "stream",
     "text": [
      "1\n",
      "2\n",
      "3\n"
     ]
    }
   ],
   "source": [
    "def valgenerator():\n",
    "    yield 1\n",
    "    yield 2\n",
    "    yield 3\n",
    "for i in valgenerator():\n",
    "    print(i)"
   ]
  },
  {
   "cell_type": "code",
   "execution_count": 17,
   "metadata": {},
   "outputs": [
    {
     "name": "stdout",
     "output_type": "stream",
     "text": [
      "1\n",
      "2\n",
      "3\n"
     ]
    }
   ],
   "source": [
    "def valgenerator():\n",
    "    yield 1\n",
    "    yield 2\n",
    "    yield 3\n",
    "a = valgenerator()\n",
    "print(a.__next__())\n",
    "print(a.__next__())\n",
    "print(a.__next__())"
   ]
  }
 ],
 "metadata": {
  "kernelspec": {
   "display_name": "Python 3",
   "language": "python",
   "name": "python3"
  },
  "language_info": {
   "codemirror_mode": {
    "name": "ipython",
    "version": 3
   },
   "file_extension": ".py",
   "mimetype": "text/x-python",
   "name": "python",
   "nbconvert_exporter": "python",
   "pygments_lexer": "ipython3",
   "version": "3.6.8"
  }
 },
 "nbformat": 4,
 "nbformat_minor": 4
}
