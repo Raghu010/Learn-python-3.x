{
 "cells": [
  {
   "cell_type": "markdown",
   "metadata": {},
   "source": [
    "List : Is a collection of items/elements in order with different data types.\n",
    "Indexing, slice, extended slice of list is possible.\n",
    "We can assign values to the list.\n",
    "List can be created using square brackets and list function."
   ]
  },
  {
   "cell_type": "code",
   "execution_count": 5,
   "metadata": {},
   "outputs": [
    {
     "name": "stdout",
     "output_type": "stream",
     "text": [
      "[]\n",
      "['pythondeveloper']\n",
      "python developer\n",
      "[['virat', 'is', 'an'], 'incredible', 'athlete']\n"
     ]
    }
   ],
   "source": [
    "#examples for creating a list.\n",
    "a = []\n",
    "print(a)    #creating empty list.\n",
    "b = ['pythondeveloper']  #creating the list with string in it.\n",
    "print(b)\n",
    "c = ['python', 'developer'] #creating a list with multiple string values in it.\n",
    "print(c[0], c[1])\n",
    "d = [['virat', 'is', 'an'], 'incredible', 'athlete'] #creating a multi-dimensional list or nested list.\n",
    "print(d)"
   ]
  },
  {
   "cell_type": "code",
   "execution_count": 7,
   "metadata": {},
   "outputs": [
    {
     "name": "stdout",
     "output_type": "stream",
     "text": [
      "[1, 1, 2, 3, 4, 4, 5, 6, 7]\n",
      "[1, 2, 'python', 3, 'python']\n"
     ]
    }
   ],
   "source": [
    "#creating a list with multiple distinct or duplicate values\n",
    "a = [1, 1, 2, 3, 4, 4, 5, 6, 7]\n",
    "print(a)\n",
    "b = [1, 2, 'python', 3, 'python']\n",
    "print(b)"
   ]
  },
  {
   "cell_type": "markdown",
   "metadata": {},
   "source": [
    "Only one element can be added to the list using append method.\n",
    "\n",
    "If you want to add multiple elements you need to loop the append method.\n",
    "\n",
    "List and tuples can also be added to an exsisting list."
   ]
  },
  {
   "cell_type": "code",
   "execution_count": 16,
   "metadata": {},
   "outputs": [
    {
     "name": "stdout",
     "output_type": "stream",
     "text": [
      "[]\n",
      "[1, 2, 3]\n",
      "[1, 2, 3, 1, 2, 3, 4]\n",
      "[1, 2, 3, 1, 2, 3, 4, (5, 6)]\n",
      "[1, 2, 3, 1, 2, 3, 4, (5, 6), ['a', 'b']]\n"
     ]
    }
   ],
   "source": [
    "a = []\n",
    "print(a)\n",
    "a.append(1)\n",
    "a.append(2)\n",
    "a.append(3)\n",
    "print(a)\n",
    "for i in range(1, 5):\n",
    "    a.append(i)\n",
    "print(a)\n",
    "a.append((5, 6))\n",
    "print(a)\n",
    "a.append(['a', 'b'])\n",
    "print(a)"
   ]
  },
  {
   "cell_type": "markdown",
   "metadata": {},
   "source": [
    "Note: append will only add the elements at the end.\n",
    "\n",
    "Insert method will insert the specified element in the specified field."
   ]
  },
  {
   "cell_type": "code",
   "execution_count": 17,
   "metadata": {},
   "outputs": [
    {
     "name": "stdout",
     "output_type": "stream",
     "text": [
      "[1, 2, 3, 4]\n",
      "['hi', 1, 3.4, 2, 3, 4]\n"
     ]
    }
   ],
   "source": [
    "a = [1, 2, 3, 4]\n",
    "print(a)\n",
    "a.insert(0, 'hi')\n",
    "a.insert(2, 3.4)\n",
    "print(a)"
   ]
  },
  {
   "cell_type": "markdown",
   "metadata": {},
   "source": [
    "To add multiple values at the end of a list extend() is used."
   ]
  },
  {
   "cell_type": "code",
   "execution_count": 20,
   "metadata": {},
   "outputs": [
    {
     "name": "stdout",
     "output_type": "stream",
     "text": [
      "[4, 5, 6]\n",
      "[4, 5, 6, 1, 2.3, 'hi']\n"
     ]
    }
   ],
   "source": [
    "#example for extend method.\n",
    "a = [4, 5, 6]\n",
    "print(a)\n",
    "a.extend([1, 2.3, 'hi'])\n",
    "print(a)"
   ]
  },
  {
   "cell_type": "markdown",
   "metadata": {},
   "source": [
    "# Accessing elements from the list."
   ]
  },
  {
   "cell_type": "markdown",
   "metadata": {},
   "source": [
    "List elements can be accessed using index operator[].\n",
    "\n",
    "Integer must be passed inside the square brackets.\n",
    "\n",
    "Nested lists can be accessed using nested indexing."
   ]
  },
  {
   "cell_type": "code",
   "execution_count": 1,
   "metadata": {},
   "outputs": [
    {
     "name": "stdout",
     "output_type": "stream",
     "text": [
      "1 1\n"
     ]
    }
   ],
   "source": [
    "a = [1, 2.2, 3j + 4, 'Hi', True]\n",
    "print(a[0], a[-5]) #indexing"
   ]
  },
  {
   "cell_type": "code",
   "execution_count": 2,
   "metadata": {},
   "outputs": [
    {
     "name": "stdout",
     "output_type": "stream",
     "text": [
      "[1, 2.2, (4+3j)]\n",
      "[1, 2.2, (4+3j)]\n"
     ]
    }
   ],
   "source": [
    "print(a[0:3])\n",
    "print(a[-5:-2]) #slice"
   ]
  },
  {
   "cell_type": "code",
   "execution_count": 3,
   "metadata": {},
   "outputs": [
    {
     "name": "stdout",
     "output_type": "stream",
     "text": [
      "[1, (4+3j)]\n",
      "[1, (4+3j)]\n"
     ]
    }
   ],
   "source": [
    "print(a[0:4:2])\n",
    "print(a[-5:-1:2]) #extended slice"
   ]
  },
  {
   "cell_type": "code",
   "execution_count": 2,
   "metadata": {},
   "outputs": [
    {
     "name": "stdout",
     "output_type": "stream",
     "text": [
      "machine\n",
      "with\n"
     ]
    }
   ],
   "source": [
    "#example for accessing the nested list.\n",
    "a = [['machine', 'learning'], 'with', 'python']\n",
    "print(a[0][0])\n",
    "print(a[1])"
   ]
  },
  {
   "cell_type": "code",
   "execution_count": null,
   "metadata": {},
   "outputs": [],
   "source": []
  },
  {
   "cell_type": "code",
   "execution_count": 4,
   "metadata": {},
   "outputs": [
    {
     "name": "stdout",
     "output_type": "stream",
     "text": [
      "[1, 2.2, 'Ragh', 'Hi', True]\n"
     ]
    }
   ],
   "source": [
    "a[2] = 'Ragh'\n",
    "print(a)        #assigning"
   ]
  },
  {
   "cell_type": "code",
   "execution_count": 5,
   "metadata": {},
   "outputs": [
    {
     "name": "stdout",
     "output_type": "stream",
     "text": [
      "1 2.2 (4+3j) Hello False\n"
     ]
    }
   ],
   "source": [
    "#creating a list using square brackets\n",
    "a = [1, 2.2, 3j + 4, 'Hello', False]\n",
    "print(a[0], a[1], a[2], a[3], a[4])"
   ]
  },
  {
   "cell_type": "code",
   "execution_count": 6,
   "metadata": {},
   "outputs": [
    {
     "name": "stdout",
     "output_type": "stream",
     "text": [
      "1 2.3 (4+3j) Hi True\n"
     ]
    }
   ],
   "source": [
    "#creating a list using list function\n",
    "a = list([1, 2.3, 3j + 4, 'Hi', True])\n",
    "print(a[0], a[1], a[2], a[3], a[4])"
   ]
  },
  {
   "cell_type": "code",
   "execution_count": 7,
   "metadata": {},
   "outputs": [
    {
     "name": "stdout",
     "output_type": "stream",
     "text": [
      "1 1 2 2\n"
     ]
    }
   ],
   "source": [
    "#duplicate values in a list\n",
    "a = [1, 1, 2, 2, 4, 5, 8]\n",
    "print(a[0], a[1], a[2], a[3])"
   ]
  },
  {
   "cell_type": "code",
   "execution_count": 8,
   "metadata": {},
   "outputs": [
    {
     "name": "stdout",
     "output_type": "stream",
     "text": [
      "[1, 2.3, ['Hello', 'Python', 'Ram'], 'ragh', True]\n"
     ]
    }
   ],
   "source": [
    "#example for list in a list(nested list)\n",
    "a = [1, 2.3, 3j + 4, 'ragh', True]\n",
    "a[2] = ['Hello', 'Python', 'Ram']\n",
    "print(a)"
   ]
  },
  {
   "cell_type": "code",
   "execution_count": 9,
   "metadata": {},
   "outputs": [
    {
     "name": "stdout",
     "output_type": "stream",
     "text": [
      "python\n"
     ]
    }
   ],
   "source": [
    "#accessing the elements of a sublist\n",
    "a = [1, 2.3, ['welcome', 'to', 'python'], True]\n",
    "print(a[2][2])"
   ]
  },
  {
   "cell_type": "code",
   "execution_count": 10,
   "metadata": {},
   "outputs": [
    {
     "name": "stdout",
     "output_type": "stream",
     "text": [
      "[1, 2.3, ['welcome', [1, 2, 3], 'python'], True]\n"
     ]
    }
   ],
   "source": [
    "a = [1, 2.3, ['welcome', 'to', 'python'], True]\n",
    "a[2][1] = [1, 2, 3]\n",
    "print(a)"
   ]
  },
  {
   "cell_type": "code",
   "execution_count": 11,
   "metadata": {},
   "outputs": [
    {
     "name": "stdout",
     "output_type": "stream",
     "text": [
      "[1, 25, 25, 25, True]\n"
     ]
    }
   ],
   "source": [
    "a = [1, 2.2, 3j +4, 'Hi', True]\n",
    "a[1:4] = [25, 25, 25]\n",
    "print(a)"
   ]
  },
  {
   "cell_type": "code",
   "execution_count": 12,
   "metadata": {},
   "outputs": [
    {
     "name": "stdout",
     "output_type": "stream",
     "text": [
      "3\n"
     ]
    }
   ],
   "source": [
    "a = [1, 2.3, ['Hello', [1, 2, 3, 4], 'Ragh'], 2j + 3]\n",
    "print(a[2][1][2])"
   ]
  },
  {
   "cell_type": "code",
   "execution_count": 13,
   "metadata": {},
   "outputs": [
    {
     "name": "stdout",
     "output_type": "stream",
     "text": [
      "['Hello', 'world']\n",
      "Hello\n"
     ]
    }
   ],
   "source": [
    "a = [10, 20, 30, ['Hello', 'world'], [1.2, 2.3, 3.4]]\n",
    "print(a[3])\n",
    "print(a[3][0])"
   ]
  },
  {
   "cell_type": "markdown",
   "metadata": {},
   "source": [
    "# Few List methods"
   ]
  },
  {
   "cell_type": "code",
   "execution_count": 14,
   "metadata": {},
   "outputs": [
    {
     "name": "stdout",
     "output_type": "stream",
     "text": [
      "[1, 2, 3, 4, 5, 6]\n"
     ]
    }
   ],
   "source": [
    "a = [1, 2, 3, 4, 5]\n",
    "a.append(6)\n",
    "print(a)"
   ]
  },
  {
   "cell_type": "code",
   "execution_count": 2,
   "metadata": {},
   "outputs": [
    {
     "name": "stdout",
     "output_type": "stream",
     "text": [
      "[1, 2, 3]\n"
     ]
    }
   ],
   "source": [
    "#example\n",
    "nums = []\n",
    "nums.append(1)\n",
    "nums.append(2)\n",
    "nums.append(3)\n",
    "print(nums)"
   ]
  },
  {
   "cell_type": "code",
   "execution_count": 15,
   "metadata": {},
   "outputs": [
    {
     "name": "stdout",
     "output_type": "stream",
     "text": [
      "[]\n"
     ]
    }
   ],
   "source": [
    "a = [1, 2, 3, 4, 5]\n",
    "a.clear()\n",
    "print(a)"
   ]
  },
  {
   "cell_type": "code",
   "execution_count": 16,
   "metadata": {},
   "outputs": [
    {
     "name": "stdout",
     "output_type": "stream",
     "text": [
      "[1.2, 2.3, 3.4, 4.5, 5.6]\n"
     ]
    }
   ],
   "source": [
    "a = [1.2, 2.3, 3.4, 4.5, 5.6]\n",
    "A = a.copy()\n",
    "print(A)"
   ]
  },
  {
   "cell_type": "code",
   "execution_count": 17,
   "metadata": {},
   "outputs": [
    {
     "name": "stdout",
     "output_type": "stream",
     "text": [
      "[1, 2, 3, 'A', 'B', 'C']\n"
     ]
    }
   ],
   "source": [
    "a = [1, 2, 3]\n",
    "b = ['A', 'B', 'C']\n",
    "a.extend(b)\n",
    "print(a)"
   ]
  },
  {
   "cell_type": "code",
   "execution_count": 18,
   "metadata": {},
   "outputs": [
    {
     "name": "stdout",
     "output_type": "stream",
     "text": [
      "['A', 'B', 'C', 1, 2, 3, 'A', 'B', 'C']\n"
     ]
    }
   ],
   "source": [
    "b.extend(a)\n",
    "print(b)"
   ]
  },
  {
   "cell_type": "code",
   "execution_count": 19,
   "metadata": {},
   "outputs": [
    {
     "data": {
      "text/plain": [
       "2"
      ]
     },
     "execution_count": 19,
     "metadata": {},
     "output_type": "execute_result"
    }
   ],
   "source": [
    "a = [1, 2, 3, 4, 5, 6]\n",
    "a.index(3)"
   ]
  },
  {
   "cell_type": "code",
   "execution_count": 20,
   "metadata": {},
   "outputs": [
    {
     "name": "stdout",
     "output_type": "stream",
     "text": [
      "[1, 2, 3, 4, 5]\n"
     ]
    }
   ],
   "source": [
    "a = [1, 2, 3, 4, 5, 6]\n",
    "a.pop()\n",
    "print(a)"
   ]
  },
  {
   "cell_type": "code",
   "execution_count": 4,
   "metadata": {},
   "outputs": [
    {
     "name": "stdout",
     "output_type": "stream",
     "text": [
      "[1, 2, 3, 4, 6]\n"
     ]
    }
   ],
   "source": [
    "a = [1, 2, 3, 4, 5, 6]\n",
    "a.remove(5)\n",
    "print(a)"
   ]
  },
  {
   "cell_type": "code",
   "execution_count": 22,
   "metadata": {},
   "outputs": [
    {
     "name": "stdout",
     "output_type": "stream",
     "text": [
      "['a', 'b', 'c', 'd', 'e']\n"
     ]
    }
   ],
   "source": [
    "a = ['a', 'c', 'd', 'e']\n",
    "a.insert(1, 'b')\n",
    "print(a)"
   ]
  },
  {
   "cell_type": "code",
   "execution_count": 23,
   "metadata": {},
   "outputs": [
    {
     "name": "stdout",
     "output_type": "stream",
     "text": [
      "[4.5, 3.4, 2.3, 1.2]\n"
     ]
    }
   ],
   "source": [
    "a = [1.2, 2.3, 3.4, 4.5]\n",
    "a.reverse()\n",
    "print(a)"
   ]
  },
  {
   "cell_type": "code",
   "execution_count": 24,
   "metadata": {},
   "outputs": [
    {
     "name": "stdout",
     "output_type": "stream",
     "text": [
      "['B', 'D', 'a', 'c']\n"
     ]
    }
   ],
   "source": [
    "a = ['a', 'B', 'c', 'D']\n",
    "a.sort()\n",
    "print(a)"
   ]
  },
  {
   "cell_type": "code",
   "execution_count": 27,
   "metadata": {},
   "outputs": [
    {
     "name": "stdout",
     "output_type": "stream",
     "text": [
      "(1, 2, 3, 4, 5)\n"
     ]
    }
   ],
   "source": [
    "a = [1, 2, 3, 4, 5]\n",
    "b = tuple(a)\n",
    "print(b)          #converting list to tuple"
   ]
  },
  {
   "cell_type": "markdown",
   "metadata": {},
   "source": [
    "Note: To print elements of list in reversed manner use [::-1]"
   ]
  }
 ],
 "metadata": {
  "kernelspec": {
   "display_name": "Python 3",
   "language": "python",
   "name": "python3"
  },
  "language_info": {
   "codemirror_mode": {
    "name": "ipython",
    "version": 3
   },
   "file_extension": ".py",
   "mimetype": "text/x-python",
   "name": "python",
   "nbconvert_exporter": "python",
   "pygments_lexer": "ipython3",
   "version": "3.6.8"
  }
 },
 "nbformat": 4,
 "nbformat_minor": 4
}
