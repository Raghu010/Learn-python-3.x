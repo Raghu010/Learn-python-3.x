{
 "cells": [
  {
   "cell_type": "markdown",
   "metadata": {},
   "source": [
    "# Mouse and Keyboard automation using Python."
   ]
  },
  {
   "cell_type": "markdown",
   "metadata": {},
   "source": [
    "This article illustrates how to automate the movement of mouse and keyboard using __pyautogui__ module in python."
   ]
  },
  {
   "cell_type": "markdown",
   "metadata": {},
   "source": [
    "__Controlling mouse movements using pyautogui Module.__"
   ]
  },
  {
   "cell_type": "markdown",
   "metadata": {},
   "source": [
    "Python tracks and controls the movement of mouse using coordinate system of screen."
   ]
  },
  {
   "cell_type": "code",
   "execution_count": 2,
   "metadata": {},
   "outputs": [
    {
     "name": "stdout",
     "output_type": "stream",
     "text": [
      "Size(width=1366, height=768)\n"
     ]
    }
   ],
   "source": [
    "import pyautogui\n",
    "pyautogui.size() #This function is used to get the screen resolution."
   ]
  },
  {
   "cell_type": "code",
   "execution_count": 6,
   "metadata": {},
   "outputs": [
    {
     "name": "stdout",
     "output_type": "stream",
     "text": [
      "None\n"
     ]
    }
   ],
   "source": [
    "import pyautogui\n",
    "pyautogui.moveTo(100, 100, duration = 10)"
   ]
  },
  {
   "cell_type": "markdown",
   "metadata": {},
   "source": [
    "Above code uses moveTo function which takes x and y co-ordinates, and an optional duration argument. This function moves your mouse pointer from it’s current location to x, y coordinate, and takes time as specified by duration argument to do so. Save and run this python script to see your mouse pointer magically moving from its current location to coordinates (100, 100), taking 1 second in this process."
   ]
  },
  {
   "cell_type": "code",
   "execution_count": 13,
   "metadata": {},
   "outputs": [
    {
     "name": "stdout",
     "output_type": "stream",
     "text": [
      "None\n"
     ]
    }
   ],
   "source": [
    "import pyautogui\n",
    "pyautogui.moveRel(0, 50, duration = 1)"
   ]
  },
  {
   "cell_type": "markdown",
   "metadata": {},
   "source": [
    "This code will move mouse pointer at (0, 50) relative to its original position. For example, if mouse position before running the code was (1000, 1000), then this code will move the pointer to coordinates (1000, 1050) in duration 1 second."
   ]
  },
  {
   "cell_type": "code",
   "execution_count": 15,
   "metadata": {},
   "outputs": [
    {
     "name": "stdout",
     "output_type": "stream",
     "text": [
      "Point(x=536, y=417)\n"
     ]
    }
   ],
   "source": [
    "import pyautogui\n",
    "pyautogui.position() #Note: This function returns the current position of mouse."
   ]
  },
  {
   "cell_type": "code",
   "execution_count": 22,
   "metadata": {},
   "outputs": [
    {
     "name": "stdout",
     "output_type": "stream",
     "text": [
      "None\n"
     ]
    }
   ],
   "source": [
    "import pyautogui\n",
    "pyautogui.click(100, 140) #Note: This function clicks the mouse at location specified."
   ]
  },
  {
   "cell_type": "markdown",
   "metadata": {},
   "source": [
    "We have two functions related to drag operation of a mouse __dragTo and dragRel__. They perform similar to moveTo and moveRel functions, except that it holds the left button of the mouse thus initiating the drag."
   ]
  },
  {
   "cell_type": "code",
   "execution_count": 31,
   "metadata": {},
   "outputs": [],
   "source": [
    "import time\n",
    "import pyautogui\n",
    "time.sleep(10)\n",
    "pyautogui.moveTo(1000, 1000, duration = 1)\n",
    "pyautogui.dragRel(0, 100, duration = 1)\n",
    "pyautogui.dragRel(100, 0, duration = 1)\n",
    "pyautogui.dragRel(0, -100, duration = 1)\n",
    "pyautogui.dragRel(-100, 0, duration = 1)"
   ]
  },
  {
   "cell_type": "code",
   "execution_count": 35,
   "metadata": {},
   "outputs": [
    {
     "name": "stdout",
     "output_type": "stream",
     "text": [
      "None\n"
     ]
    }
   ],
   "source": [
    "import pyautogui\n",
    "pyautogui.scroll(500)"
   ]
  },
  {
   "cell_type": "code",
   "execution_count": 37,
   "metadata": {},
   "outputs": [
    {
     "name": "stdout",
     "output_type": "stream",
     "text": [
      "None\n",
      "None\n"
     ]
    }
   ],
   "source": [
    "import pyautogui\n",
    "pyautogui.click(750, 350)\n",
    "pyautogui.typewrite('Sunny') #Note:You can automate typing of string by using typewrite() function. just pass the string which you want to type as argument of this function."
   ]
  },
  {
   "cell_type": "code",
   "execution_count": 43,
   "metadata": {},
   "outputs": [],
   "source": [
    "import pyautogui \n",
    "pyautogui.typewrite([\"a\", \"left\", \"ctrlleft\"]) "
   ]
  },
  {
   "cell_type": "code",
   "execution_count": 42,
   "metadata": {},
   "outputs": [],
   "source": [
    "import pyautogui \n",
    "pyautogui.hotkey(\"ctrlleft\", \"a\") "
   ]
  },
  {
   "cell_type": "markdown",
   "metadata": {},
   "source": [
    "# Generating your own QR-Code"
   ]
  },
  {
   "cell_type": "code",
   "execution_count": 44,
   "metadata": {},
   "outputs": [
    {
     "name": "stdout",
     "output_type": "stream",
     "text": [
      "Collecting pyqrcode\n",
      "  Downloading PyQRCode-1.2.1.tar.gz (36 kB)\n",
      "Installing collected packages: pyqrcode\n",
      "    Running setup.py install for pyqrcode: started\n",
      "    Running setup.py install for pyqrcode: finished with status 'done'\n",
      "Successfully installed pyqrcode-1.2.1\n"
     ]
    }
   ],
   "source": [
    "!pip install pyqrcode"
   ]
  },
  {
   "cell_type": "code",
   "execution_count": 45,
   "metadata": {},
   "outputs": [],
   "source": [
    "import pyqrcode\n",
    "from pyqrcode import QRCode\n",
    "s = 'https://www.phonepe.com/en/'\n",
    "url = pyqrcode.create(s)\n",
    "url.svg('ppqr.svg', scale = 12)"
   ]
  },
  {
   "cell_type": "code",
   "execution_count": null,
   "metadata": {},
   "outputs": [],
   "source": []
  }
 ],
 "metadata": {
  "kernelspec": {
   "display_name": "Python 3",
   "language": "python",
   "name": "python3"
  },
  "language_info": {
   "codemirror_mode": {
    "name": "ipython",
    "version": 3
   },
   "file_extension": ".py",
   "mimetype": "text/x-python",
   "name": "python",
   "nbconvert_exporter": "python",
   "pygments_lexer": "ipython3",
   "version": "3.8.2"
  }
 },
 "nbformat": 4,
 "nbformat_minor": 4
}
