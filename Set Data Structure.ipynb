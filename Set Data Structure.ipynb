{
 "cells": [
  {
   "cell_type": "markdown",
   "metadata": {},
   "source": [
    "Set : Is an unorderly collection of items or elements within curly braces.\n",
    "\n",
    "Set can be assigned with values, and it does not allow duplicates."
   ]
  },
  {
   "cell_type": "markdown",
   "metadata": {},
   "source": [
    "# Different methods to create a set"
   ]
  },
  {
   "cell_type": "code",
   "execution_count": 4,
   "metadata": {},
   "outputs": [
    {
     "name": "stdout",
     "output_type": "stream",
     "text": [
      "{1, 2, 3, 4, 5}\n",
      "<class 'set'>\n"
     ]
    }
   ],
   "source": [
    "#using curly braces\n",
    "a = {1, 2, 3, 4, 5}\n",
    "print(a)\n",
    "print(type(a))"
   ]
  },
  {
   "cell_type": "code",
   "execution_count": 5,
   "metadata": {},
   "outputs": [
    {
     "name": "stdout",
     "output_type": "stream",
     "text": [
      "{1.2, 2.3, 3.4, 4.5, 5.6}\n",
      "<class 'set'>\n"
     ]
    }
   ],
   "source": [
    "#using set function\n",
    "b = set({1.2, 2.3, 3.4, 4.5, 5.6})\n",
    "print(b)\n",
    "print(type(b))"
   ]
  },
  {
   "cell_type": "code",
   "execution_count": 6,
   "metadata": {},
   "outputs": [
    {
     "name": "stdout",
     "output_type": "stream",
     "text": [
      "{'d', 'e', 'c', 'a', 'b'}\n",
      "<class 'set'>\n"
     ]
    }
   ],
   "source": [
    "c = (['a', 'b', 'c', 'd', 'e'])\n",
    "d = set(c)\n",
    "print(d)\n",
    "print(type(d))"
   ]
  },
  {
   "cell_type": "code",
   "execution_count": 1,
   "metadata": {},
   "outputs": [
    {
     "name": "stdout",
     "output_type": "stream",
     "text": [
      "[1, 2, 3, 3, 4, 4, 5, 6, 7]\n"
     ]
    }
   ],
   "source": [
    "#example for a set with duplicate values.\n",
    "a = ([1, 2, 3, 3, 4, 4, 5, 6, 7])\n",
    "b = set(a)\n",
    "print(a)"
   ]
  },
  {
   "cell_type": "markdown",
   "metadata": {},
   "source": [
    "Note: A set can contain values or elements of any data types."
   ]
  },
  {
   "cell_type": "code",
   "execution_count": 3,
   "metadata": {},
   "outputs": [
    {
     "name": "stdout",
     "output_type": "stream",
     "text": [
      "{1, 2.3, 4, (6+5j), 'a'}\n"
     ]
    }
   ],
   "source": [
    "#example demonstrating above example.\n",
    "c = {'a', 2.3, 4, 5j + 6, 1}\n",
    "d = set(c)\n",
    "print(d)"
   ]
  },
  {
   "cell_type": "markdown",
   "metadata": {},
   "source": [
    "# Different set methods"
   ]
  },
  {
   "cell_type": "code",
   "execution_count": 8,
   "metadata": {},
   "outputs": [
    {
     "data": {
      "text/plain": [
       "{1, 4}"
      ]
     },
     "execution_count": 8,
     "metadata": {},
     "output_type": "execute_result"
    }
   ],
   "source": [
    "a = {1, 2, 3, 4}\n",
    "b = {1, 4}\n",
    "a.intersection(b) #common elements in set 'a' and 'b'"
   ]
  },
  {
   "cell_type": "code",
   "execution_count": 11,
   "metadata": {},
   "outputs": [
    {
     "name": "stdout",
     "output_type": "stream",
     "text": [
      "{0, 1, 4, 7, 9} {0, 1}\n"
     ]
    }
   ],
   "source": [
    "a = {9, 1, 4, 7, 0}\n",
    "b = {1, 0}\n",
    "b.intersection_update(a)\n",
    "print(a, b)"
   ]
  },
  {
   "cell_type": "code",
   "execution_count": 13,
   "metadata": {},
   "outputs": [
    {
     "data": {
      "text/plain": [
       "{4, 5}"
      ]
     },
     "execution_count": 13,
     "metadata": {},
     "output_type": "execute_result"
    }
   ],
   "source": [
    "a = {1, 2, 3, 4, 5}\n",
    "b = {1, 2, 3}\n",
    "a.difference(b)  #prints those elements which are not common to sets 'a' and 'b'"
   ]
  },
  {
   "cell_type": "code",
   "execution_count": 16,
   "metadata": {},
   "outputs": [
    {
     "name": "stdout",
     "output_type": "stream",
     "text": [
      "{8, 2, 4, 5}\n",
      "{1, 3, 6, 7}\n"
     ]
    }
   ],
   "source": [
    "a = {5, 8, 2, 4}\n",
    "b = {1, 3, 6, 7}\n",
    "a.difference_update(b)\n",
    "print(a)\n",
    "print(b)"
   ]
  },
  {
   "cell_type": "code",
   "execution_count": 17,
   "metadata": {},
   "outputs": [
    {
     "name": "stdout",
     "output_type": "stream",
     "text": [
      "{1, 2, 3, 4, 5, 6}\n"
     ]
    }
   ],
   "source": [
    "a = {1, 2, 3, 4, 5}\n",
    "a.add(6)\n",
    "print(a) #only one element at a time can be added to a set."
   ]
  },
  {
   "cell_type": "markdown",
   "metadata": {},
   "source": [
    "Note: Lists can not be added to the set because it is not hashable, whereas tuples can be added because they are immutable hence hashable."
   ]
  },
  {
   "cell_type": "code",
   "execution_count": 4,
   "metadata": {},
   "outputs": [
    {
     "name": "stdout",
     "output_type": "stream",
     "text": [
      "{1, 2, 3, 4, (5, 6)}\n"
     ]
    }
   ],
   "source": [
    "#example demonsrtating above note:\n",
    "a = {1, 2, 3, 4}\n",
    "b = ((5, 6))\n",
    "a.add(b)\n",
    "print(a)"
   ]
  },
  {
   "cell_type": "code",
   "execution_count": 8,
   "metadata": {},
   "outputs": [
    {
     "name": "stdout",
     "output_type": "stream",
     "text": [
      "{1, 2, 3, 4, 5}\n"
     ]
    }
   ],
   "source": [
    "#adding elements to the list using iterator.\n",
    "a = set()\n",
    "for i in range(1, 6):\n",
    "    a.add(i)\n",
    "print(a)"
   ]
  },
  {
   "cell_type": "code",
   "execution_count": 20,
   "metadata": {},
   "outputs": [
    {
     "data": {
      "text/plain": [
       "{1, 2, 3, 4, 5, 6}"
      ]
     },
     "execution_count": 20,
     "metadata": {},
     "output_type": "execute_result"
    }
   ],
   "source": [
    "a = {1, 2, 3}\n",
    "b = {4, 5, 6}\n",
    "a.union(b)\n",
    "b.union(a)  #merges the elements of two sets"
   ]
  },
  {
   "cell_type": "code",
   "execution_count": 21,
   "metadata": {},
   "outputs": [
    {
     "name": "stdout",
     "output_type": "stream",
     "text": [
      "{'d', 'f', 'e', 'c', 'b'}\n"
     ]
    }
   ],
   "source": [
    "a = {'a', 'b', 'c', 'd', 'e', 'f'}\n",
    "a.discard('a')\n",
    "print(a)"
   ]
  },
  {
   "cell_type": "code",
   "execution_count": 22,
   "metadata": {},
   "outputs": [
    {
     "data": {
      "text/plain": [
       "True"
      ]
     },
     "execution_count": 22,
     "metadata": {},
     "output_type": "execute_result"
    }
   ],
   "source": [
    "a = {1, 2, 3}\n",
    "b = {1.2, 2.3, 3.4}\n",
    "a.isdisjoint(b)"
   ]
  },
  {
   "cell_type": "code",
   "execution_count": 24,
   "metadata": {},
   "outputs": [
    {
     "name": "stdout",
     "output_type": "stream",
     "text": [
      "False\n",
      "True\n"
     ]
    }
   ],
   "source": [
    "a = {1, 1.2, 2j + 3, 'Hi', True}\n",
    "b = {1, True}\n",
    "print(a.issubset(b))\n",
    "print(b.issubset(a))"
   ]
  },
  {
   "cell_type": "code",
   "execution_count": 26,
   "metadata": {},
   "outputs": [
    {
     "data": {
      "text/plain": [
       "True"
      ]
     },
     "execution_count": 26,
     "metadata": {},
     "output_type": "execute_result"
    }
   ],
   "source": [
    "a = {'f', 'd', 'c', 'a', 'b', 'e'}\n",
    "b = {'d', 'b', 'f'}\n",
    "c = {'f'}\n",
    "a.issuperset(c)"
   ]
  },
  {
   "cell_type": "code",
   "execution_count": 22,
   "metadata": {},
   "outputs": [
    {
     "name": "stdout",
     "output_type": "stream",
     "text": [
      "{2, 3, 4, 5, 6}\n"
     ]
    }
   ],
   "source": [
    "a = {1, 2, 3, 4, 5, 6}\n",
    "a.pop() #this method eliminates a set element, since the set is unordered we are not sure which element gets poped out.\n",
    "print(a)"
   ]
  },
  {
   "cell_type": "code",
   "execution_count": 29,
   "metadata": {},
   "outputs": [
    {
     "name": "stdout",
     "output_type": "stream",
     "text": [
      "{(4+3j), (2+1j), (5+4j)}\n"
     ]
    }
   ],
   "source": [
    "a = {1j + 2, 2j + 3, 3j + 4, 4j + 5}\n",
    "a.remove(2j + 3)\n",
    "print(a) #keyerror rises when the set is empty"
   ]
  },
  {
   "cell_type": "code",
   "execution_count": 20,
   "metadata": {},
   "outputs": [
    {
     "name": "stdout",
     "output_type": "stream",
     "text": [
      "{1, 6, 7, 8, 9, 10}\n",
      "{1, 6}\n"
     ]
    }
   ],
   "source": [
    "#example demonstrating usage of remove() and discard() methods.\n",
    "a = set([1, 2, 3, 4, 5, 6, 7, 8, 9, 10])\n",
    "a.remove(2)\n",
    "a.remove(3)\n",
    "a.discard(4)\n",
    "a.discard(5)\n",
    "print(a)\n",
    "for i in range(7, 11):\n",
    "    a.remove(i)\n",
    "print(a)"
   ]
  },
  {
   "cell_type": "code",
   "execution_count": 30,
   "metadata": {},
   "outputs": [
    {
     "name": "stdout",
     "output_type": "stream",
     "text": [
      "{3, 4, 6, 7}\n"
     ]
    }
   ],
   "source": [
    "a = {5, 4, 3, 2, 1}\n",
    "b = {7, 6, 5, 2, 1}\n",
    "A = a.symmetric_difference(b)\n",
    "print(A)"
   ]
  },
  {
   "cell_type": "code",
   "execution_count": 32,
   "metadata": {},
   "outputs": [
    {
     "name": "stdout",
     "output_type": "stream",
     "text": [
      "None\n"
     ]
    }
   ],
   "source": [
    "a = {5, 4, 3, 2, 1}\n",
    "b = {7, 6, 5, 2, 1}\n",
    "A = b.symmetric_difference_update(a)\n",
    "print(A)"
   ]
  },
  {
   "cell_type": "code",
   "execution_count": 9,
   "metadata": {},
   "outputs": [
    {
     "name": "stdout",
     "output_type": "stream",
     "text": [
      "{1, 2, 3, 4, 5, 7, 8, 10}\n"
     ]
    }
   ],
   "source": [
    "a = {1, 2, 3, 4, 5}\n",
    "b = {1, 7, 8, 10}\n",
    "b.update(a)\n",
    "print(b) #this method is used to add more than two elements to the set."
   ]
  },
  {
   "cell_type": "markdown",
   "metadata": {},
   "source": [
    "Note: The update() method accepts list, tuple, and string as its arguments. In all of these cases duplicate elements are avoided."
   ]
  },
  {
   "cell_type": "code",
   "execution_count": 11,
   "metadata": {},
   "outputs": [
    {
     "data": {
      "text/plain": [
       "{(3, 4), 1, 2, 5, 6}"
      ]
     },
     "execution_count": 11,
     "metadata": {},
     "output_type": "execute_result"
    }
   ],
   "source": [
    "#example demonstrating above note:\n",
    "a = {1, 2, (3, 4)}\n",
    "a.update([5, 6])\n",
    "a"
   ]
  },
  {
   "cell_type": "code",
   "execution_count": 35,
   "metadata": {},
   "outputs": [
    {
     "name": "stdout",
     "output_type": "stream",
     "text": [
      "set()\n"
     ]
    }
   ],
   "source": [
    "a = {1, 2}\n",
    "a.clear()\n",
    "print(a)  #to remove all the set elements this method is used.s"
   ]
  },
  {
   "cell_type": "code",
   "execution_count": 36,
   "metadata": {},
   "outputs": [
    {
     "name": "stdout",
     "output_type": "stream",
     "text": [
      "{1, 2}\n"
     ]
    }
   ],
   "source": [
    "a = {1, 2}\n",
    "A = a.copy()\n",
    "print(A)"
   ]
  },
  {
   "cell_type": "markdown",
   "metadata": {},
   "source": [
    "# Accessing a set"
   ]
  },
  {
   "cell_type": "markdown",
   "metadata": {},
   "source": [
    "Note: A set can not be accessed by referring to an index, since it is unordered data structure."
   ]
  },
  {
   "cell_type": "code",
   "execution_count": 16,
   "metadata": {},
   "outputs": [
    {
     "name": "stdout",
     "output_type": "stream",
     "text": [
      "{'welcome', 'python', 'to'}\n",
      "welcome python to True\n"
     ]
    }
   ],
   "source": [
    "a = set(['welcome', 'to', 'python'])\n",
    "print(a)\n",
    "for i in a:\n",
    "    print(i, end = ' ')\n",
    "print('python' in a)"
   ]
  }
 ],
 "metadata": {
  "kernelspec": {
   "display_name": "Python 3",
   "language": "python",
   "name": "python3"
  },
  "language_info": {
   "codemirror_mode": {
    "name": "ipython",
    "version": 3
   },
   "file_extension": ".py",
   "mimetype": "text/x-python",
   "name": "python",
   "nbconvert_exporter": "python",
   "pygments_lexer": "ipython3",
   "version": "3.6.8"
  }
 },
 "nbformat": 4,
 "nbformat_minor": 4
}
