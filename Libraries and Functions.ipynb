{
 "cells": [
  {
   "cell_type": "markdown",
   "metadata": {},
   "source": [
    "# Timeit in python."
   ]
  },
  {
   "cell_type": "code",
   "execution_count": 2,
   "metadata": {},
   "outputs": [
    {
     "name": "stdout",
     "output_type": "stream",
     "text": [
      "0.0014580899999145913\n"
     ]
    }
   ],
   "source": [
    "#example to calculate the time taken in seconds to execute the code.\n",
    "import timeit\n",
    "mysetup = 'from math import sqrt'\n",
    "mycode = '''def example():\n",
    "                mylist = []\n",
    "                for _ in range(100):\n",
    "                    print(sqrt(_))'''\n",
    "print(timeit.timeit(setup = mysetup,\n",
    "                  stmt = mycode,\n",
    "                  number = 10000))"
   ]
  },
  {
   "cell_type": "code",
   "execution_count": 9,
   "metadata": {},
   "outputs": [
    {
     "name": "stdout",
     "output_type": "stream",
     "text": [
      "Linear search time: 12.266924913999901\n",
      "Binary search time: 10.284846039000058\n"
     ]
    }
   ],
   "source": [
    "# importing the required modules \n",
    "import timeit \n",
    "  \n",
    "# binary search function \n",
    "def binary_search(mylist, find): \n",
    "    while len(mylist) > 0: \n",
    "        mid = (len(mylist))//2\n",
    "        if mylist[mid] == find: \n",
    "            return True\n",
    "        elif mylist[mid] < find: \n",
    "            mylist = mylist[:mid] \n",
    "        else: \n",
    "            mylist = mylist[mid + 1:] \n",
    "    return False\n",
    "  \n",
    "  \n",
    "# linear search function \n",
    "def linear_search(mylist, find): \n",
    "    for x in mylist: \n",
    "        if x == find: \n",
    "            return True\n",
    "    return False\n",
    "  \n",
    "  \n",
    "# compute binary search time \n",
    "def binary_time(): \n",
    "    SETUP_CODE = ''' \n",
    "from __main__ import binary_search \n",
    "from random import randint'''\n",
    "  \n",
    "    TEST_CODE = ''' \n",
    "mylist = [x for x in range(10000)] \n",
    "find = randint(0, len(mylist)) \n",
    "binary_search(mylist, find)'''\n",
    "      \n",
    "    # timeit.repeat statement \n",
    "    times = timeit.repeat(setup = SETUP_CODE, \n",
    "                          stmt = TEST_CODE, \n",
    "                          repeat = 3, \n",
    "                          number = 10000) \n",
    "  \n",
    "    # priniting minimum exec. time \n",
    "    print('Binary search time: {}'.format(min(times)))         \n",
    "  \n",
    "  \n",
    "# compute linear search time \n",
    "def linear_time(): \n",
    "    SETUP_CODE = ''' \n",
    "from __main__ import linear_search \n",
    "from random import randint'''\n",
    "      \n",
    "    TEST_CODE = ''' \n",
    "mylist = [x for x in range(10000)] \n",
    "find = randint(0, len(mylist)) \n",
    "linear_search(mylist, find) \n",
    "    '''\n",
    "    # timeit.repeat statement \n",
    "    times = timeit.repeat(setup = SETUP_CODE, \n",
    "                          stmt = TEST_CODE, \n",
    "                          repeat = 3, \n",
    "                          number = 10000) \n",
    "  \n",
    "    # priniting minimum exec. time \n",
    "    print('Linear search time: {}'.format(min(times)))   \n",
    "  \n",
    "if __name__ == \"__main__\": \n",
    "    linear_time() \n",
    "    binary_time() "
   ]
  },
  {
   "cell_type": "markdown",
   "metadata": {},
   "source": [
    "# Numpy in Python."
   ]
  },
  {
   "cell_type": "code",
   "execution_count": 5,
   "metadata": {},
   "outputs": [
    {
     "name": "stdout",
     "output_type": "stream",
     "text": [
      "(2, 3)\n",
      "2\n",
      "6\n",
      "int32\n",
      "<class 'numpy.ndarray'>\n"
     ]
    }
   ],
   "source": [
    "#example to demonstrate basic array characteristics.\n",
    "import numpy as np\n",
    "a = np.array([[1, 2, 3], [4, 5, 6]])\n",
    "print(a.shape)\n",
    "print(a.ndim)\n",
    "print(a.size)\n",
    "print(a.dtype)\n",
    "print(type(a))\n"
   ]
  },
  {
   "cell_type": "code",
   "execution_count": 20,
   "metadata": {},
   "outputs": [
    {
     "name": "stdout",
     "output_type": "stream",
     "text": [
      "[[1. 2. 3.]\n",
      " [4. 5. 6.]]\n",
      "[1 2 3]\n",
      "[[0. 0. 0.]\n",
      " [0. 0. 0.]]\n",
      "[[6.+0.j 6.+0.j 6.+0.j]\n",
      " [6.+0.j 6.+0.j 6.+0.j]\n",
      " [6.+0.j 6.+0.j 6.+0.j]]\n",
      "[[0.05988628 0.74032397]\n",
      " [0.18961549 0.78166696]]\n",
      "[ 0  5 10 15 20 25]\n",
      "[0.         0.55555556 1.11111111 1.66666667 2.22222222 2.77777778\n",
      " 3.33333333 3.88888889 4.44444444 5.        ]\n",
      "[[[1 2 3]\n",
      "  [4 5 6]]\n",
      "\n",
      " [[7 8 2]\n",
      "  [4 6 8]]]\n",
      "[[1 2 3 4]\n",
      " [5 6 7 8]\n",
      " [2 4 6 8]]\n",
      "[[1 2 3]\n",
      " [1 3 5]]\n",
      "[1 2 3 1 3 5]\n"
     ]
    }
   ],
   "source": [
    "#array creation techniques.\n",
    "import numpy as np\n",
    "a = np.array([[1, 2, 3], [4, 5, 6]], dtype = 'float')\n",
    "print(a)\n",
    "b = np.array((1, 2, 3))\n",
    "print(b)\n",
    "c = np.zeros((2, 3))\n",
    "print(c)\n",
    "d = np.full((3, 3), 6, dtype = 'complex')\n",
    "print(d)\n",
    "e = np.random.random((2, 2))\n",
    "print(e)\n",
    "f = np.arange(0, 30, 5)\n",
    "print(f)\n",
    "g = np.linspace(0, 5, 10)\n",
    "print(g)\n",
    "h = np.array([[1, 2, 3, 4], [5, 6, 7, 8], [2, 4, 6, 8]])\n",
    "print(h.reshape(2, 2, 3))\n",
    "print(h)\n",
    "i = np.array([[1, 2, 3], [1, 3, 5]])\n",
    "j = i.flatten()\n",
    "print(i)\n",
    "print(j)"
   ]
  },
  {
   "cell_type": "code",
   "execution_count": 23,
   "metadata": {},
   "outputs": [
    {
     "name": "stdout",
     "output_type": "stream",
     "text": [
      "[[1 3]\n",
      " [5 7]]\n",
      "[4 7 4 1]\n",
      "[1 2 3 4 5 6 7 8 2 4 6 8 1 3 5 7]\n"
     ]
    }
   ],
   "source": [
    "#examples for indexing.\n",
    "import numpy as np\n",
    "a = np.array([[1, 2, 3, 4], [5, 6, 7, 8], [2, 4, 6, 8], [1, 3, 5, 7]])\n",
    "b = a[:2, ::2]\n",
    "print(b)\n",
    "c = a[[0, 1, 2, 3], [3, 2, 1, 0]]\n",
    "print(c)\n",
    "d = a>0\n",
    "e = a[d]\n",
    "print(e)"
   ]
  },
  {
   "cell_type": "code",
   "execution_count": 6,
   "metadata": {},
   "outputs": [
    {
     "name": "stdout",
     "output_type": "stream",
     "text": [
      "[[2 3 4]\n",
      " [5 6 7]]\n",
      "[[-2 -1  0]\n",
      " [ 1  2  3]]\n",
      "[[ 2  4  6]\n",
      " [ 8 10 12]]\n",
      "[[ 1  4  9]\n",
      " [16 25 36]]\n",
      "[[ 2  4  6]\n",
      " [ 8 10 12]]\n",
      "[[ 2  8]\n",
      " [ 4 10]\n",
      " [ 6 12]]\n"
     ]
    }
   ],
   "source": [
    "#examples for array operations.\n",
    "import numpy as np\n",
    "a = np.array([[1, 2, 3], [4, 5, 6]])\n",
    "print(a+1)\n",
    "print(a-3)\n",
    "print(a*2)\n",
    "print(a**2)\n",
    "a *= 2\n",
    "print(a)\n",
    "print(a.T)"
   ]
  },
  {
   "cell_type": "code",
   "execution_count": 17,
   "metadata": {},
   "outputs": [
    {
     "name": "stdout",
     "output_type": "stream",
     "text": [
      "45\n",
      "[12 15 18]\n",
      "[ 6 15 24]\n",
      "1\n",
      "[1 2 3]\n",
      "[1 4 7]\n",
      "9\n",
      "[7 8 9]\n",
      "[3 6 9]\n",
      "[ 1  3  6 10 15 21 28 36 45]\n",
      "[[ 1  2  3]\n",
      " [ 5  7  9]\n",
      " [12 15 18]]\n",
      "[[ 1  3  6]\n",
      " [ 4  9 15]\n",
      " [ 7 15 24]]\n"
     ]
    }
   ],
   "source": [
    "#examples of unary operations.\n",
    "import numpy as np\n",
    "a = np.array([[1,2, 3], [4, 5, 6], [7, 8, 9]])\n",
    "print(a.sum())\n",
    "print(a.sum(axis = 0))\n",
    "print(a.sum(axis = 1))\n",
    "print(a.min())\n",
    "print(a.min(axis = 0))\n",
    "print(a.min(axis = 1))\n",
    "print(a.max())\n",
    "print(a.max(axis = 0))\n",
    "print(a.max(axis = 1))\n",
    "print(a.cumsum())\n",
    "print(a.cumsum(axis = 0))\n",
    "print(a.cumsum(axis = 1))"
   ]
  },
  {
   "cell_type": "code",
   "execution_count": 3,
   "metadata": {},
   "outputs": [
    {
     "name": "stdout",
     "output_type": "stream",
     "text": [
      "[[ 3  7]\n",
      " [10  6]]\n",
      "[[-1 -1]\n",
      " [-6  4]]\n",
      "[[26  7]\n",
      " [44 13]]\n"
     ]
    }
   ],
   "source": [
    "#examples for binary operations.\n",
    "import numpy as np\n",
    "a = np.array([[1, 3], [2, 5]])\n",
    "b = np.array([[2, 4], [8, 1]])\n",
    "print(a+b)\n",
    "print(a-b)\n",
    "print(a.dot(b))"
   ]
  },
  {
   "cell_type": "code",
   "execution_count": 6,
   "metadata": {},
   "outputs": [
    {
     "name": "stdout",
     "output_type": "stream",
     "text": [
      "[0.0000000e+00 1.0000000e+00 1.2246468e-16]\n",
      "[ 1.000000e+00  6.123234e-17 -1.000000e+00]\n",
      "[ 1.          4.81047738 23.14069263]\n",
      "[0.         1.25331414 1.77245385]\n"
     ]
    }
   ],
   "source": [
    "#examples demonstrating the universal functions.\n",
    "import numpy as np\n",
    "a = np.array([0, np.pi/2, np.pi])\n",
    "print(np.sin(a))\n",
    "print(np.cos(a))\n",
    "print(np.exp(a))\n",
    "print(np.sqrt(a))"
   ]
  },
  {
   "cell_type": "code",
   "execution_count": 9,
   "metadata": {},
   "outputs": [
    {
     "name": "stdout",
     "output_type": "stream",
     "text": [
      "[[ 0 -1  2]\n",
      " [ 1  2  5]\n",
      " [ 4  4  6]]\n",
      "[[ 1  2  4]\n",
      " [ 2  4  6]\n",
      " [-1  0  5]]\n",
      "[[ 1  2  4]\n",
      " [ 2  4  6]\n",
      " [-1  0  5]]\n"
     ]
    }
   ],
   "source": [
    "#example for sorting a numpy array.\n",
    "import numpy as np\n",
    "a = np.array([[1, 4, 2], [4, 2, 6], [0, -1, 5]])\n",
    "print(np.sort(a, axis = 0))\n",
    "print(np.sort(a))\n",
    "print(np.sort(a, axis = 1, kind = 'mergesort'))\n"
   ]
  },
  {
   "cell_type": "code",
   "execution_count": 6,
   "metadata": {},
   "outputs": [
    {
     "name": "stdout",
     "output_type": "stream",
     "text": [
      "[[1 2]\n",
      " [3 4]\n",
      " [2 4]\n",
      " [1 3]]\n",
      "[[1 2 2 4]\n",
      " [3 4 1 3]]\n",
      "[[1 2 5]\n",
      " [3 4 6]]\n",
      "[[1 2]\n",
      " [3 4]\n",
      " [2 4]\n",
      " [1 3]]\n"
     ]
    }
   ],
   "source": [
    "#few advanced numpy methods.\n",
    "#1.Stacking.\n",
    "import numpy as np\n",
    "a = np.array([[1, 2], [3, 4]])\n",
    "b = np.array([[2, 4], [1, 3]])\n",
    "print(np.vstack((a, b)))\n",
    "print(np.hstack((a, b)))\n",
    "c = [5, 6]\n",
    "print(np.column_stack((a, c)))\n",
    "print(np.concatenate((a, b), 0))"
   ]
  },
  {
   "cell_type": "code",
   "execution_count": 16,
   "metadata": {},
   "outputs": [
    {
     "name": "stdout",
     "output_type": "stream",
     "text": [
      "[array([[1, 3],\n",
      "       [2, 4]]), array([[5, 7],\n",
      "       [6, 8]]), array([[ 9, 11],\n",
      "       [10, 12]])]\n",
      "[array([[ 1,  3,  5,  7,  9, 11]]), array([[ 2,  4,  6,  8, 10, 12]])]\n"
     ]
    }
   ],
   "source": [
    "#2.splitting.\n",
    "import numpy as np\n",
    "a = np.array([[1, 3, 5, 7, 9, 11],\n",
    "             [2, 4, 6, 8, 10, 12]])\n",
    "print(np.hsplit(a, 3))\n",
    "print(np.vsplit(a, 2))"
   ]
  },
  {
   "cell_type": "code",
   "execution_count": 22,
   "metadata": {},
   "outputs": [
    {
     "name": "stdout",
     "output_type": "stream",
     "text": [
      "[[2. 4. 6.]]\n",
      "[[2. 4. 6.]]\n",
      "[[ 0.  1.  2.]\n",
      " [10. 11. 12.]\n",
      " [20. 21. 22.]\n",
      " [30. 31. 32.]]\n"
     ]
    }
   ],
   "source": [
    "#3.broadcasting.\n",
    "import numpy as np\n",
    "a = np.array([[1.0, 2.0, 3.0]])\n",
    "b = 2.0\n",
    "print(a*b)\n",
    "c = np.array([[2, 2, 2]], dtype = float)\n",
    "print(a*c)\n",
    "#example2.\n",
    "import numpy as np \n",
    "  \n",
    "a = np.array([0.0, 10.0, 20.0, 30.0]) \n",
    "b = np.array([0.0, 1.0, 2.0]) \n",
    "  \n",
    "print(a[:, np.newaxis] + b)"
   ]
  },
  {
   "cell_type": "code",
   "execution_count": 36,
   "metadata": {},
   "outputs": [
    {
     "name": "stdout",
     "output_type": "stream",
     "text": [
      "2020-03-30\n",
      "2020\n",
      "2020-03\n",
      "2020-03-30\n",
      "['2020-03-01' '2020-03-02' '2020-03-03' '2020-03-04' '2020-03-05'\n",
      " '2020-03-06' '2020-03-07' '2020-03-08' '2020-03-09' '2020-03-10'\n",
      " '2020-03-11' '2020-03-12' '2020-03-13' '2020-03-14' '2020-03-15'\n",
      " '2020-03-16' '2020-03-17' '2020-03-18' '2020-03-19' '2020-03-20'\n",
      " '2020-03-21' '2020-03-22' '2020-03-23' '2020-03-24' '2020-03-25'\n",
      " '2020-03-26' '2020-03-27' '2020-03-28' '2020-03-29' '2020-03-30'\n",
      " '2020-03-31']\n",
      "True\n",
      "364 days\n",
      "52 weeks\n",
      "['2019-03-30' '2020-03-30' '2021-03-30']\n"
     ]
    }
   ],
   "source": [
    "#examples on datetime library in Numpy.\n",
    "import numpy as np\n",
    "today = np.datetime64('2020-03-30')\n",
    "print(today)\n",
    "print(np.datetime64(today, 'Y'))\n",
    "print(np.datetime64(today, 'M'))\n",
    "print(np.datetime64(today, 'D'))\n",
    "dates = np.arange('2020-03', '2020-04', dtype = 'datetime64[D]')\n",
    "print(dates)\n",
    "print(today in dates)\n",
    "dur = np.datetime64('2021-03-30') - np.datetime64('2020-03-31')\n",
    "print(dur)\n",
    "print(np.timedelta64(dur, 'W'))\n",
    "a = np.array(['2021-03-30', '2019-03-30', '2020-03-30'], dtype = 'datetime64')\n",
    "print(np.sort(a))"
   ]
  },
  {
   "cell_type": "code",
   "execution_count": 42,
   "metadata": {},
   "outputs": [
    {
     "name": "stdout",
     "output_type": "stream",
     "text": [
      "3\n",
      "11\n",
      "-306.0\n",
      "[[ 0.17647059 -0.00326797 -0.02287582]\n",
      " [ 0.05882353 -0.13071895  0.08496732]\n",
      " [-0.11764706  0.1503268   0.05228758]]\n",
      "[[42 12 18]\n",
      " [26 48 29]\n",
      " [58 42 91]]\n"
     ]
    }
   ],
   "source": [
    "#linear algebra in Numpy.\n",
    "import numpy as np\n",
    "a = np.array([[6, 1, 1], \n",
    "             [4, -2, 5],\n",
    "             [2, 8, 7]])\n",
    "print(np.linalg.matrix_rank(a))\n",
    "print(np.trace(a))\n",
    "print(np.linalg.det(a))\n",
    "print(np.linalg.inv(a))\n",
    "print(np.linalg.matrix_power(a, 2))"
   ]
  },
  {
   "cell_type": "code",
   "execution_count": 43,
   "metadata": {},
   "outputs": [
    {
     "name": "stdout",
     "output_type": "stream",
     "text": [
      "[2. 3.]\n"
     ]
    }
   ],
   "source": [
    "#example.\n",
    "import numpy as np\n",
    "a = np.array([[1, 2], [3, 4]])\n",
    "b = np.array([8, 18])\n",
    "print(np.linalg.solve(a, b))"
   ]
  },
  {
   "cell_type": "markdown",
   "metadata": {},
   "source": [
    "# Regular expressions in python."
   ]
  },
  {
   "cell_type": "markdown",
   "metadata": {},
   "source": [
    "1.compile(): Regular expressions are compiled into pattern objects, which have methods for various operations such as searching for pattern matches or performing string substitutions."
   ]
  },
  {
   "cell_type": "code",
   "execution_count": 7,
   "metadata": {},
   "outputs": [
    {
     "name": "stdout",
     "output_type": "stream",
     "text": [
      "['e', 'd', 'e', 'c', 'e']\n"
     ]
    }
   ],
   "source": [
    "import re\n",
    "p = re.compile('[a-e]') #Note: Case sensitive.\n",
    "print(p.findall('Hello World! Welcome to Python'))"
   ]
  },
  {
   "cell_type": "code",
   "execution_count": 9,
   "metadata": {},
   "outputs": [
    {
     "name": "stdout",
     "output_type": "stream",
     "text": [
      "['8', '2', '8', '2', '0', '2', '0']\n",
      "['8', '28', '2020']\n"
     ]
    }
   ],
   "source": [
    "import re\n",
    "p = re.compile('\\d')\n",
    "print(p.findall('I went to him at 8 P.M on 28th march 2020'))\n",
    "a = re.compile('\\d+')\n",
    "print(a.findall('I went to him at 8 P.M on 28th march 2020'))"
   ]
  },
  {
   "cell_type": "code",
   "execution_count": 12,
   "metadata": {},
   "outputs": [
    {
     "name": "stdout",
     "output_type": "stream",
     "text": [
      "['H', 'e', 's', 'a', 'i', 'd', 'i', 'n', 's', 'o', 'm', 'e', '_', 'l', 'a', 'n', 'g']\n",
      "['I', 'went', 'to', 'him', 'at', '11', 'A', 'M', 'he', 'said', 'in', 'some_language']\n",
      "[' ', ' ', ' ', ' ', ' ', ' ', '.', '., ', ' ', ' *** ', ' ', '.']\n"
     ]
    }
   ],
   "source": [
    "import re\n",
    "b = re.compile('\\w')\n",
    "print(b.findall('He said * in some_lang'))\n",
    "c = re.compile('\\w+')\n",
    "print(c.findall('I went to him at 11 A.M., he said *** in some_language.'))\n",
    "s = re.compile('\\W+')\n",
    "print(s.findall('I went to him at 11 A.M., he said *** in some_language.'))"
   ]
  },
  {
   "cell_type": "code",
   "execution_count": 13,
   "metadata": {},
   "outputs": [
    {
     "name": "stdout",
     "output_type": "stream",
     "text": [
      "['ab', 'ab', 'abbb', 'abb', 'ab']\n"
     ]
    }
   ],
   "source": [
    "import re\n",
    "# '*' replaces the no. of occurrence of a character. \n",
    "d = re.compile('ab*')\n",
    "print(d.findall('abababbbabbab'))"
   ]
  },
  {
   "cell_type": "code",
   "execution_count": 3,
   "metadata": {},
   "outputs": [
    {
     "name": "stdout",
     "output_type": "stream",
     "text": [
      "['Words', 'words', 'Words']\n",
      "['Word', 's', 'words', 'Words']\n",
      "['On', '15th', 'August', '1947', 'at', '12', '00', 'A', 'M']\n",
      "['On ', 'th August ', ', at ', ':', ' A.M']\n",
      "['On ', 'th August 1947, at 12:00 A.M']\n",
      "['', 'y, ', 'oy oh ', 'oy, ', 'om', ' h', 'r', '']\n",
      "['A', 'y, Boy oh ', 'oy, ', 'om', ' h', 'r', '']\n"
     ]
    }
   ],
   "source": [
    "from re import split\n",
    "import re\n",
    "print(split('\\W+', 'Words, words, Words'))\n",
    "print(split('\\W+', \"Word's, words, Words\"))\n",
    "print(split('\\W+', 'On 15th August 1947, at 12:00 A.M'))\n",
    "print(split('\\d+', 'On 15th August 1947, at 12:00 A.M'))\n",
    "print(split('\\d+', 'On 15th August 1947, at 12:00 A.M', 1))\n",
    "print(split('[a-f]+', 'Aey, Boy oh boy, come here', flags = re.IGNORECASE))\n",
    "print(split('[a-f]+', 'Aey, Boy oh boy, come here'))"
   ]
  },
  {
   "cell_type": "code",
   "execution_count": 8,
   "metadata": {},
   "outputs": [
    {
     "name": "stdout",
     "output_type": "stream",
     "text": [
      "S~*ject has ~*er booked already\n",
      "S~*ject has Uber booked already\n",
      "S~*ject has Uber booked already\n",
      "Baked Beans & Spam\n"
     ]
    }
   ],
   "source": [
    "import re\n",
    "print(re.sub('ub', '~*', 'Subject has Uber booked already', flags = re.IGNORECASE))\n",
    "print(re.sub('ub', '~*', 'Subject has Uber booked already'))\n",
    "print(re.sub('ub', '~*', 'Subject has Uber booked already', count = 1, flags = re.IGNORECASE))\n",
    "print(re.sub(r'\\sAND\\s', ' & ', 'Baked Beans And Spam', flags = re.IGNORECASE))"
   ]
  },
  {
   "cell_type": "code",
   "execution_count": 14,
   "metadata": {},
   "outputs": [
    {
     "name": "stdout",
     "output_type": "stream",
     "text": [
      "('S~*ject has Uber booked already', 1)\n",
      "('S~*ject has ~*er booked already', 2)\n",
      "2\n",
      "S~*ject has ~*er booked already\n"
     ]
    }
   ],
   "source": [
    "import re\n",
    "print(re.subn('ub', '~*', 'Subject has Uber booked already'))\n",
    "t = re.subn('ub', '~*', 'Subject has Uber booked already', flags = re.IGNORECASE)\n",
    "print(t)\n",
    "print(len(t))\n",
    "print(t[0])"
   ]
  },
  {
   "cell_type": "code",
   "execution_count": 17,
   "metadata": {},
   "outputs": [
    {
     "name": "stdout",
     "output_type": "stream",
     "text": [
      "This\\ is\\ Awseome\\ even\\ 1\\ AM\n",
      "I\\ Asked\\ what\\ is\\ this\\ \\[a\\-9\\],\\ he\\ said\\ \\^WoW\n"
     ]
    }
   ],
   "source": [
    "import re\n",
    "print(re.escape(\"This is Awseome even 1 AM\"))\n",
    "print(re.escape(\"I Asked what is this [a-9], he said ^WoW\"))"
   ]
  },
  {
   "cell_type": "code",
   "execution_count": 26,
   "metadata": {},
   "outputs": [
    {
     "name": "stdout",
     "output_type": "stream",
     "text": [
      "14 23\n",
      "August 15\n",
      "August\n",
      "15\n"
     ]
    }
   ],
   "source": [
    "import re\n",
    "regex = r'([a-zA-Z]+) (\\d+)'\n",
    "match = re.search(regex, 'I was born on August 15')\n",
    "if(match != None):\n",
    "    print(match.start(), match.end())\n",
    "    print(match.group(0))\n",
    "    print(match.group(1))\n",
    "    print(match.group(2))\n",
    "else:\n",
    "    print('The regex pattern do not exist')"
   ]
  },
  {
   "cell_type": "code",
   "execution_count": 3,
   "metadata": {},
   "outputs": [
    {
     "name": "stdout",
     "output_type": "stream",
     "text": [
      "August 15\n",
      "August\n",
      "15\n",
      "\n",
      "Entered date is Invalid\n"
     ]
    }
   ],
   "source": [
    "import re\n",
    "def fn(string):\n",
    "    regex = '([a-zA-z]+) (\\d+)'\n",
    "    match = re.match(regex, string)\n",
    "    if(match == None):\n",
    "        print('Entered date is Invalid')\n",
    "        return\n",
    "    print(match.group())\n",
    "    print(match.group(1))\n",
    "    print(match.group(2))\n",
    "fn('August 15')\n",
    "print('')\n",
    "fn('I was born on 15th August')"
   ]
  },
  {
   "cell_type": "code",
   "execution_count": 4,
   "metadata": {},
   "outputs": [
    {
     "name": "stdout",
     "output_type": "stream",
     "text": [
      "['123456']\n"
     ]
    }
   ],
   "source": [
    "import re\n",
    "string = 'Hey my number is 123456'\n",
    "regex = '\\d+'\n",
    "match = re.findall(regex, string)\n",
    "print(match)"
   ]
  },
  {
   "cell_type": "markdown",
   "metadata": {},
   "source": [
    "# OS Module in Python."
   ]
  },
  {
   "cell_type": "code",
   "execution_count": 5,
   "metadata": {},
   "outputs": [
    {
     "name": "stdout",
     "output_type": "stream",
     "text": [
      "nt\n"
     ]
    }
   ],
   "source": [
    "import os\n",
    "print(os.name)"
   ]
  },
  {
   "cell_type": "code",
   "execution_count": 12,
   "metadata": {},
   "outputs": [
    {
     "name": "stdout",
     "output_type": "stream",
     "text": [
      "C:\\Users\\RAGHAVENDRA\\Desktop\n",
      "C:\\Users\\RAGHAVENDRA\\Desktop\n"
     ]
    }
   ],
   "source": [
    "import os\n",
    "print(os.getcwd())\n",
    "print(os.path.abspath('.'))\n",
    "#print(os.listdir())"
   ]
  },
  {
   "cell_type": "code",
   "execution_count": 2,
   "metadata": {},
   "outputs": [],
   "source": [
    "import os\n",
    "try:\n",
    "    filename = 'Ragh.txt'\n",
    "    f = open(filename)\n",
    "    text = f.read()\n",
    "    f.close()\n",
    "except IOError:\n",
    "    print(filename)"
   ]
  },
  {
   "cell_type": "code",
   "execution_count": 6,
   "metadata": {},
   "outputs": [
    {
     "name": "stdout",
     "output_type": "stream",
     "text": [
      "Hello\n"
     ]
    },
    {
     "data": {
      "text/plain": [
       "42"
      ]
     },
     "execution_count": 6,
     "metadata": {},
     "output_type": "execute_result"
    }
   ],
   "source": [
    "import os \n",
    "fd = 'Ragh.txt'\n",
    "file = open(fd, 'w')\n",
    "file.write('Hello')\n",
    "file.close()\n",
    "file = open(fd, 'r')\n",
    "text = file.read()\n",
    "print(text)\n",
    "file = os.popen(fd, 'w')\n",
    "file.write('Hello World! Welcome to python programming')"
   ]
  },
  {
   "cell_type": "code",
   "execution_count": 7,
   "metadata": {},
   "outputs": [
    {
     "ename": "TypeError",
     "evalue": "expected str, bytes or os.PathLike object, not _wrap_close",
     "output_type": "error",
     "traceback": [
      "\u001b[1;31m---------------------------------------------------------------------------\u001b[0m",
      "\u001b[1;31mTypeError\u001b[0m                                 Traceback (most recent call last)",
      "\u001b[1;32m<ipython-input-7-e6285a15684c>\u001b[0m in \u001b[0;36m<module>\u001b[1;34m\u001b[0m\n\u001b[0;32m      1\u001b[0m \u001b[1;32mimport\u001b[0m \u001b[0mos\u001b[0m\u001b[1;33m\u001b[0m\u001b[1;33m\u001b[0m\u001b[0m\n\u001b[0;32m      2\u001b[0m \u001b[0mfd\u001b[0m \u001b[1;33m=\u001b[0m \u001b[1;34m'Ragh.txt'\u001b[0m\u001b[1;33m\u001b[0m\u001b[1;33m\u001b[0m\u001b[0m\n\u001b[1;32m----> 3\u001b[1;33m \u001b[0mfile\u001b[0m \u001b[1;33m=\u001b[0m \u001b[0mopen\u001b[0m\u001b[1;33m(\u001b[0m\u001b[0mfile\u001b[0m\u001b[1;33m,\u001b[0m \u001b[1;34m'r'\u001b[0m\u001b[1;33m)\u001b[0m\u001b[1;33m\u001b[0m\u001b[1;33m\u001b[0m\u001b[0m\n\u001b[0m\u001b[0;32m      4\u001b[0m \u001b[0mtext\u001b[0m \u001b[1;33m=\u001b[0m \u001b[0mfile\u001b[0m\u001b[1;33m.\u001b[0m\u001b[0mread\u001b[0m\u001b[1;33m(\u001b[0m\u001b[1;33m)\u001b[0m\u001b[1;33m\u001b[0m\u001b[1;33m\u001b[0m\u001b[0m\n\u001b[0;32m      5\u001b[0m \u001b[0mprint\u001b[0m\u001b[1;33m(\u001b[0m\u001b[0mtext\u001b[0m\u001b[1;33m)\u001b[0m\u001b[1;33m\u001b[0m\u001b[1;33m\u001b[0m\u001b[0m\n",
      "\u001b[1;31mTypeError\u001b[0m: expected str, bytes or os.PathLike object, not _wrap_close"
     ]
    }
   ],
   "source": [
    "import os\n",
    "fd = 'Ragh.txt'\n",
    "file = open(file, 'r')\n",
    "text = file.read()\n",
    "print(text)\n",
    "os.close()"
   ]
  },
  {
   "cell_type": "code",
   "execution_count": 8,
   "metadata": {},
   "outputs": [
    {
     "ename": "FileNotFoundError",
     "evalue": "[WinError 2] The system cannot find the file specified: 'Ragh.txt' -> 'New.txt'",
     "output_type": "error",
     "traceback": [
      "\u001b[1;31m---------------------------------------------------------------------------\u001b[0m",
      "\u001b[1;31mFileNotFoundError\u001b[0m                         Traceback (most recent call last)",
      "\u001b[1;32m<ipython-input-8-f80786d1940d>\u001b[0m in \u001b[0;36m<module>\u001b[1;34m\u001b[0m\n\u001b[0;32m      1\u001b[0m \u001b[1;32mimport\u001b[0m \u001b[0mos\u001b[0m\u001b[1;33m\u001b[0m\u001b[1;33m\u001b[0m\u001b[0m\n\u001b[0;32m      2\u001b[0m \u001b[0mos\u001b[0m\u001b[1;33m.\u001b[0m\u001b[0mrename\u001b[0m\u001b[1;33m(\u001b[0m\u001b[0mfd\u001b[0m\u001b[1;33m,\u001b[0m \u001b[1;34m'New.txt'\u001b[0m\u001b[1;33m)\u001b[0m\u001b[1;33m\u001b[0m\u001b[1;33m\u001b[0m\u001b[0m\n\u001b[1;32m----> 3\u001b[1;33m \u001b[0mos\u001b[0m\u001b[1;33m.\u001b[0m\u001b[0mrename\u001b[0m\u001b[1;33m(\u001b[0m\u001b[0mfd\u001b[0m\u001b[1;33m,\u001b[0m \u001b[1;34m'New.txt'\u001b[0m\u001b[1;33m)\u001b[0m\u001b[1;33m\u001b[0m\u001b[1;33m\u001b[0m\u001b[0m\n\u001b[0m",
      "\u001b[1;31mFileNotFoundError\u001b[0m: [WinError 2] The system cannot find the file specified: 'Ragh.txt' -> 'New.txt'"
     ]
    }
   ],
   "source": [
    "import os\n",
    "os.rename(fd, 'New.txt')\n",
    "os.rename(fd, 'New.txt')"
   ]
  },
  {
   "cell_type": "markdown",
   "metadata": {},
   "source": [
    "# Copy in Python"
   ]
  },
  {
   "cell_type": "code",
   "execution_count": 3,
   "metadata": {},
   "outputs": [
    {
     "name": "stdout",
     "output_type": "stream",
     "text": [
      "[1, [2, 3], 4]\n",
      "[1, [2, 3], 4]\n"
     ]
    }
   ],
   "source": [
    "#example.\n",
    "import copy\n",
    "li = [1, [2, 3], 4]\n",
    "li1 = copy.copy(li) #returns shallow copy.\n",
    "print(li1)\n",
    "li2 = copy.deepcopy(li)#returns the deep copy.\n",
    "print(li2)"
   ]
  },
  {
   "cell_type": "code",
   "execution_count": 15,
   "metadata": {},
   "outputs": [
    {
     "name": "stdout",
     "output_type": "stream",
     "text": [
      "1 2 [3, 4] 5 \n",
      "1 2 [7, 4] 5 \n",
      "1 2 [3, 4] 5 "
     ]
    }
   ],
   "source": [
    "#example2.\n",
    "import copy\n",
    "li = [1, 2, [3, 4], 5]\n",
    "li1 = copy.deepcopy(li)\n",
    "for _ in range(0, len(li)):\n",
    "    print(li[_], end = ' ')\n",
    "print('\\r')\n",
    "li1[2][0] = 7\n",
    "for i in range(0, len(li1)):\n",
    "    print(li1[i], end = ' ')\n",
    "print('\\r')\n",
    "for j in range(0, len(li)):\n",
    "    print(li[j], end = ' ')"
   ]
  },
  {
   "cell_type": "code",
   "execution_count": 4,
   "metadata": {},
   "outputs": [
    {
     "name": "stdout",
     "output_type": "stream",
     "text": [
      "1 2 [3, 4] 5 \n",
      "1 2 [7, 4] 5 \n",
      "1 2 [7, 4] 5 "
     ]
    }
   ],
   "source": [
    "import copy\n",
    "li = [1, 2, [3, 4], 5]\n",
    "li1 = copy.copy(li)\n",
    "for _ in range(0, len(li)):\n",
    "    print(li[_], end = ' ')\n",
    "print('\\r')\n",
    "li[2][0] = 7\n",
    "for i in range(0, len(li1)):\n",
    "    print(li1[i], end = ' ')\n",
    "print('\\r')\n",
    "for j in range(0, len(li)):\n",
    "    print(li[j], end = ' ')"
   ]
  },
  {
   "cell_type": "markdown",
   "metadata": {},
   "source": [
    "# Import module in Python."
   ]
  },
  {
   "cell_type": "code",
   "execution_count": 5,
   "metadata": {},
   "outputs": [
    {
     "name": "stdout",
     "output_type": "stream",
     "text": [
      "3.141592653589793\n"
     ]
    }
   ],
   "source": [
    "import math\n",
    "print(math.pi)"
   ]
  },
  {
   "cell_type": "code",
   "execution_count": 6,
   "metadata": {},
   "outputs": [
    {
     "name": "stdout",
     "output_type": "stream",
     "text": [
      "3.141592653589793\n"
     ]
    }
   ],
   "source": [
    "from math import pi\n",
    "print(pi)"
   ]
  },
  {
   "cell_type": "code",
   "execution_count": 10,
   "metadata": {},
   "outputs": [
    {
     "name": "stdout",
     "output_type": "stream",
     "text": [
      "3.141592653589793\n",
      "120\n"
     ]
    }
   ],
   "source": [
    "from math import *\n",
    "print(pi)\n",
    "print(factorial(5))"
   ]
  },
  {
   "cell_type": "code",
   "execution_count": 11,
   "metadata": {},
   "outputs": [
    {
     "ename": "ModuleNotFoundError",
     "evalue": "No module named 'mathematics'",
     "output_type": "error",
     "traceback": [
      "\u001b[1;31m---------------------------------------------------------------------------\u001b[0m",
      "\u001b[1;31mModuleNotFoundError\u001b[0m                       Traceback (most recent call last)",
      "\u001b[1;32m<ipython-input-11-60797bd0a98e>\u001b[0m in \u001b[0;36m<module>\u001b[1;34m\u001b[0m\n\u001b[1;32m----> 1\u001b[1;33m \u001b[1;32mimport\u001b[0m \u001b[0mmathematics\u001b[0m\u001b[1;33m\u001b[0m\u001b[1;33m\u001b[0m\u001b[0m\n\u001b[0m\u001b[0;32m      2\u001b[0m \u001b[0mprint\u001b[0m\u001b[1;33m(\u001b[0m\u001b[0mmathematics\u001b[0m\u001b[1;33m.\u001b[0m\u001b[0mpi\u001b[0m\u001b[1;33m)\u001b[0m\u001b[1;33m\u001b[0m\u001b[1;33m\u001b[0m\u001b[0m\n",
      "\u001b[1;31mModuleNotFoundError\u001b[0m: No module named 'mathematics'"
     ]
    }
   ],
   "source": [
    "import mathematics\n",
    "print(mathematics.pi)"
   ]
  },
  {
   "cell_type": "markdown",
   "metadata": {},
   "source": [
    "# Collection Module in Python."
   ]
  },
  {
   "cell_type": "markdown",
   "metadata": {},
   "source": [
    "1. Double ended que(deque): Deque can be implemented in python using the module “collections“. Deque is preferred over list in the cases where we need quicker append and pop operations from both the ends of container, as deque provides an O(1) time complexity for append and pop operations as compared to list which provides O(n) time complexity."
   ]
  },
  {
   "cell_type": "code",
   "execution_count": 6,
   "metadata": {},
   "outputs": [
    {
     "name": "stdout",
     "output_type": "stream",
     "text": [
      "deque([1, 2, 3, 4])\n",
      "deque([0, 1, 2, 3, 4])\n",
      "deque([0, 1, 2, 3])\n",
      "deque([1, 2, 3])\n"
     ]
    }
   ],
   "source": [
    "#Deque methods.\n",
    "import collections\n",
    "de = collections.deque([1, 2, 3])\n",
    "de.append(4)\n",
    "print(de)\n",
    "de.appendleft(0)\n",
    "print(de)\n",
    "de.pop()\n",
    "print(de)\n",
    "de.popleft()\n",
    "print(de)"
   ]
  },
  {
   "cell_type": "code",
   "execution_count": 14,
   "metadata": {},
   "outputs": [
    {
     "name": "stdout",
     "output_type": "stream",
     "text": [
      "4\n",
      "deque([1, 2, 3, 3, 3, 4, 2, 4])\n",
      "3\n",
      "deque([1, 2, 3, 3, 4, 2, 4])\n"
     ]
    }
   ],
   "source": [
    "import collections\n",
    "de = collections.deque([1, 2, 3, 3, 4, 2, 4])\n",
    "print(de.index(4,2,5))\n",
    "de.insert(4, 3)\n",
    "print(de)\n",
    "print(de.count(3))\n",
    "de.remove(3)\n",
    "print(de)"
   ]
  },
  {
   "cell_type": "code",
   "execution_count": 18,
   "metadata": {},
   "outputs": [
    {
     "name": "stdout",
     "output_type": "stream",
     "text": [
      "deque([1, 2, 3, 4, 5, 6])\n",
      "deque([9, 8, 7, 1, 2, 3, 4, 5, 6])\n",
      "deque([1, 2, 3, 4, 5, 6, 9, 8, 7])\n",
      "deque([7, 8, 9, 6, 5, 4, 3, 2, 1])\n"
     ]
    }
   ],
   "source": [
    "import collections\n",
    "de = collections.deque([1, 2, 3])\n",
    "de.extend([4, 5, 6])\n",
    "print(de)\n",
    "de.extendleft([7, 8 ,9])\n",
    "print(de)\n",
    "de.rotate(-3)\n",
    "print(de)\n",
    "de.reverse()\n",
    "print(de)"
   ]
  },
  {
   "cell_type": "markdown",
   "metadata": {},
   "source": [
    "2.Namedtuples(): Python supports a type of container like dictionaries called “namedtuples()” present in module, “collections“. Like dictionaries they contain keys that are hashed to a particular value. But on contrary, it supports both access from key value and iteration, the functionality that dictionaries lack."
   ]
  },
  {
   "cell_type": "code",
   "execution_count": 22,
   "metadata": {},
   "outputs": [
    {
     "name": "stdout",
     "output_type": "stream",
     "text": [
      "20\n",
      "Ragh\n",
      "654546\n"
     ]
    }
   ],
   "source": [
    "#1.access operations.\n",
    "import collections\n",
    "Student = collections.namedtuple('Student', ['name', 'age', 'DOB'])\n",
    "S = Student('Ragh', '20', '654546')\n",
    "print(S[1])\n",
    "print(S.name)\n",
    "print(getattr(S, 'DOB'))"
   ]
  },
  {
   "cell_type": "code",
   "execution_count": 29,
   "metadata": {},
   "outputs": [
    {
     "name": "stdout",
     "output_type": "stream",
     "text": [
      "Student(name='Virat', age='31', DOB='05-11-1989')\n",
      "{'name': 'Ragh', 'age': '20', 'DOB': '468748'}\n",
      "Student(name='ABde', age='35', DOB='17-02-1985')\n"
     ]
    }
   ],
   "source": [
    "#2.conversion operations.\n",
    "import collections\n",
    "student = collections.namedtuple('Student', ('name', 'age', 'DOB'))\n",
    "S = student('Ragh', '20', '468748')\n",
    "li = ['Virat', '31', '05-11-1989']\n",
    "di = {'name' : 'ABde', 'age' : '35', 'DOB' : '17-02-1985'}\n",
    "print(student._make(li)) #converting list iterable to namedtuple.\n",
    "print(S._asdict())       #converting namedtuple into dictionary.\n",
    "print(student(**di))     #converting dictionary into namedtuple."
   ]
  },
  {
   "cell_type": "code",
   "execution_count": 32,
   "metadata": {},
   "outputs": [
    {
     "name": "stdout",
     "output_type": "stream",
     "text": [
      "('name', 'age', 'DOB')\n",
      "Student(name='Raghu', age='20', DOB='74547')\n"
     ]
    }
   ],
   "source": [
    "#3.additional operations.\n",
    "import collections\n",
    "student = collections.namedtuple('Student', ['name', 'age', 'DOB'])\n",
    "s = student('Ragh', '20', '74547')\n",
    "print(s._fields)\n",
    "print(s._replace(name = 'Raghu'))"
   ]
  },
  {
   "cell_type": "markdown",
   "metadata": {},
   "source": [
    "3.Heap queue in python: In Python, it is available using “heapq” module. The property of this data structure in python is that each time the smallest of heap element is popped(min heap). Whenever elements are pushed or popped, heap structure in maintained. The heap[0] element also returns the smallest element each time."
   ]
  },
  {
   "cell_type": "markdown",
   "metadata": {},
   "source": [
    "__Operations on Heap__"
   ]
  },
  {
   "cell_type": "code",
   "execution_count": 10,
   "metadata": {},
   "outputs": [
    {
     "name": "stdout",
     "output_type": "stream",
     "text": [
      "[1, 3, 9, 7, 5]\n",
      "[1, 3, 4, 7, 5, 9]\n",
      "1\n"
     ]
    }
   ],
   "source": [
    "import heapq\n",
    "li = [5, 7, 9, 1, 3]\n",
    "heapq.heapify(li)\n",
    "print(list(li))\n",
    "heapq.heappush(li, 4)\n",
    "print(list(li))\n",
    "print(heapq.heappop(li))"
   ]
  },
  {
   "cell_type": "code",
   "execution_count": 12,
   "metadata": {},
   "outputs": [
    {
     "name": "stdout",
     "output_type": "stream",
     "text": [
      "2\n",
      "3\n"
     ]
    }
   ],
   "source": [
    "import heapq\n",
    "li1 = [5, 7, 9, 4, 3]\n",
    "li2 = [5, 7, 9, 4, 3]\n",
    "heapq.heapify(li1)\n",
    "heapq.heapify(li2)\n",
    "print(heapq.heappushpop(li1, 2))\n",
    "print(heapq.heapreplace(li2, 2))"
   ]
  },
  {
   "cell_type": "code",
   "execution_count": 14,
   "metadata": {},
   "outputs": [
    {
     "name": "stdout",
     "output_type": "stream",
     "text": [
      "[10, 9, 8]\n",
      "[1, 3, 4]\n"
     ]
    }
   ],
   "source": [
    "import heapq\n",
    "li1 = [6, 7, 9, 4, 3, 5, 8, 10, 1]\n",
    "heapq.heapify(li1)\n",
    "print(heapq.nlargest(3, li1))\n",
    "print(heapq.nsmallest(3, li1))"
   ]
  },
  {
   "cell_type": "markdown",
   "metadata": {},
   "source": [
    "# Enum in Python."
   ]
  },
  {
   "cell_type": "markdown",
   "metadata": {},
   "source": [
    "Enumerations in Python are implemented by using the module named “enum“.Enumerations are created using classes. Enums have names and values associated with them"
   ]
  },
  {
   "cell_type": "code",
   "execution_count": 6,
   "metadata": {},
   "outputs": [
    {
     "name": "stdout",
     "output_type": "stream",
     "text": [
      "Animal.dog\n",
      "<enum 'Animal'>\n",
      "<Animal.dog: 5>\n",
      "dog\n"
     ]
    }
   ],
   "source": [
    "#example.\n",
    "import enum\n",
    "class Animal(enum.Enum):\n",
    "    dog = 5\n",
    "    cat = 2\n",
    "    lion = 3\n",
    "print(Animal.dog)\n",
    "print(type(Animal.dog))\n",
    "print(repr(Animal.dog))\n",
    "print(Animal.dog.name)"
   ]
  },
  {
   "cell_type": "code",
   "execution_count": 8,
   "metadata": {},
   "outputs": [
    {
     "name": "stdout",
     "output_type": "stream",
     "text": [
      "Animal.dog\n",
      "Animal.cat\n",
      "Animal.lion\n",
      "Hashed\n"
     ]
    }
   ],
   "source": [
    "#example2.\n",
    "import enum\n",
    "class Animal(enum.Enum):\n",
    "    dog = 1\n",
    "    cat = 2\n",
    "    lion = 3\n",
    "for _ in Animal: #enum can be iterated.\n",
    "    print(_)\n",
    "d = dict()   #enum can be hashed.\n",
    "d[Animal.dog] = 'bark'\n",
    "d[Animal.lion] = 'roar'\n",
    "if d == {Animal.dog : 'bark', Animal.lion : 'roar'}:\n",
    "    print('Hashed')\n",
    "else:\n",
    "    print('Unhashed')"
   ]
  },
  {
   "cell_type": "code",
   "execution_count": 12,
   "metadata": {},
   "outputs": [
    {
     "name": "stdout",
     "output_type": "stream",
     "text": [
      "Animal.cat\n",
      "Animal.lion\n",
      "1\n",
      "dog\n"
     ]
    }
   ],
   "source": [
    "#example3(Accessing modes).\n",
    "import enum\n",
    "class Animal(enum.Enum):\n",
    "    dog = 1\n",
    "    cat = 2\n",
    "    lion = 3\n",
    "print(Animal(2))\n",
    "print(Animal['lion'])\n",
    "mem = Animal.dog\n",
    "print(mem.value)\n",
    "print(mem.name)"
   ]
  },
  {
   "cell_type": "code",
   "execution_count": 14,
   "metadata": {},
   "outputs": [
    {
     "name": "stdout",
     "output_type": "stream",
     "text": [
      "Cat and dog are not same\n",
      "Lion and cat are not same\n"
     ]
    }
   ],
   "source": [
    "#example4(Comparisons).\n",
    "import enum\n",
    "class Animal(enum.Enum):\n",
    "    dog = 1\n",
    "    cat = 2\n",
    "    lion = 3\n",
    "if(Animal.dog is Animal.cat):\n",
    "    print('Cat and dog are same')\n",
    "else:\n",
    "    print('Cat and dog are not same')\n",
    "if(Animal.lion != Animal.cat):\n",
    "    print('Lion and cat are not same')\n",
    "else:\n",
    "    print('Lion and cats are same')"
   ]
  },
  {
   "cell_type": "markdown",
   "metadata": {},
   "source": [
    "# Theano in Python."
   ]
  },
  {
   "cell_type": "markdown",
   "metadata": {},
   "source": [
    "Theano is a Python library that allows us to evaluate mathematical operations including multi-dimensional arrays so efficiently. It is mostly used in building Deep Learning Projects. It works a way more faster on Graphics Processing Unit (GPU) rather than on CPU. Theano attains high speeds that gives a tough competition to C implementations for problems involving large amounts of data. It can take advantage of GPUs which makes it perform better than C on a CPU by considerable orders of magnitude under some certain circumstances.\n",
    "It knows how to take structures and convert them into very efficient code that uses numpy and some native libraries.It is mainly designed to handle the types of computation required for large neural network algorithms used in Deep Learning. That is why, it is a very popular library in the field of Deep Learning."
   ]
  },
  {
   "cell_type": "code",
   "execution_count": null,
   "metadata": {},
   "outputs": [
    {
     "name": "stderr",
     "output_type": "stream",
     "text": [
      "WARNING (theano.configdefaults): g++ not available, if using conda: `conda install m2w64-toolchain`\n",
      "c:\\users\\raghavendra\\appdata\\local\\programs\\python\\python38\\lib\\site-packages\\theano\\configdefaults.py:560: UserWarning: DeprecationWarning: there is no c++ compiler.This is deprecated and with Theano 0.11 a c++ compiler will be mandatory\n",
      "  warnings.warn(\"DeprecationWarning: there is no c++ compiler.\"\n",
      "WARNING (theano.configdefaults): g++ not detected ! Theano will be unable to execute optimized C-implementations (for both CPU and GPU) and will default to Python implementations. Performance will be severely degraded. To remove this warning, set Theano flags cxx to an empty string.\n"
     ]
    }
   ],
   "source": [
    "import theano\n",
    "from theano import tensor\n",
    "a = tensor.dscalar()\n",
    "b = tensor.dscalar()\n",
    "res = a-b\n",
    "func = theano.function([a, b], res)\n",
    "assert 20.0 == func(30.5, 10.5)"
   ]
  },
  {
   "cell_type": "code",
   "execution_count": 1,
   "metadata": {},
   "outputs": [
    {
     "name": "stderr",
     "output_type": "stream",
     "text": [
      "WARNING (theano.configdefaults): g++ not available, if using conda: `conda install m2w64-toolchain`\n",
      "c:\\users\\raghavendra\\appdata\\local\\programs\\python\\python38\\lib\\site-packages\\theano\\configdefaults.py:560: UserWarning: DeprecationWarning: there is no c++ compiler.This is deprecated and with Theano 0.11 a c++ compiler will be mandatory\n",
      "  warnings.warn(\"DeprecationWarning: there is no c++ compiler.\"\n",
      "WARNING (theano.configdefaults): g++ not detected ! Theano will be unable to execute optimized C-implementations (for both CPU and GPU) and will default to Python implementations. Performance will be severely degraded. To remove this warning, set Theano flags cxx to an empty string.\n",
      "WARNING (theano.tensor.blas): Using NumPy C-API based implementation for BLAS functions.\n"
     ]
    },
    {
     "data": {
      "text/plain": [
       "array(12.)"
      ]
     },
     "execution_count": 1,
     "metadata": {},
     "output_type": "execute_result"
    }
   ],
   "source": [
    "import numpy\n",
    "import theano.tensor as T\n",
    "from theano import function\n",
    "x = T.dscalar('x')\n",
    "y = T.dscalar('y')\n",
    "z = x + y\n",
    "f = function([x, y], z)\n",
    "f(5, 7)"
   ]
  },
  {
   "cell_type": "code",
   "execution_count": 2,
   "metadata": {},
   "outputs": [
    {
     "data": {
      "text/plain": [
       "array([[50.,  5.],\n",
       "       [20., 10.]])"
      ]
     },
     "execution_count": 2,
     "metadata": {},
     "output_type": "execute_result"
    }
   ],
   "source": [
    "import numpy\n",
    "import theano.tensor as T\n",
    "from theano import function\n",
    "x = T.dmatrix('x')\n",
    "y = T.dmatrix('y')\n",
    "z = x + y\n",
    "f = function([x, y], z)\n",
    "f([[30, 2], [15, 5]], [[20, 3], [5, 5]])"
   ]
  },
  {
   "cell_type": "code",
   "execution_count": 2,
   "metadata": {},
   "outputs": [
    {
     "name": "stdout",
     "output_type": "stream",
     "text": [
      "[[0.73105858 0.88079708]\n",
      " [0.95257413 0.98201379]]\n"
     ]
    }
   ],
   "source": [
    "import theano\n",
    "from theano import tensor\n",
    "a = tensor.dmatrix('a')\n",
    "sig = 1/(1 + tensor.exp(-a))\n",
    "log = theano.function([a], sig)\n",
    "print(log([[1, 2], [3, 4]]))"
   ]
  },
  {
   "cell_type": "markdown",
   "metadata": {},
   "source": [
    "# Statistical functions in Python."
   ]
  },
  {
   "cell_type": "markdown",
   "metadata": {},
   "source": [
    "Python has the ability to manipulate some statistical data and calculate results of various statistical operations using the file “statistics“, useful in domain of mathematics."
   ]
  },
  {
   "cell_type": "code",
   "execution_count": 4,
   "metadata": {},
   "outputs": [
    {
     "name": "stdout",
     "output_type": "stream",
     "text": [
      "2\n",
      "2\n"
     ]
    }
   ],
   "source": [
    "#examples.\n",
    "import statistics\n",
    "li = [1, 2, 3, 3, 2, 2, 2, 1]\n",
    "print(statistics.mean(li))\n",
    "print(statistics.mode(li))"
   ]
  },
  {
   "cell_type": "code",
   "execution_count": 9,
   "metadata": {},
   "outputs": [
    {
     "name": "stdout",
     "output_type": "stream",
     "text": [
      "2.5\n",
      "2\n",
      "3\n",
      "2.5\n"
     ]
    }
   ],
   "source": [
    "import statistics\n",
    "li = [1, 2, 2, 3, 3, 3]\n",
    "print(statistics.median(li))\n",
    "print(statistics.median_low(li))\n",
    "print(statistics.median_high(li))\n",
    "print(statistics.median_grouped(li))"
   ]
  },
  {
   "cell_type": "code",
   "execution_count": 13,
   "metadata": {},
   "outputs": [
    {
     "name": "stdout",
     "output_type": "stream",
     "text": [
      "0.6666666666666666\n",
      "0.5555555555555556\n",
      "0.816496580927726\n",
      "0.7453559924999299\n"
     ]
    }
   ],
   "source": [
    "import statistics\n",
    "li = [1.5, 2.5, 2.5, 3.5, 3.5, 3.5]\n",
    "print(statistics.variance(li))\n",
    "print(statistics.pvariance(li))\n",
    "print(statistics.stdev(li))\n",
    "print(statistics.pstdev(li))"
   ]
  },
  {
   "cell_type": "markdown",
   "metadata": {},
   "source": [
    "# Bisect Module."
   ]
  },
  {
   "cell_type": "markdown",
   "metadata": {},
   "source": [
    "The purpose of Bisect algorithm is to find a position in list where an element needs to be inserted to keep the list sorted.\n",
    "\n",
    "Python in its definition provides the bisect algorithms using the module “bisect” which allows to keep the list in sorted order after insertion of each element. This is essential as this reduces overhead time required to sort the list again and again after insertion of each element."
   ]
  },
  {
   "cell_type": "code",
   "execution_count": 4,
   "metadata": {},
   "outputs": [
    {
     "name": "stdout",
     "output_type": "stream",
     "text": [
      "5\n",
      "2\n",
      "5\n"
     ]
    }
   ],
   "source": [
    "#examples.\n",
    "import bisect\n",
    "li = [1, 3, 4, 4, 4, 6, 7]\n",
    "print(bisect.bisect(li, 4))\n",
    "print(bisect.bisect_left(li, 4))\n",
    "print(bisect.bisect_right(li, 4))"
   ]
  },
  {
   "cell_type": "code",
   "execution_count": 8,
   "metadata": {},
   "outputs": [
    {
     "name": "stdout",
     "output_type": "stream",
     "text": [
      "1 3 4 4 4 5 6 \n",
      "1 3 4 4 4 4 6 \n",
      "1 3 4 4 4 4 6 "
     ]
    }
   ],
   "source": [
    "#examples.\n",
    "import bisect\n",
    "li1 = [1, 3, 4, 4, 4, 6, 7]\n",
    "li2 = [1, 3, 4, 4, 4, 6, 7]\n",
    "li3 = [1, 3, 4, 4, 4, 6, 7]\n",
    "bisect.insort(li1, 5)\n",
    "for _ in range(0, 7):\n",
    "    print(li1[_], end = ' ')\n",
    "print('\\r')\n",
    "bisect.insort_left(li2, 4)\n",
    "for i in range(0, 7):\n",
    "    print(li2[i], end = ' ')\n",
    "print('\\r')\n",
    "bisect.insort_right(li3, 4)\n",
    "for j in range(0, 7):\n",
    "    print(li3[j], end = ' ')"
   ]
  },
  {
   "cell_type": "markdown",
   "metadata": {},
   "source": [
    "# Gamma()"
   ]
  },
  {
   "cell_type": "markdown",
   "metadata": {},
   "source": [
    "Returns : The gamma value, which is numerically equal to “factorial(x-1)”."
   ]
  },
  {
   "cell_type": "code",
   "execution_count": 9,
   "metadata": {},
   "outputs": [
    {
     "name": "stdout",
     "output_type": "stream",
     "text": [
      "120.0\n"
     ]
    }
   ],
   "source": [
    "import math\n",
    "print(math.gamma(6))"
   ]
  },
  {
   "cell_type": "code",
   "execution_count": 15,
   "metadata": {},
   "outputs": [
    {
     "name": "stdout",
     "output_type": "stream",
     "text": [
      "The gamma value using factorial is : 120\n",
      "The time taken to compute is : 0.0\n",
      "\n",
      "\n",
      "The gamma value using gamma() is : 120.0\n",
      "The time taken to compute is : 0.0\n"
     ]
    }
   ],
   "source": [
    "import math \n",
    "import time  \n",
    "  \n",
    "# initializing argument \n",
    "gamma_var = 6\n",
    "  \n",
    "# checking performance  \n",
    "# gamma() vs factorial() \n",
    "start_fact = time.time() \n",
    "res_fact = math.factorial(gamma_var-1) \n",
    "  \n",
    "print (\"The gamma value using factorial is : \" \n",
    "                              + str(res_fact)) \n",
    "  \n",
    "print (\"The time taken to compute is : \"\n",
    "        + str(time.time() - start_fact)) \n",
    "  \n",
    "print ('\\n') \n",
    "  \n",
    "start_gamma = time.time() \n",
    "res_gamma = math.gamma(gamma_var) \n",
    "  \n",
    "print (\"The gamma value using gamma() is : \"\n",
    "                           + str(res_gamma)) \n",
    "  \n",
    "print (\"The time taken to compute is : \" \n",
    "       + str(time.time() - start_gamma)) "
   ]
  },
  {
   "cell_type": "markdown",
   "metadata": {},
   "source": [
    "# expm1() method."
   ]
  },
  {
   "cell_type": "markdown",
   "metadata": {},
   "source": [
    "Number whose exp(x)-1 has to be computed."
   ]
  },
  {
   "cell_type": "code",
   "execution_count": 18,
   "metadata": {},
   "outputs": [
    {
     "name": "stdout",
     "output_type": "stream",
     "text": [
      "1.718281828459045\n",
      "1.718281828459045\n"
     ]
    }
   ],
   "source": [
    "#example.\n",
    "import math\n",
    "print(math.expm1(1))\n",
    "print(math.exp(1) - 1)"
   ]
  },
  {
   "cell_type": "markdown",
   "metadata": {},
   "source": [
    "__Note__: The most important reason is that for smaller value of x, of the order less than e-10, expm1() method give a result more accurate than exp() - 1."
   ]
  },
  {
   "cell_type": "code",
   "execution_count": 20,
   "metadata": {},
   "outputs": [
    {
     "name": "stdout",
     "output_type": "stream",
     "text": [
      "1.00000000005e-10\n",
      "1.000000082740371e-10\n"
     ]
    }
   ],
   "source": [
    "#example1.\n",
    "import math\n",
    "test_int = 1e-10\n",
    "print(math.expm1(test_int))\n",
    "print(math.exp(test_int) - 1)"
   ]
  },
  {
   "cell_type": "markdown",
   "metadata": {},
   "source": [
    "# Decimal functions in Python."
   ]
  },
  {
   "cell_type": "markdown",
   "metadata": {},
   "source": [
    "Python in it's definition provides few methods to perform faster decimal floating point arithmatic using the module 'decimal'"
   ]
  },
  {
   "cell_type": "code",
   "execution_count": 27,
   "metadata": {},
   "outputs": [
    {
     "name": "stdout",
     "output_type": "stream",
     "text": [
      "2.121320343559642573202533086\n",
      "90.01713130052181355011545675\n"
     ]
    }
   ],
   "source": [
    "#1.sqrt()-returns sqrt of a decimal number.\n",
    "#2.exp()-returns the exponential of a decimal number.\n",
    "import decimal\n",
    "b = decimal.Decimal(4.5).sqrt() \n",
    "print(b)\n",
    "a = decimal.Decimal(4.5).exp()\n",
    "print(a)"
   ]
  },
  {
   "cell_type": "code",
   "execution_count": 29,
   "metadata": {},
   "outputs": [
    {
     "name": "stdout",
     "output_type": "stream",
     "text": [
      "1.504077396776274073373258352\n",
      "0.6532125137753436793763169118\n"
     ]
    }
   ],
   "source": [
    "#3.ln()- This function is used to calculate the natural log of a decimal value.\n",
    "#4.log10()- This function is used to calculate the log(base 10) of a decimal value.\n",
    "import decimal\n",
    "a = decimal.Decimal(4.5).ln()\n",
    "print(a)\n",
    "b = decimal.Decimal(4.5).log10()\n",
    "print(b)"
   ]
  },
  {
   "cell_type": "code",
   "execution_count": 31,
   "metadata": {},
   "outputs": [
    {
     "name": "stdout",
     "output_type": "stream",
     "text": [
      "DecimalTuple(sign=1, digits=(4, 5), exponent=-1)\n",
      "13\n"
     ]
    }
   ],
   "source": [
    "#5.as_tuple() - Returns the decimal number as tuple containing 3 arguments, sign(0 for +, 1 for -), digits and exponent value.\n",
    "#6.fma(a, b)- This “fma” stands for fused multiply and add. It computes (num*a)+b from the numbers in argument. No rounding of (num*a) takes place in this function.\n",
    "import decimal\n",
    "a = decimal.Decimal(-4.5).as_tuple()\n",
    "print(a)\n",
    "b = decimal.Decimal(5).fma(2, 3)\n",
    "print(b)"
   ]
  },
  {
   "cell_type": "code",
   "execution_count": 36,
   "metadata": {},
   "outputs": [
    {
     "name": "stdout",
     "output_type": "stream",
     "text": [
      "1\n",
      "-1\n"
     ]
    }
   ],
   "source": [
    "#7.compare()- This function is used to compare decimal numbers. Returns 1 if 1st Decimal argument is greater than 2nd, -1 if 1st Decimal argument is smaller than 2nd and 0 if both are equal.\n",
    "import decimal\n",
    "a = decimal.Decimal(9.21)\n",
    "b = decimal.Decimal(-9.63)\n",
    "print(a.compare(b))\n",
    "#8.compare_total_mag()- Compares the total magnitute of decimal numbers. Returns 1 if 1st Decimal argument is greater than 2nd(ignoring sign), -1 if 1st Decimal argument is smaller than 2nd(ignoring sign) and 0 if both are equal(ignoring sign).\n",
    "print(a.compare_total_mag(b))"
   ]
  },
  {
   "cell_type": "code",
   "execution_count": 1,
   "metadata": {},
   "outputs": [
    {
     "name": "stdout",
     "output_type": "stream",
     "text": [
      "2.29999999999999982236431605997495353221893310546875\n",
      "-2.29999999999999982236431605997495353221893310546875\n",
      "-2.29999999999999982236431605997495353221893310546875\n"
     ]
    }
   ],
   "source": [
    "#9.copy_abs()- This function prints the absolute value of decimal argument.\n",
    "import decimal\n",
    "a = decimal.Decimal(2.3)\n",
    "print(a.copy_abs())\n",
    "#10.copy_negate()- This function prints the negation of decimal argument.\n",
    "print(a.copy_negate())\n",
    "#11.copy_sign()- This function prints the first argument by copying the sign from 2nd argument.\n",
    "a = decimal.Decimal(2.3)\n",
    "b = decimal.Decimal(-1.1)\n",
    "print(a.copy_sign(b))"
   ]
  },
  {
   "cell_type": "code",
   "execution_count": 3,
   "metadata": {},
   "outputs": [
    {
     "name": "stdout",
     "output_type": "stream",
     "text": [
      "9.300000000000000710542735760\n",
      "7.200000000000000177635683940\n"
     ]
    }
   ],
   "source": [
    "#12.max()- This function is used to compute maximum of 2 decimals.\n",
    "import decimal\n",
    "a = decimal.Decimal(9.3)\n",
    "b = decimal.Decimal(7.2)\n",
    "#13.min()- This function computes the minimum of two decimal numbers.\n",
    "print(a.max(b))\n",
    "print(a.min(b))"
   ]
  },
  {
   "cell_type": "code",
   "execution_count": 7,
   "metadata": {},
   "outputs": [
    {
     "name": "stdout",
     "output_type": "stream",
     "text": [
      "1000\n",
      "1110\n",
      "110\n",
      "1111111111111111111111110111\n"
     ]
    }
   ],
   "source": [
    "#13.logical_and()- Performs the bitwise and operation.\n",
    "import decimal\n",
    "a = decimal.Decimal(1000)\n",
    "b = decimal.Decimal(1110)\n",
    "print(a.logical_and(b))\n",
    "#14.logical_or()- Performs the bitwise or operation.\n",
    "print(a.logical_or(b))\n",
    "#15.logical_xor()- Performs the bitwise zor operation.\n",
    "print(a.logical_xor(b))\n",
    "#16.logical_invert()- Performs the bitwise invert operation.\n",
    "print(a.logical_invert())"
   ]
  },
  {
   "cell_type": "code",
   "execution_count": 9,
   "metadata": {},
   "outputs": [
    {
     "name": "stdout",
     "output_type": "stream",
     "text": [
      "5.000000000000000000000000001\n",
      "4.999999999999999999999999999\n"
     ]
    }
   ],
   "source": [
    "#17.next_plus()- This function returns the smallest number that can be represented, larger than the given number.\n",
    "import decimal\n",
    "a = decimal.Decimal(5)\n",
    "print(a.next_plus())\n",
    "#18.next_minus()- This function returns the smallest number that can be represented, larger than the given number.\n",
    "print(a.next_minus())"
   ]
  },
  {
   "cell_type": "code",
   "execution_count": 16,
   "metadata": {},
   "outputs": [
    {
     "name": "stdout",
     "output_type": "stream",
     "text": [
      "-5.200000000000000177635683940\n",
      "14.00999999999999978683717927\n"
     ]
    }
   ],
   "source": [
    "#19.next_toward()- This function returns the number nearest to the 1st argument in the direction of the second argument. In case Both the numbers are equal, returns the 2nd number with the sign of first number.\n",
    "import decimal\n",
    "a = decimal.Decimal(-5.2)\n",
    "b = decimal.Decimal(5.2)\n",
    "print(a.next_toward(b))\n",
    "c = decimal.Decimal(14.01000000000)\n",
    "print(c.normalize())"
   ]
  },
  {
   "cell_type": "code",
   "execution_count": 18,
   "metadata": {},
   "outputs": [
    {
     "name": "stdout",
     "output_type": "stream",
     "text": [
      "The number closest to 1st number in direction of second number : \n",
      "101.3400000000000034106051316\n",
      "The second number with sign of first number is : -101.3400000000000034106051316\n",
      "Number after erasing rightmost trailing zeroes : 14.00999999999999978683717927\n"
     ]
    }
   ],
   "source": [
    "# Python code to demonstrate the working of  \n",
    "# next_toward() and normalize() \n",
    "  \n",
    "# importing \"decimal\" module to use decimal functions \n",
    "import decimal \n",
    "  \n",
    "# Initializing decimal number \n",
    "a = decimal.Decimal(101.34) \n",
    "  \n",
    "# Initializing decimal number \n",
    "b = decimal.Decimal(-101.34) \n",
    "  \n",
    "# Initializing decimal number \n",
    "c = decimal.Decimal(-58.68) \n",
    "  \n",
    "# Initializing decimal number \n",
    "d = decimal.Decimal(14.010000000) \n",
    "  \n",
    "# printing the number using next_toward() \n",
    "print (\"The number closest to 1st number in direction of second number : \") \n",
    "print (a.next_toward(c)) \n",
    "  \n",
    "# printing the number using next_toward() \n",
    "# when equal \n",
    "print (\"The second number with sign of first number is : \",end=\"\") \n",
    "print (b.next_toward(a)) \n",
    "  \n",
    "# printing number after erasing rightmost trailing zeroes \n",
    "print (\"Number after erasing rightmost trailing zeroes : \",end=\"\") \n",
    "print (d.normalize()) "
   ]
  },
  {
   "cell_type": "code",
   "execution_count": 20,
   "metadata": {},
   "outputs": [
    {
     "name": "stdout",
     "output_type": "stream",
     "text": [
      "12.346\n",
      "Exponent values are same\n"
     ]
    }
   ],
   "source": [
    "#22.quantize()- This function returns the 1st argument with the number of digits in decimal part(exponent) shortened by the number of digits in decimal part(exponent) of 2nd argument.\n",
    "import decimal\n",
    "a = decimal.Decimal(12.3456789)\n",
    "b = decimal.Decimal(12.625)\n",
    "print(a.quantize(b))\n",
    "#23().same_quantam()-  This function returns 0 if both the numbers have different exponent and 1 if both numbers have same exponent.\n",
    "c = decimal.Decimal(6.625)\n",
    "d = decimal.Decimal(25.625)\n",
    "if(c.same_quantum(d)):\n",
    "    print('Exponent values are same')\n",
    "else:\n",
    "    print('Different')"
   ]
  },
  {
   "cell_type": "code",
   "execution_count": 26,
   "metadata": {},
   "outputs": [
    {
     "name": "stdout",
     "output_type": "stream",
     "text": [
      "8956449878946516546548979846\n",
      "4498789465165465489798468900\n"
     ]
    }
   ],
   "source": [
    "#24.rotate()- This function rotates the first argument by the amount mentioned in the second argument. If the sign of second argument is positive, rotation is towards left, else the rotation is towards right. The sign of first argument is unchanged.\n",
    "import decimal\n",
    "a = decimal.Decimal(12345644987894651654654897984689)\n",
    "print(a.rotate(-2))\n",
    "print(a.shift(2))"
   ]
  },
  {
   "cell_type": "code",
   "execution_count": 27,
   "metadata": {},
   "outputs": [
    {
     "name": "stderr",
     "output_type": "stream",
     "text": [
      "ERROR: Could not find a version that satisfies the requirement xldr (from versions: none)\n",
      "ERROR: No matching distribution found for xldr\n"
     ]
    }
   ],
   "source": [
    "!pip install xldr"
   ]
  },
  {
   "cell_type": "markdown",
   "metadata": {},
   "source": [
    "# NetworkX: A python software package for study of complex networks"
   ]
  },
  {
   "cell_type": "markdown",
   "metadata": {},
   "source": [
    "NetworkX is a Python language software package for the creation, manipulation, and study of the structure, dynamics, and function of complex networks. It is used to study large complex networks represented in form of graphs with nodes and edges. Using networkx we can load and store complex networks. We can generate many types of random and classic networks, analyze network structure, build network models, design new network algorithms and draw networks."
   ]
  },
  {
   "cell_type": "code",
   "execution_count": 1,
   "metadata": {},
   "outputs": [
    {
     "name": "stdout",
     "output_type": "stream",
     "text": [
      "Collecting networkx\n",
      "  Using cached networkx-2.4-py3-none-any.whl (1.6 MB)\n",
      "Requirement already satisfied: decorator>=4.3.0 in c:\\users\\raghavendra\\appdata\\local\\programs\\python\\python38\\lib\\site-packages (from networkx) (4.4.2)\n",
      "Installing collected packages: networkx\n",
      "Successfully installed networkx-2.4\n"
     ]
    }
   ],
   "source": [
    "!pip install networkx"
   ]
  },
  {
   "cell_type": "code",
   "execution_count": 11,
   "metadata": {},
   "outputs": [
    {
     "name": "stdout",
     "output_type": "stream",
     "text": [
      "[1, 2, 3, 4, 7, 9]\n",
      "[(1, 2), (1, 3), (1, 4), (1, 9), (1, 7), (2, 4), (2, 9)]\n",
      "6\n",
      "7\n",
      "2\n",
      "#8\n",
      "<dict_keyiterator object at 0x00000201D955A360>\n"
     ]
    }
   ],
   "source": [
    "#example.\n",
    "import networkx\n",
    "G = networkx.Graph()\n",
    "G.add_node(1)\n",
    "G.add_node(2)\n",
    "G.add_node(3)\n",
    "G.add_node(4)\n",
    "G.add_node(7)\n",
    "G.add_node(9)\n",
    "\n",
    "G.add_edge(1, 2)\n",
    "G.add_edge(3, 1)\n",
    "G.add_edge(2, 4)\n",
    "G.add_edge(4, 1)\n",
    "G.add_edge(9, 1)\n",
    "G.add_edge(1, 7)\n",
    "G.add_edge(2, 9)\n",
    "node_list = G.nodes()\n",
    "print(node_list)\n",
    "edge_list = G.edges()\n",
    "print(edge_list)\n",
    "n = G.number_of_nodes()\n",
    "print(n)\n",
    "n1 = G.number_of_edges()\n",
    "print(n1)\n",
    "d = G.degree(2)\n",
    "print(2)\n",
    "neighbor_list = G.neighbors(2) \n",
    "print(\"#8\") \n",
    "print(neighbor_list) \n",
    "G.clear()"
   ]
  },
  {
   "cell_type": "markdown",
   "metadata": {},
   "source": [
    "# Getpass() and getuser() in Python."
   ]
  },
  {
   "cell_type": "markdown",
   "metadata": {},
   "source": [
    "getpass() prompts the user for a password without echoing. The getpass module provides a secure way to handle the password prompts where programs interact with the users via the terminal."
   ]
  },
  {
   "cell_type": "code",
   "execution_count": 1,
   "metadata": {},
   "outputs": [
    {
     "name": "stdin",
     "output_type": "stream",
     "text": [
      " ····\n"
     ]
    },
    {
     "name": "stdout",
     "output_type": "stream",
     "text": [
      "Password is: Ragh\n"
     ]
    }
   ],
   "source": [
    "#1.getpass().\n",
    "import getpass\n",
    "try:\n",
    "    p = getpass.getpass()\n",
    "except Exception as e:\n",
    "    print(e)\n",
    "else:\n",
    "    print('Password is:', p)"
   ]
  },
  {
   "cell_type": "code",
   "execution_count": 4,
   "metadata": {},
   "outputs": [
    {
     "name": "stdin",
     "output_type": "stream",
     "text": [
      "Your favorite Sport? ·······\n"
     ]
    },
    {
     "name": "stdout",
     "output_type": "stream",
     "text": [
      "Welcome...\n"
     ]
    }
   ],
   "source": [
    "#example2\n",
    "import getpass\n",
    "p = getpass.getpass(prompt='Your favorite Sport?')\n",
    "if(p.lower() == 'cricket'):\n",
    "    print('Welcome...')\n",
    "else:\n",
    "    print('The answer entered is incorrect...')"
   ]
  },
  {
   "cell_type": "code",
   "execution_count": 6,
   "metadata": {},
   "outputs": [
    {
     "name": "stdin",
     "output_type": "stream",
     "text": [
      "User Name : RAGHAVENDRA ····\n"
     ]
    },
    {
     "name": "stdout",
     "output_type": "stream",
     "text": [
      "Welcome!!!\n"
     ]
    }
   ],
   "source": [
    "import getpass \n",
    "  \n",
    "user = getpass.getuser() \n",
    "  \n",
    "while True: \n",
    "    pwd = getpass.getpass(\"User Name : %s\" % user) \n",
    "  \n",
    "    if pwd == 'abcd': \n",
    "        print(\"Welcome!!!\")\n",
    "        break\n",
    "    else: \n",
    "        print(\"The password you entered is incorrect.\")"
   ]
  },
  {
   "cell_type": "markdown",
   "metadata": {},
   "source": [
    "# fnmatch – Unix filename pattern matching in Python"
   ]
  },
  {
   "cell_type": "markdown",
   "metadata": {},
   "source": [
    "This module is used for matching Unix shell-style wildcards. fnmatch() compares a single file name against a pattern and returns TRUE if they match else returns FALSE.\n",
    "The comparison is case-sensitive when the operating system uses a case-sensitive file system.\n",
    "The special characters and their functions used in shell-style wildcards are :\n",
    "\n",
    "‘*’ – matches everything\n",
    "\n",
    "‘?’ – matches any single character\n",
    "\n",
    "‘[seq]’ – matches any character in seq\n",
    "\n",
    "‘[!seq]’ – matches any character not in seq\n",
    "\n",
    "The meta-characters should be wrapped in brackets for a literal match. For example, ‘[?]’ matches the character ‘?’."
   ]
  },
  {
   "cell_type": "code",
   "execution_count": 32,
   "metadata": {},
   "outputs": [
    {
     "ename": "SyntaxError",
     "evalue": "unexpected EOF while parsing (<ipython-input-32-16ce75524b24>, line 8)",
     "output_type": "error",
     "traceback": [
      "\u001b[1;36m  File \u001b[1;32m\"<ipython-input-32-16ce75524b24>\"\u001b[1;36m, line \u001b[1;32m8\u001b[0m\n\u001b[1;33m    #print(name, fnmatch.fnmatch(name, pattern))\u001b[0m\n\u001b[1;37m                                                ^\u001b[0m\n\u001b[1;31mSyntaxError\u001b[0m\u001b[1;31m:\u001b[0m unexpected EOF while parsing\n"
     ]
    }
   ],
   "source": [
    "#1.fnmatch.fnmatch(name, pattern).\n",
    "import fnmatch\n",
    "import os\n",
    "pattern = 'Ragh_*'\n",
    "print(pattern)\n",
    "files = os.listdir('.')\n",
    "for name in files:\n",
    "    #print(name, fnmatch.fnmatch(name, pattern))"
   ]
  },
  {
   "cell_type": "code",
   "execution_count": 31,
   "metadata": {},
   "outputs": [
    {
     "ename": "SyntaxError",
     "evalue": "unexpected EOF while parsing (<ipython-input-31-43cec347bc6b>, line 7)",
     "output_type": "error",
     "traceback": [
      "\u001b[1;36m  File \u001b[1;32m\"<ipython-input-31-43cec347bc6b>\"\u001b[1;36m, line \u001b[1;32m7\u001b[0m\n\u001b[1;33m    #print(name, fnmatch.fnmatchcase(name, pattern))\u001b[0m\n\u001b[1;37m                                                    ^\u001b[0m\n\u001b[1;31mSyntaxError\u001b[0m\u001b[1;31m:\u001b[0m unexpected EOF while parsing\n"
     ]
    }
   ],
   "source": [
    "import fnmatch\n",
    "import os\n",
    "pattern = 'python_*'\n",
    "print(pattern)\n",
    "files = os.listdir('.')\n",
    "for name in files:\n",
    "    #print(name, fnmatch.fnmatchcase(name, pattern))"
   ]
  },
  {
   "cell_type": "code",
   "execution_count": 30,
   "metadata": {},
   "outputs": [
    {
     "ename": "SyntaxError",
     "evalue": "unexpected EOF while parsing (<ipython-input-30-24c97d34c5ad>, line 7)",
     "output_type": "error",
     "traceback": [
      "\u001b[1;36m  File \u001b[1;32m\"<ipython-input-30-24c97d34c5ad>\"\u001b[1;36m, line \u001b[1;32m7\u001b[0m\n\u001b[1;33m    #print(name, fnmatch.filter(name, pattern))\u001b[0m\n\u001b[1;37m                                               ^\u001b[0m\n\u001b[1;31mSyntaxError\u001b[0m\u001b[1;31m:\u001b[0m unexpected EOF while parsing\n"
     ]
    }
   ],
   "source": [
    "import fnmatch\n",
    "import os\n",
    "pattern = 'Resume.*'\n",
    "print(pattern)\n",
    "files = os.listdir('.')\n",
    "for name in files:\n",
    "    #print(name, fnmatch.filter(name, pattern))"
   ]
  },
  {
   "cell_type": "code",
   "execution_count": 29,
   "metadata": {},
   "outputs": [
    {
     "name": "stdout",
     "output_type": "stream",
     "text": [
      "(?s:.*\\.txt)\\Z\n",
      "<re.Match object; span=(0, 11), match='footbar.txt'>\n"
     ]
    }
   ],
   "source": [
    "import fnmatch, re\n",
    "regex = fnmatch.translate('*.txt')\n",
    "reob = re.compile(regex)\n",
    "print(regex)\n",
    "print(reob.match('footbar.txt'))"
   ]
  },
  {
   "cell_type": "markdown",
   "metadata": {},
   "source": [
    "# Python Matplotlib.pyplot ticks."
   ]
  },
  {
   "cell_type": "markdown",
   "metadata": {},
   "source": [
    "Matplotlib is an amazing visualization library in Python for 2D plots of arrays. Matplotlib is a multi-platform data visualization library built on NumPy arrays and designed to work with the broader SciPy stack. It was introduced by John Hunter in the year 2002.\n",
    "\n",
    "One of the greatest benefits of visualization is that it allows us visual access to huge amounts of data in easily digestible visuals. Matplotlib consists of several plots like line, bar, scatter, histogram etc.\n",
    "\n",
    "Ticks are the values used to show specific points on the coordinate axis. It can be a number or a string. Whenever we plot a graph, the axes adjust and take the default ticks. Matplotlib’s default ticks are generally sufficient in common situations but are in no way optimal for every plot. Here, we will see how to customize these ticks as per our need."
   ]
  },
  {
   "cell_type": "code",
   "execution_count": 34,
   "metadata": {},
   "outputs": [
    {
     "data": {
      "image/png": "[encoded data removed]",
      "text/plain": [
       "<Figure size 432x288 with 1 Axes>"
      ]
     },
     "metadata": {
      "needs_background": "light"
     },
     "output_type": "display_data"
    }
   ],
   "source": [
    "import matplotlib.pyplot as plt\n",
    "x = [5, 8, 48, 47, 58, 54, 87, 54, 48, 79]\n",
    "y = [5, 7, 2, 8, 4, 6, 9, 1, 10, 3]\n",
    "plt.plot(x, y)\n",
    "plt.xlabel('X')\n",
    "plt.ylabel('Y')\n",
    "plt.show()"
   ]
  },
  {
   "cell_type": "code",
   "execution_count": 45,
   "metadata": {},
   "outputs": [
    {
     "data": {
      "image/png": "[encoded data removed]",
      "text/plain": [
       "<Figure size 432x288 with 4 Axes>"
      ]
     },
     "metadata": {
      "needs_background": "light"
     },
     "output_type": "display_data"
    }
   ],
   "source": [
    "import random\n",
    "import matplotlib.pyplot as plt\n",
    "fig = plt.figure()\n",
    "def get_graphs():\n",
    "    xs = []\n",
    "    ys = []\n",
    "    for i in range(10):\n",
    "        xs.append(i)\n",
    "        ys.append(random.randrange(10))\n",
    "        return xs, ys\n",
    "ax1 = fig.add_subplot(221)\n",
    "ax2 = fig.add_subplot(222)\n",
    "ax3 = fig.add_subplot(223)\n",
    "ax4 = fig.add_subplot(224)\n",
    "#hiding the marker on axis\n",
    "x, y = get_graphs()\n",
    "ax1.plot(x, y)\n",
    "ax1.tick_params(axis = 'both', which = 'both', length = 0)\n",
    "# hiding the ticks and markers\n",
    "x, y = get_graphs()\n",
    "ax2.plot(x, y)\n",
    "ax2.axes.get_xaxis().set_visible(False)\n",
    "ax2.axes.get_yaxis().set_visible(False)\n",
    "# hiding the values and displaying the marker\n",
    "x, y = get_graphs()\n",
    "ax3.plot(x, y)\n",
    "ax3.yaxis.set_major_formatter(plt.NullFormatter())\n",
    "ax3.xaxis.set_major_formatter(plt.NullFormatter())\n",
    "# tilting the ticks (usually needed when the ticks are densely populated)\n",
    "x, y = get_graphs()\n",
    "ax4.plot(x, y)\n",
    "ax4.tick_params(axis = 'x', rotation = 45)\n",
    "ax4.tick_params(axis = 'y', rotation = -45)\n",
    "plt.show()"
   ]
  },
  {
   "cell_type": "code",
   "execution_count": 1,
   "metadata": {},
   "outputs": [
    {
     "data": {
      "image/png": "[encoded data removed]",
      "text/plain": [
       "<Figure size 432x288 with 1 Axes>"
      ]
     },
     "metadata": {
      "needs_background": "light"
     },
     "output_type": "display_data"
    },
    {
     "data": {
      "text/plain": [
       "([<matplotlib.axis.YTick at 0x2091aac2a60>,\n",
       "  <matplotlib.axis.YTick at 0x2091aac2640>,\n",
       "  <matplotlib.axis.YTick at 0x2091aab4d90>,\n",
       "  <matplotlib.axis.YTick at 0x2090fa4dca0>,\n",
       "  <matplotlib.axis.YTick at 0x2090fa8bcd0>,\n",
       "  <matplotlib.axis.YTick at 0x2090fa8b430>,\n",
       "  <matplotlib.axis.YTick at 0x2090f9aadc0>,\n",
       "  <matplotlib.axis.YTick at 0x2090f9aa790>,\n",
       "  <matplotlib.axis.YTick at 0x2090fa8b190>,\n",
       "  <matplotlib.axis.YTick at 0x2090fa4dbb0>,\n",
       "  <matplotlib.axis.YTick at 0x2090f9fa400>],\n",
       " <a list of 11 Text major ticklabel objects>)"
      ]
     },
     "execution_count": 1,
     "metadata": {},
     "output_type": "execute_result"
    },
    {
     "data": {
      "image/png": "[encoded data removed]",
      "text/plain": [
       "<Figure size 432x288 with 1 Axes>"
      ]
     },
     "metadata": {
      "needs_background": "light"
     },
     "output_type": "display_data"
    }
   ],
   "source": [
    "import matplotlib.pyplot as plt\n",
    "import numpy as np\n",
    "x = [5, 10, 15, 20, 25, 30, 35, 40, 45, 50]\n",
    "y = [1, 4, 3, 2, 7, 6, 9, 8, 10, 5]\n",
    "plt.plot(x, y, 'b')\n",
    "plt.xlabel('x')\n",
    "plt.ylabel('y')\n",
    "plt.show()\n",
    "plt.xticks(np.arange(0, 51, 5))\n",
    "plt.yticks(np.arange(0, 11, 1))"
   ]
  },
  {
   "cell_type": "markdown",
   "metadata": {},
   "source": [
    "# Unicode database in Python."
   ]
  },
  {
   "cell_type": "markdown",
   "metadata": {},
   "source": [
    "Unicode Character Database (UCD) is defined by Unicode Standard Annex #44 which defines the character properties for all unicode characters. This module provides access to UCD and uses the same symbols and names as defined by the Unicode Character Database."
   ]
  },
  {
   "cell_type": "code",
   "execution_count": 7,
   "metadata": {},
   "outputs": [
    {
     "name": "stdout",
     "output_type": "stream",
     "text": [
      "{\n",
      "}\n",
      "*\n"
     ]
    },
    {
     "ename": "KeyError",
     "evalue": "\"undefined character name 'ASTER'\"",
     "output_type": "error",
     "traceback": [
      "\u001b[1;31m---------------------------------------------------------------------------\u001b[0m",
      "\u001b[1;31mKeyError\u001b[0m                                  Traceback (most recent call last)",
      "\u001b[1;32m<ipython-input-7-bde60153b153>\u001b[0m in \u001b[0;36m<module>\u001b[1;34m\u001b[0m\n\u001b[0;32m      3\u001b[0m \u001b[0mprint\u001b[0m\u001b[1;33m(\u001b[0m\u001b[0municodedata\u001b[0m\u001b[1;33m.\u001b[0m\u001b[0mlookup\u001b[0m\u001b[1;33m(\u001b[0m\u001b[1;34m'RIGHT CURLY BRACKET'\u001b[0m\u001b[1;33m)\u001b[0m\u001b[1;33m)\u001b[0m\u001b[1;33m\u001b[0m\u001b[1;33m\u001b[0m\u001b[0m\n\u001b[0;32m      4\u001b[0m \u001b[0mprint\u001b[0m\u001b[1;33m(\u001b[0m\u001b[0municodedata\u001b[0m\u001b[1;33m.\u001b[0m\u001b[0mlookup\u001b[0m\u001b[1;33m(\u001b[0m\u001b[1;34m'ASTERISK'\u001b[0m\u001b[1;33m)\u001b[0m\u001b[1;33m)\u001b[0m\u001b[1;33m\u001b[0m\u001b[1;33m\u001b[0m\u001b[0m\n\u001b[1;32m----> 5\u001b[1;33m \u001b[0mprint\u001b[0m\u001b[1;33m(\u001b[0m\u001b[0municodedata\u001b[0m\u001b[1;33m.\u001b[0m\u001b[0mlookup\u001b[0m\u001b[1;33m(\u001b[0m\u001b[1;34m'ASTER'\u001b[0m\u001b[1;33m)\u001b[0m\u001b[1;33m)\u001b[0m\u001b[1;33m\u001b[0m\u001b[1;33m\u001b[0m\u001b[0m\n\u001b[0m",
      "\u001b[1;31mKeyError\u001b[0m: \"undefined character name 'ASTER'\""
     ]
    }
   ],
   "source": [
    "#1.lookup()\n",
    "import unicodedata\n",
    "print(unicodedata.lookup('LEFT CURLY BRACKET'))\n",
    "print(unicodedata.lookup('RIGHT CURLY BRACKET'))\n",
    "print(unicodedata.lookup('ASTERISK'))\n",
    "print(unicodedata.lookup('ASTER'))"
   ]
  },
  {
   "cell_type": "code",
   "execution_count": 13,
   "metadata": {},
   "outputs": [
    {
     "name": "stdout",
     "output_type": "stream",
     "text": [
      "VERTICAL LINE\n",
      "COLON\n",
      "SOLIDUS\n"
     ]
    }
   ],
   "source": [
    "#2.name()\n",
    "import unicodedata\n",
    "print(unicodedata.name(u'|'))\n",
    "print(unicodedata.name(u':'))\n",
    "print(unicodedata.name(u'/'))"
   ]
  },
  {
   "cell_type": "code",
   "execution_count": 23,
   "metadata": {},
   "outputs": [
    {
     "name": "stdout",
     "output_type": "stream",
     "text": [
      "1\n"
     ]
    }
   ],
   "source": [
    "#3.decimal()\n",
    "import unicodedata\n",
    "print(unicodedata.decimal('1'))"
   ]
  },
  {
   "cell_type": "code",
   "execution_count": 24,
   "metadata": {},
   "outputs": [
    {
     "name": "stdout",
     "output_type": "stream",
     "text": [
      "4\n"
     ]
    }
   ],
   "source": [
    "#4.digit()\n",
    "import unicodedata\n",
    "print(unicodedata.digit('4'))"
   ]
  },
  {
   "cell_type": "code",
   "execution_count": 26,
   "metadata": {},
   "outputs": [
    {
     "name": "stdout",
     "output_type": "stream",
     "text": [
      "3.0\n"
     ]
    },
    {
     "ename": "TypeError",
     "evalue": "numeric() argument 1 must be a unicode character, not str",
     "output_type": "error",
     "traceback": [
      "\u001b[1;31m---------------------------------------------------------------------------\u001b[0m",
      "\u001b[1;31mTypeError\u001b[0m                                 Traceback (most recent call last)",
      "\u001b[1;32m<ipython-input-26-d62e73e77a20>\u001b[0m in \u001b[0;36m<module>\u001b[1;34m\u001b[0m\n\u001b[0;32m      2\u001b[0m \u001b[1;32mimport\u001b[0m \u001b[0municodedata\u001b[0m\u001b[1;33m\u001b[0m\u001b[1;33m\u001b[0m\u001b[0m\n\u001b[0;32m      3\u001b[0m \u001b[0mprint\u001b[0m\u001b[1;33m(\u001b[0m\u001b[0municodedata\u001b[0m\u001b[1;33m.\u001b[0m\u001b[0mnumeric\u001b[0m\u001b[1;33m(\u001b[0m\u001b[1;34m'3'\u001b[0m\u001b[1;33m)\u001b[0m\u001b[1;33m)\u001b[0m\u001b[1;33m\u001b[0m\u001b[1;33m\u001b[0m\u001b[0m\n\u001b[1;32m----> 4\u001b[1;33m \u001b[0mprint\u001b[0m\u001b[1;33m(\u001b[0m\u001b[0municodedata\u001b[0m\u001b[1;33m.\u001b[0m\u001b[0mnumeric\u001b[0m\u001b[1;33m(\u001b[0m\u001b[1;34m'13'\u001b[0m\u001b[1;33m)\u001b[0m\u001b[1;33m)\u001b[0m\u001b[1;33m\u001b[0m\u001b[1;33m\u001b[0m\u001b[0m\n\u001b[0m",
      "\u001b[1;31mTypeError\u001b[0m: numeric() argument 1 must be a unicode character, not str"
     ]
    }
   ],
   "source": [
    "#5.numeric()\n",
    "import unicodedata\n",
    "print(unicodedata.numeric('3'))\n",
    "print(unicodedata.numeric('13'))"
   ]
  },
  {
   "cell_type": "code",
   "execution_count": 27,
   "metadata": {},
   "outputs": [
    {
     "name": "stdout",
     "output_type": "stream",
     "text": [
      "Lu\n",
      "Ll\n"
     ]
    }
   ],
   "source": [
    "#6.category()\n",
    "import unicodedata\n",
    "print(unicodedata.category('A'))\n",
    "print(unicodedata.category('a'))"
   ]
  },
  {
   "cell_type": "code",
   "execution_count": 39,
   "metadata": {},
   "outputs": [
    {
     "name": "stdout",
     "output_type": "stream",
     "text": [
      "AN\n"
     ]
    }
   ],
   "source": [
    "#7.bidirectional()\n",
    "import unicodedata\n",
    "print(unicodedata.bidirectional(u'\\u0660'))"
   ]
  },
  {
   "cell_type": "markdown",
   "metadata": {},
   "source": [
    "# Textwrapping and filling in Python."
   ]
  },
  {
   "cell_type": "markdown",
   "metadata": {},
   "source": [
    "The textwrap module can be used for wrapping and formatting of plain text. This module provides formatting of text by adjusting the line breaks in the input paragraph.\n",
    "\n",
    "The TextWrapper instance attributes (and keyword arguments to the constructor) are as follows:\n",
    "\n",
    "width: This refers to the maximum length allowed of the wrapped lines. It’s default value is set to 70.\n",
    "\n",
    "expand_tabs: It’s default value is set to TRUE. If the value is equal to true, then, all the tab characters in the sample input is expanded to spaces using this method.\n",
    "\n",
    "tabsize: It’s default value is set to 8. This method expands all tab characters in text to zero or more spaces, depending on the current column and the given tab size, if the value of expand_tabs is TRUE.\n",
    "\n",
    "replace_whitespace: It’s default value is set to TRUE. If the value is true, after tab expansion but before wrapping, the wrap() method replaces each whitespace character with a single space.These whitespace characters are replaced : tab, newline, vertical tab, formfeed, and carriage return (‘\\t\\n\\v\\f\\r’).\n",
    "\n",
    "drop_whitespace: It’s default value is set to TRUE. The whitespaces at the beginning and ending of every line (after wrapping but before indenting) is dropped if the value is set to TRUE.\n",
    "\n",
    "initial_indent: It’s default value is set to’ ‘. This method prepends the given string to the first line of wrapped output.\n",
    "\n",
    "subsequent_indent: It’s default value is set to ‘ ‘. This method prepends the given string to all the lines of wrapped output except the first.\n",
    "\n",
    "placeholder: It’s default value is set to ‘ […]’. This method appends the string at the end of the output text if it has been truncated.\n",
    "\n",
    "max_lines: It’s default value is set to None. If the value is not None, then the output text contains at most max_lines lines, having placeholder at the end of the output.\n",
    "\n",
    "break_long_words: It’s default value is set to True. If TRUE, then words longer than width are broken to fit every line in the given width. If it is FALSE, long words will not be broken and will be put on a line by themselves, in order to minimize the amount by which width is exceeded.\n",
    "\n",
    "break_on_hyphens: It’s default value is set to True. If the value is equal to TRUE, wrapping occurs on whitespaces and right after hyphens in compound words. If the value is equal to FALSE, line breaks occur only on whitespaces, but you need to set break_long_words to FALSE if you want truly insecable words."
   ]
  },
  {
   "cell_type": "code",
   "execution_count": 4,
   "metadata": {},
   "outputs": [
    {
     "name": "stdout",
     "output_type": "stream",
     "text": [
      "This function wraps the input paragraph such that\n",
      "each line  in the paragraph is at most width\n",
      "characters long. The wrap method  returns a list\n",
      "of output lines. The returned list  is empty if\n",
      "the wrapped  output has no content.\n"
     ]
    }
   ],
   "source": [
    "#1.wrap().\n",
    "import textwrap\n",
    "value = '''This function wraps the input paragraph such that each line \n",
    "in the paragraph is at most width characters long. The wrap method \n",
    "returns a list of output lines. The returned list \n",
    "is empty if the wrapped \n",
    "output has no content.'''\n",
    "wrapper = textwrap.TextWrapper(width = 50)\n",
    "a = wrapper.wrap(text = value)\n",
    "for i in a:\n",
    "    print(i)"
   ]
  },
  {
   "cell_type": "code",
   "execution_count": 6,
   "metadata": {},
   "outputs": [
    {
     "name": "stdout",
     "output_type": "stream",
     "text": [
      "This function returns the answer as STRING and not\n",
      "LIST.\n"
     ]
    }
   ],
   "source": [
    "#2.fill()\n",
    "import textwrap\n",
    "value = 'This function returns the answer as STRING and not LIST.'\n",
    "wrapper = textwrap.TextWrapper(width = 50)\n",
    "a = wrapper.fill(text = value)\n",
    "print(a)"
   ]
  },
  {
   "cell_type": "code",
   "execution_count": 11,
   "metadata": {},
   "outputs": [
    {
     "name": "stdout",
     "output_type": "stream",
     "text": [
      "' hello\\n    world'\n",
      "'hello\\n   world'\n"
     ]
    }
   ],
   "source": [
    "#3.dedent().\n",
    "import textwrap\n",
    "value = '''\\\n",
    " hello\n",
    "    world'''\n",
    "print(repr(value))\n",
    "a = textwrap.dedent(value)\n",
    "print(repr(a))"
   ]
  },
  {
   "cell_type": "code",
   "execution_count": 14,
   "metadata": {},
   "outputs": [
    {
     "name": "stdout",
     "output_type": "stream",
     "text": [
      "This function wraps the input paragraph such that each line  in the\n",
      "paragraph is at most width characters long. The wrap method  returns a\n",
      "list of output lines. The returned list  is empty if the wrapped\n",
      "output has no content.\n",
      "This [...]\n"
     ]
    }
   ],
   "source": [
    "#4.shorten().\n",
    "import textwrap\n",
    "value = '''This function wraps the input paragraph such that each line \n",
    "in the paragraph is at most width characters long. The wrap method \n",
    "returns a list of output lines. The returned list \n",
    "is empty if the wrapped \n",
    "output has no content.'''\n",
    "wrapper = textwrap.dedent(text = value)\n",
    "original = textwrap.fill(text = wrapper)\n",
    "print(original)\n",
    "shorten = textwrap.shorten(text = value, width = 10)\n",
    "a = textwrap.fill(text = shorten)\n",
    "print(a)"
   ]
  },
  {
   "cell_type": "code",
   "execution_count": 16,
   "metadata": {},
   "outputs": [
    {
     "name": "stdout",
     "output_type": "stream",
     "text": [
      " hello world\n",
      "+hello world\n"
     ]
    }
   ],
   "source": [
    "#5.indent().\n",
    "import textwrap\n",
    "s = 'hello world'\n",
    "s1 = textwrap.indent(text = s, prefix = ' ')\n",
    "print(s1)\n",
    "s2 = textwrap.indent(text = s, prefix = '+', predicate = lambda line: True)\n",
    "print(s2)"
   ]
  },
  {
   "cell_type": "markdown",
   "metadata": {},
   "source": [
    "# Secrets Python module to generate secure random numbers."
   ]
  },
  {
   "cell_type": "markdown",
   "metadata": {},
   "source": [
    "The secrets module is used for generating random numbers for managing important data such as passwords, account authentication, security tokens, and related secrets, that are cryptographically strong. This module is responsible for providing access to the most secure source of randomness. This module is present in Python 3.6 and above."
   ]
  },
  {
   "cell_type": "code",
   "execution_count": 7,
   "metadata": {},
   "outputs": [
    {
     "name": "stdout",
     "output_type": "stream",
     "text": [
      "mXrQT9Bb1F\n"
     ]
    }
   ],
   "source": [
    "#1.choice()\n",
    "import secrets\n",
    "import string\n",
    "alpha = string.ascii_letters + string.digits\n",
    "password = ''.join(secrets.choice(alpha) for i in range(10))\n",
    "print(password)"
   ]
  },
  {
   "cell_type": "code",
   "execution_count": 8,
   "metadata": {},
   "outputs": [
    {
     "name": "stdout",
     "output_type": "stream",
     "text": [
      "mwVuxP357q\n"
     ]
    }
   ],
   "source": [
    "#example2.\n",
    "import secrets\n",
    "import string\n",
    "alpha = string.ascii_letters + string.digits\n",
    "while True:\n",
    "    password = ''.join(secrets.choice(alpha) for i in range(10))\n",
    "    if(any(c.lower() for c in password) and (any(c.upper() for c in password)) and sum(c.isdigit() for c in password) >= 3):\n",
    "        print(password)\n",
    "        break"
   ]
  },
  {
   "cell_type": "code",
   "execution_count": 11,
   "metadata": {},
   "outputs": [
    {
     "name": "stdout",
     "output_type": "stream",
     "text": [
      "10\n"
     ]
    }
   ],
   "source": [
    "#2.randbelow(n)\n",
    "import secrets\n",
    "dig = secrets.randbelow(20)\n",
    "print(dig)"
   ]
  },
  {
   "cell_type": "code",
   "execution_count": 23,
   "metadata": {},
   "outputs": [
    {
     "name": "stdout",
     "output_type": "stream",
     "text": [
      "0\n"
     ]
    }
   ],
   "source": [
    "#3.randbits(k)\n",
    "import secrets\n",
    "a = secrets.randbits(2)\n",
    "print(a)"
   ]
  },
  {
   "cell_type": "markdown",
   "metadata": {},
   "source": [
    "__Generating Tokens__"
   ]
  },
  {
   "cell_type": "code",
   "execution_count": 25,
   "metadata": {},
   "outputs": [
    {
     "name": "stdout",
     "output_type": "stream",
     "text": [
      "b\"Dp\\x7f\\xeaN8\\xa5\\x9f\\xa5'X\\xab\\x03[\\xef\\xc0qf\\xfes\\xc6\\xff\\x82\\xcc\\x9e\\\\R\\xc0e\\xbb\\xde\\xb6\"\n",
      "b'\\x1b\\x10u\\x01\\x0b+\\xad\\x9e\\x1bB\\xab\\xa1I\\xf2#'\n"
     ]
    }
   ],
   "source": [
    "#1.token_bytes()\n",
    "import secrets\n",
    "token1 = secrets.token_bytes()\n",
    "print(token1)\n",
    "token2 = secrets.token_bytes(15)\n",
    "print(token2)"
   ]
  },
  {
   "cell_type": "code",
   "execution_count": 28,
   "metadata": {},
   "outputs": [
    {
     "name": "stdout",
     "output_type": "stream",
     "text": [
      "e54b7b0bc218d08715a4\n",
      "6bd0efc46f5e81905a6c9bbc0476a116\n"
     ]
    }
   ],
   "source": [
    "#2.token_hex().\n",
    "import secrets\n",
    "token1 = secrets.token_hex(10)\n",
    "print(token1)\n",
    "token2 = secrets.token_hex(16)\n",
    "print(token2)"
   ]
  },
  {
   "cell_type": "code",
   "execution_count": 29,
   "metadata": {},
   "outputs": [
    {
     "name": "stdout",
     "output_type": "stream",
     "text": [
      "https://github.com/Raghu010hvKiD7xkXmiVwabx-3s2_DEwYU9hEMufF0nyBGrenxU\n"
     ]
    }
   ],
   "source": [
    "#3.token_urlsafe().\n",
    "import secrets\n",
    "a = 'https://github.com/Raghu010' + secrets.token_urlsafe()\n",
    "print(a)"
   ]
  },
  {
   "cell_type": "markdown",
   "metadata": {},
   "source": [
    "# Pickle-Python object Serialization."
   ]
  },
  {
   "cell_type": "markdown",
   "metadata": {},
   "source": [
    "The pickle module is used for implementing binary protocols for serializing and de-serializing a Python object structure.\n",
    "\n",
    "Pickling: It is a process where a Python object hierarchy is converted into a byte stream.\n",
    "\n",
    "Unpickling: It is the inverse of Pickling process where a byte stream is converted into an object hierarchy.\n",
    "\n",
    "__Module interface__\n",
    "\n",
    "dumps() – This function is called to serialize an object hierarchy.\n",
    "\n",
    "loads() – This function is called to de-serialize a data stream.\n",
    "\n",
    "For more control over serialization and de-serialization, Pickler or an Unpickler objects are created respectively.\n",
    "\n",
    "__Constants provided by pickle module__\n",
    "\n",
    "1.__Pickle Highest protocol__\n",
    "This is an integer value representing the highest protocol version available. This is considered as the protocol value which is passed to the functions dump(), dumps().\n",
    "\n",
    "2.__Pickle Default protocol__\n",
    "This is an integer value representing the default protocol used for pickling whose value may be less than the value of highest protocol."
   ]
  },
  {
   "cell_type": "code",
   "execution_count": 26,
   "metadata": {},
   "outputs": [
    {
     "name": "stdout",
     "output_type": "stream",
     "text": [
      "WRITING: pickle (elkcip)\n"
     ]
    },
    {
     "ename": "TypeError",
     "evalue": "string argument expected, got 'bytes'",
     "output_type": "error",
     "traceback": [
      "\u001b[1;31m---------------------------------------------------------------------------\u001b[0m",
      "\u001b[1;31mTypeError\u001b[0m                                 Traceback (most recent call last)",
      "\u001b[1;32m<ipython-input-26-6fde4246c45e>\u001b[0m in \u001b[0;36m<module>\u001b[1;34m\u001b[0m\n\u001b[0;32m     23\u001b[0m \u001b[1;32mfor\u001b[0m \u001b[0mo\u001b[0m \u001b[1;32min\u001b[0m \u001b[0mdata\u001b[0m\u001b[1;33m:\u001b[0m\u001b[1;33m\u001b[0m\u001b[1;33m\u001b[0m\u001b[0m\n\u001b[0;32m     24\u001b[0m     \u001b[0mprint\u001b[0m\u001b[1;33m(\u001b[0m\u001b[1;34m'WRITING: %s (%s)'\u001b[0m \u001b[1;33m%\u001b[0m \u001b[1;33m(\u001b[0m\u001b[0mo\u001b[0m\u001b[1;33m.\u001b[0m\u001b[0mname\u001b[0m\u001b[1;33m,\u001b[0m \u001b[0mo\u001b[0m\u001b[1;33m.\u001b[0m\u001b[0mname_backwards\u001b[0m\u001b[1;33m)\u001b[0m\u001b[1;33m)\u001b[0m\u001b[1;33m\u001b[0m\u001b[1;33m\u001b[0m\u001b[0m\n\u001b[1;32m---> 25\u001b[1;33m     \u001b[0mpickle\u001b[0m\u001b[1;33m.\u001b[0m\u001b[0mdump\u001b[0m\u001b[1;33m(\u001b[0m\u001b[0mo\u001b[0m\u001b[1;33m,\u001b[0m \u001b[0mout_s\u001b[0m\u001b[1;33m)\u001b[0m\u001b[1;33m\u001b[0m\u001b[1;33m\u001b[0m\u001b[0m\n\u001b[0m\u001b[0;32m     26\u001b[0m     \u001b[0mout_s\u001b[0m\u001b[1;33m.\u001b[0m\u001b[0mflush\u001b[0m\u001b[1;33m(\u001b[0m\u001b[1;33m)\u001b[0m\u001b[1;33m\u001b[0m\u001b[1;33m\u001b[0m\u001b[0m\n",
      "\u001b[1;31mTypeError\u001b[0m: string argument expected, got 'bytes'"
     ]
    }
   ],
   "source": [
    "#1.dump().\n",
    "import pickle \n",
    "import io \n",
    "  \n",
    "class SimpleObject(object): \n",
    "  \n",
    "    def __init__(self, name): \n",
    "        self.name = name \n",
    "        l = list(name) \n",
    "        l.reverse() \n",
    "        self.name_backwards = ''.join(l) \n",
    "        return\n",
    "  \n",
    "data = [] \n",
    "data.append(SimpleObject('pickle')) \n",
    "data.append(SimpleObject('cPickle')) \n",
    "data.append(SimpleObject('last')) \n",
    "  \n",
    "# Simulate a file with StringIO \n",
    "out_s = io.StringIO() \n",
    "  \n",
    "# Write to the stream \n",
    "for o in data: \n",
    "    print('WRITING: %s (%s)' % (o.name, o.name_backwards)) \n",
    "    pickle.dump(o, out_s) \n",
    "    out_s.flush() "
   ]
  },
  {
   "cell_type": "code",
   "execution_count": 27,
   "metadata": {},
   "outputs": [
    {
     "name": "stdout",
     "output_type": "stream",
     "text": [
      "b'\\x80\\x04\\x95#\\x00\\x00\\x00\\x00\\x00\\x00\\x00]\\x94}\\x94(\\x8c\\x01a\\x94\\x8c\\x01A\\x94\\x8c\\x01b\\x94K\\x02\\x8c\\x01c\\x94G@\\x08\\x00\\x00\\x00\\x00\\x00\\x00ua.'\n"
     ]
    }
   ],
   "source": [
    "#2.dumps().\n",
    "import pickle\n",
    "data = [{'a':'A', 'b':2, 'c':3.0}]\n",
    "data_string = pickle.dumps(data)\n",
    "print(data_string)"
   ]
  },
  {
   "cell_type": "code",
   "execution_count": null,
   "metadata": {},
   "outputs": [],
   "source": []
  }
 ],
 "metadata": {
  "kernelspec": {
   "display_name": "Python 3",
   "language": "python",
   "name": "python3"
  },
  "language_info": {
   "codemirror_mode": {
    "name": "ipython",
    "version": 3
   },
   "file_extension": ".py",
   "mimetype": "text/x-python",
   "name": "python",
   "nbconvert_exporter": "python",
   "pygments_lexer": "ipython3",
   "version": "3.8.2"
  }
 },
 "nbformat": 4,
 "nbformat_minor": 4
}
